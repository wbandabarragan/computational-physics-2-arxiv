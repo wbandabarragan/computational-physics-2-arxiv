{
 "cells": [
  {
   "cell_type": "markdown",
   "id": "80cd4f5e",
   "metadata": {},
   "source": [
    "# Final Exam (part 1) - Computational Physics 2\n",
    "\n",
    "When you finish this part, please send the .ipynb file via email to wbanda@yachaytech.edu.ec\n",
    "\n",
    "This part is open-book and individual. It includes short questions on concepts and numerics.\n",
    "\n",
    "You can call your notebook with your surname, e.g. name-final-p1.ipynb, and also include your name on the notebook.\n",
    "\n",
    "### Instructions:\n",
    "\n",
    "\n",
    "- **Duration:** 60 minutes max. Please be very concise!\n",
    "</br>\n",
    "\n",
    "- Within a single python notebook, provide concise answers to the following statements.\n",
    "</br>\n",
    "\n",
    "- Except for question 1, there is no need to add code in this part of the exam. Just markdown text and equations in latex (if really needed).\n",
    "</br>\n",
    "\n",
    "- **The answers should be written in your own words. Do not copy material from the Internet.**\n"
   ]
  },
  {
   "cell_type": "markdown",
   "id": "1330d288",
   "metadata": {},
   "source": [
    "## Name:"
   ]
  },
  {
   "cell_type": "markdown",
   "id": "7a720669",
   "metadata": {},
   "source": [
    "### 1. (2 points) Sympy ODE solvers and radioactive decay.\n",
    "\n",
    "(a) Use sympy to solve the radioactive decay equation for Carbon-14 with decay constant, $\\alpha = 3.8394\\times10^{-12}\\,\\rm s^{-1}$. If there are $N(t)$ radioactive nuclei at time $t$ and $N_0$ at $t=0,$ and if their rate of decay $(-dN/dt)$ is proportional to the number of undecayed nuclei, with decay constant of proportionality $\\alpha$, then:\n",
    "\n",
    "$$\n",
    "\\frac{dN}{dt} = -\\alpha\\,N\n",
    "$$\n",
    "\n",
    "(b) Make a plot of the solution, $\\frac{N(t)}{N_0}$, versus time, $t$, in years. Based on the result, how far back in time can Carbon-14 be used as a tracer?"
   ]
  },
  {
   "cell_type": "markdown",
   "id": "dda44f18",
   "metadata": {},
   "source": [
    "### 2. (1.5 points) Solving PDEs using the FFT method \n",
    "\n",
    "(a) Briefly explain how the FFT method for solving PDEs works and when we can use it.\n",
    "\n",
    "\n",
    "(b) List the main steps of the FFT method."
   ]
  },
  {
   "cell_type": "markdown",
   "id": "b553659c",
   "metadata": {},
   "source": [
    "### 3. (2.5 points) Numerics for Computational Fluid Dynamics (CFD)\n",
    "\n",
    "(a) What is the main advantage of using finite-volume methods over finite-difference methods for CFD?\n",
    "\n",
    "\n",
    "(b) Why do we need to introduce slope limiters in finite-volume approaches?\n",
    "\n",
    "\n",
    "(c) In class, we introduced several slope limiters to our finite-volume method. The relevant part of the code is below. Add new lines of code for a new slope limiter called \"ospre\", which deals with the slopes ($\\phi_{\\rm ospre}$) as follows:\n",
    "\n",
    "$$\\phi_{\\rm ospre} (r) = \\frac{1.5 \\left(r^2 + r  \\right) }{\\left(r^2 + r +1 \\right)}$$\n",
    "\n",
    "where $r$ represents the ratio of successive gradients on the solution array, $u$:\n",
    "\n",
    "$$r_{i} = \\frac{u_{i} - u_{i-1}}{u_{i+1} - u_{i}}$$\n",
    "\n",
    "#### Add your code for OSPRE below (there is no need to test it):\n",
    "\n",
    "```python \n",
    "    if method == \"godunov\":\n",
    "        # 1st approach: Godunov approach\n",
    "        slope[:] = 0. \n",
    "    elif method == \"unlimited\":\n",
    "        # 2nd approach: Centred difference method\n",
    "        for i in range(ilo - 1, ihi + 2):\n",
    "            slope[i] = 0.5*(a[i + 1] - a[i-1])/dx\n",
    "    elif method == \"minmod\":  \n",
    "        # 3rd approach: minmod limiter\n",
    "        for i in range(ilo - 1, ihi + 2):\n",
    "            slope[i] = minmod((a[i] - a[i-1])/dx, (a[i+1] - a[i])/dx) \n",
    "```\n"
   ]
  },
  {
   "cell_type": "markdown",
   "id": "4c5ca5fa",
   "metadata": {},
   "source": [
    "### 4. (2 points) Software design and HPC computing\n",
    "\n",
    "(a) List the main steps that we need to follow to parallelise python code using the MPI library.\n",
    "\n",
    "\n",
    "(b) Briefly explain what the SSH protocol is and provide an example on how we use it."
   ]
  }
 ],
 "metadata": {
  "kernelspec": {
   "display_name": "Python 3 (ipykernel)",
   "language": "python",
   "name": "python3"
  },
  "language_info": {
   "codemirror_mode": {
    "name": "ipython",
    "version": 3
   },
   "file_extension": ".py",
   "mimetype": "text/x-python",
   "name": "python",
   "nbconvert_exporter": "python",
   "pygments_lexer": "ipython3",
   "version": "3.7.16"
  }
 },
 "nbformat": 4,
 "nbformat_minor": 5
}

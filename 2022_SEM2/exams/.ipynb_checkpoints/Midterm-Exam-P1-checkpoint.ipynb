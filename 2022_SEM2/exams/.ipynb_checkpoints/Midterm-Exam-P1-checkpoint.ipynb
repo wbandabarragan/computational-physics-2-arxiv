{
 "cells": [
  {
   "cell_type": "markdown",
   "id": "e6d600d5",
   "metadata": {},
   "source": [
    "# Midterm Exam (part 1) - Computational Physics 2\n",
    "\n",
    "- When you finish this part, please send the **.ipynb file** via email to wbanda@yachaytech.edu.ec\n",
    "\n",
    "\n",
    "- This part is open-book and individual. **It includes short questions on concepts and numerics.**\n",
    "\n",
    "\n",
    "- You can call your notebook with your surname, e.g. **name-midterm-p1.ipynb**, and also include your name on the notebook.\n",
    "\n",
    "\n",
    "## Instructions:\n",
    "\n",
    "- **Duration: 45 minutes max.**\n",
    "\n",
    "\n",
    "- Within a single python notebook, provide concise answers to the following statements.\n",
    "\n",
    "\n",
    "- **There is no need to add code in this part of the exam.** Just markdown text and equations in latex.\n",
    "\n",
    "\n",
    "- The answers should be written in your own words. **Do not copy material from the Internet.**"
   ]
  },
  {
   "cell_type": "markdown",
   "id": "23199e35",
   "metadata": {},
   "source": [
    "## Name:"
   ]
  },
  {
   "cell_type": "markdown",
   "id": "87380d28",
   "metadata": {},
   "source": []
  },
  {
   "cell_type": "markdown",
   "id": "7878b85c",
   "metadata": {},
   "source": [
    "### 1. (1 point) Euler ODE integrators\n",
    "\n",
    "Explain the difference between explicit and implicit Euler integrators for Ordinary Differential Equations (ODEs)."
   ]
  },
  {
   "cell_type": "markdown",
   "id": "927e2c94",
   "metadata": {},
   "source": []
  },
  {
   "cell_type": "markdown",
   "id": "ffb7db48",
   "metadata": {},
   "source": [
    "### 2. (1.5 points) RK 3 method\n",
    "\n",
    "Design your own Runge-Kutta 3 integrator:\n",
    "\n",
    "2.1. Write down a RK 3 formula.\n",
    "\n",
    "2.2. Write down expressions for the slopes.\n",
    "\n",
    "2.3. Indicate the expected order of accuracy."
   ]
  },
  {
   "cell_type": "markdown",
   "id": "37c41af9",
   "metadata": {},
   "source": []
  },
  {
   "cell_type": "markdown",
   "id": "50f727de",
   "metadata": {},
   "source": [
    "### 3. (1 point) Shooting method\n",
    "\n",
    "Explain how the shooting method (used for solving ODEs) works."
   ]
  },
  {
   "cell_type": "markdown",
   "id": "977d545b",
   "metadata": {},
   "source": []
  },
  {
   "cell_type": "markdown",
   "id": "42622c86",
   "metadata": {},
   "source": [
    "### 4. (1 point) Errors in computing\n",
    "\n",
    "What is the difference between truncation errors and round-off errors when doing computations?"
   ]
  },
  {
   "cell_type": "markdown",
   "id": "0db7b522",
   "metadata": {},
   "source": []
  },
  {
   "cell_type": "markdown",
   "id": "89a1bf64",
   "metadata": {},
   "source": [
    "### 5. (1 point) FFT method for PDEs\n",
    "\n",
    "Explain the main steps of the FFT method used for solving partial differential equations (PDEs)."
   ]
  },
  {
   "cell_type": "markdown",
   "id": "9d8877d6",
   "metadata": {},
   "source": []
  },
  {
   "cell_type": "markdown",
   "id": "58336543",
   "metadata": {},
   "source": [
    "### 6. (1 point) Accuracy\n",
    "\n",
    "Explain what the accuracy of a numerical algorithm refers to."
   ]
  },
  {
   "cell_type": "markdown",
   "id": "189ffa66",
   "metadata": {},
   "source": []
  },
  {
   "cell_type": "markdown",
   "id": "721bc8b9",
   "metadata": {},
   "source": [
    "### 7. (1.5 point) Numerical Stability\n",
    "\n",
    "Briefly explain three different ways in which we can determine the stability of a numerical scheme."
   ]
  },
  {
   "cell_type": "markdown",
   "id": "642fbcfe",
   "metadata": {},
   "source": []
  },
  {
   "cell_type": "markdown",
   "id": "f88d0256",
   "metadata": {},
   "source": [
    "### 8. (1 point) The heat equation\n",
    "\n",
    "Mathematically explain why the heat equation is used to study difussion."
   ]
  },
  {
   "cell_type": "markdown",
   "id": "29a87dc5",
   "metadata": {},
   "source": []
  },
  {
   "cell_type": "markdown",
   "id": "8034ac9e",
   "metadata": {},
   "source": [
    "### 9. (1 point) Finite difference method\n",
    "\n",
    "9.1. Write down the 1D Poisson equation. \n",
    "\n",
    "9.2. Write down its central-difference approximation including the error term."
   ]
  },
  {
   "cell_type": "markdown",
   "id": "bb3cdff4",
   "metadata": {},
   "source": []
  }
 ],
 "metadata": {
  "kernelspec": {
   "display_name": "Python 3 (ipykernel)",
   "language": "python",
   "name": "python3"
  },
  "language_info": {
   "codemirror_mode": {
    "name": "ipython",
    "version": 3
   },
   "file_extension": ".py",
   "mimetype": "text/x-python",
   "name": "python",
   "nbconvert_exporter": "python",
   "pygments_lexer": "ipython3",
   "version": "3.9.12"
  }
 },
 "nbformat": 4,
 "nbformat_minor": 5
}

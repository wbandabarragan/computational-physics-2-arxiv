{
 "cells": [
  {
   "cell_type": "code",
   "execution_count": 1,
   "id": "a53905a0",
   "metadata": {},
   "outputs": [],
   "source": [
    "import numpy as np\n",
    "\n",
    "import matplotlib.pyplot as plt"
   ]
  },
  {
   "cell_type": "code",
   "execution_count": 2,
   "id": "0ddab44c",
   "metadata": {},
   "outputs": [
    {
     "name": "stdout",
     "output_type": "stream",
     "text": [
      "5.000000000000001 8.660254037844386\n"
     ]
    }
   ],
   "source": [
    "x0 = 0.\n",
    "y0 = 0.\n",
    "\n",
    "v0 = 10.\n",
    "\n",
    "alpha = np.pi/3.\n",
    "vx = vx_0 = v0*np.cos(alpha)\n",
    "\n",
    "vy_0 = v0*np.sin(alpha)\n",
    "\n",
    "g = 9.8\n",
    "\n",
    "t = np.arange(0., 1.2, 0.05)\n",
    "\n",
    "print(vx_0, vy_0)"
   ]
  },
  {
   "cell_type": "code",
   "execution_count": 3,
   "id": "17dd5611",
   "metadata": {},
   "outputs": [],
   "source": [
    "def parabolic_motion(t):\n",
    "    \n",
    "    x_t = x0 + vx*t\n",
    "\n",
    "    y_t = y0 + vy_0*t -0.5*g*t**2\n",
    "    \n",
    "    return x_t, y_t\n",
    "\n",
    "\n",
    "def veloc_parabolic(t):\n",
    "    \n",
    "    vx_t = vx\n",
    "    \n",
    "    vy_t = vy_0 - g*t\n",
    "    \n",
    "    return vx_t, vy_t"
   ]
  },
  {
   "cell_type": "code",
   "execution_count": 4,
   "id": "6e6e8a01",
   "metadata": {},
   "outputs": [
    {
     "name": "stdout",
     "output_type": "stream",
     "text": [
      "24\n",
      "[0. 0.]\n"
     ]
    }
   ],
   "source": [
    "coord_list = []\n",
    "veloc_list = []\n",
    "\n",
    "for i in t:\n",
    "    \n",
    "    #print(i)\n",
    "    coord_list.append(parabolic_motion(i))\n",
    "    veloc_list.append(veloc_parabolic(i))    \n",
    "\n",
    "print(len(coord_list))\n",
    "\n",
    "\n",
    "x_coord = np.array(coord_list)\n",
    "v_coord = np.array(veloc_list)\n",
    "\n",
    "print(x_coord[0,:])"
   ]
  },
  {
   "cell_type": "code",
   "execution_count": 7,
   "id": "b2bcb5a5",
   "metadata": {},
   "outputs": [
    {
     "data": {
      "image/png": "[encoded data removed]",
      "text/plain": [
       "<Figure size 640x480 with 1 Axes>"
      ]
     },
     "metadata": {},
     "output_type": "display_data"
    }
   ],
   "source": [
    "plt.figure()\n",
    "\n",
    "plt.xlim(0., 10.)\n",
    "\n",
    "plt.ylim(0., 10.)\n",
    "\n",
    "for i in range(len(t)):\n",
    "    \n",
    "    #print(i)\n",
    "    plt.plot(x_coord[i,0], x_coord[i,1], marker = \"+\", linestyle = \"\", color = \"blue\")\n",
    "    \n",
    "    plt.quiver(x_coord[i,0], x_coord[i,1], v_coord[i,0], v_coord[i,1], color = \"red\")\n",
    "\n",
    "    plt.savefig(\"./parabolic_{}\".format(i))\n",
    "#plt.show()"
   ]
  },
  {
   "cell_type": "code",
   "execution_count": null,
   "id": "88f6ca06",
   "metadata": {},
   "outputs": [],
   "source": []
  }
 ],
 "metadata": {
  "kernelspec": {
   "display_name": "Python 3 (ipykernel)",
   "language": "python",
   "name": "python3"
  },
  "language_info": {
   "codemirror_mode": {
    "name": "ipython",
    "version": 3
   },
   "file_extension": ".py",
   "mimetype": "text/x-python",
   "name": "python",
   "nbconvert_exporter": "python",
   "pygments_lexer": "ipython3",
   "version": "3.7.16"
  }
 },
 "nbformat": 4,
 "nbformat_minor": 5
}

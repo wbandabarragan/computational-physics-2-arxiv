{
 "cells": [
  {
   "cell_type": "markdown",
   "id": "4110b446",
   "metadata": {},
   "source": [
    "## Problem: Advect a top-hat function\n",
    "\n",
    "Write a code to solve the 1-d linear advection equation using the FTCS discretisation scheme:\n",
    "\n",
    "$$u_i^{j+1} =u_i^j - 0.5\\,c\\frac{\\Delta t}{\\Delta x}(u_{i+1}^j - u_{i-1}^j )$$\n",
    "\n",
    "\n",
    "on the domain $[0,1]$ with $c=1$ and periodic boundary conditions. For initial conditions, try a top-hat function:\n",
    "\n",
    "$$ \n",
    "u(x,0)= \n",
    "     \\begin{cases}\n",
    "       0, & x < 1/3\\\\\n",
    "       1, & 1/3 \\leq x \\leq 2/3,\\\\\n",
    "       0, & x > 2/3,\\\\\n",
    "     \\end{cases}\n",
    "$$\n",
    "\n",
    "**Note:**\n",
    "\n",
    "For a general treatment of boundary conditions, you would initialize the ghost points to their corresponding periodic data and apply the difference equations to zones $0,..., N − 1$. However, for periodic BCs on this grid, points $0$ and $N − 1$ are identical, so you could do the update in this special case on points $1,..., N − 1$ without the need for ghost points and then set $u_0 = u_N−1$ after the update.\n",
    "\n",
    "Run you program for one or more periods (one period is $T = 1/c$) with several different CFL numbers and notice that there is substantial numerical dissipation."
   ]
  },
  {
   "cell_type": "code",
   "execution_count": 1,
   "id": "efebd3c1",
   "metadata": {},
   "outputs": [],
   "source": [
    "import numpy as np\n",
    "import matplotlib.pyplot as plt"
   ]
  },
  {
   "cell_type": "code",
   "execution_count": 2,
   "id": "6f064997",
   "metadata": {},
   "outputs": [
    {
     "name": "stdout",
     "output_type": "stream",
     "text": [
      "(103,)\n"
     ]
    }
   ],
   "source": [
    "# Create domain\n",
    "\n",
    "xmin = 0.\n",
    "xmax = 1.\n",
    "\n",
    "# Number of points on the grid\n",
    "Nx = 101\n",
    "\n",
    "# Number of ghost cells\n",
    "Ng = 1\n",
    "\n",
    "# Step size\n",
    "delta_x = (xmax - xmin)/(Nx - 1)\n",
    "\n",
    "# Define x-axis\n",
    "x = np.arange(xmin - Ng*delta_x , xmax + (Ng + 1)*delta_x, delta_x)\n",
    "\n",
    "print(x.shape)\n",
    "#print(x)"
   ]
  },
  {
   "cell_type": "code",
   "execution_count": 3,
   "id": "3bb5f082",
   "metadata": {},
   "outputs": [],
   "source": [
    "def top_hat(x):\n",
    "    \n",
    "    if (1/3 <= x <= 2/3):\n",
    "        return 1.0\n",
    "    else:\n",
    "        return 0.0"
   ]
  },
  {
   "cell_type": "code",
   "execution_count": 4,
   "id": "6306b96e",
   "metadata": {},
   "outputs": [
    {
     "name": "stdout",
     "output_type": "stream",
     "text": [
      "(103,) (103,)\n"
     ]
    }
   ],
   "source": [
    "# y axis\n",
    "y = []\n",
    "\n",
    "for j in range(len(x)):\n",
    "    \n",
    "    y.append(top_hat(x[j]))\n",
    "\n",
    "y = np.array(y)\n",
    "\n",
    "print(x.shape, y.shape)"
   ]
  },
  {
   "cell_type": "code",
   "execution_count": 5,
   "id": "ed347e7a",
   "metadata": {},
   "outputs": [
    {
     "data": {
      "image/png": "[encoded data removed]",
      "text/plain": [
       "<Figure size 288x216 with 1 Axes>"
      ]
     },
     "metadata": {
      "needs_background": "light"
     },
     "output_type": "display_data"
    }
   ],
   "source": [
    "# Plot the initial profile\n",
    "\n",
    "plt.figure(figsize = (4,3))\n",
    "plt.plot(x, y)\n",
    "plt.show()\n",
    "\n"
   ]
  },
  {
   "cell_type": "code",
   "execution_count": 6,
   "id": "2c3a5b34",
   "metadata": {},
   "outputs": [
    {
     "name": "stdout",
     "output_type": "stream",
     "text": [
      "(103,) (103,)\n"
     ]
    },
    {
     "data": {
      "image/png": "[encoded data removed]",
      "text/plain": [
       "<Figure size 432x288 with 1 Axes>"
      ]
     },
     "metadata": {
      "needs_background": "light"
     },
     "output_type": "display_data"
    }
   ],
   "source": [
    "# Empty array that will store our slns\n",
    "u_sln0 = np.zeros((len(x)), dtype=np.float64)\n",
    "u_sln  = np.zeros((len(x)), dtype=np.float64)\n",
    "\n",
    "print(u_sln0.shape, u_sln.shape)\n",
    "\n",
    "# This is the initial vector\n",
    "y_0 = y.copy()\n",
    "u_sln0 = y.copy()\n",
    "\n",
    "# Alternative code for the initial vector\n",
    "\n",
    "#u_sln0[:] = 0.0\n",
    "#u_sln0[np.logical_and(x >= 1./3., x <= 2./3.)] = 1.0\n",
    "#print(u_sln0.shape)\n",
    "\n",
    "#print(u_sln0)\n",
    "\n",
    "# Time discretisation\n",
    "CFL = 0.5 ## <= 1\n",
    "c = 1.0\n",
    "\n",
    "# Time step\n",
    "delta_t = CFL*delta_x/c\n",
    "\n",
    "# Time -> 1 period so that the profile stays on spot\n",
    "t_period = (xmax - xmin)/c\n",
    "\n",
    "# Initialise time at t=0\n",
    "t = 0.\n",
    "\n",
    "#print(Ng-1, Nx+Ng-2)\n",
    "#print(Ng+1, Nx+Ng)\n",
    "\n",
    "# While statement\n",
    "while t < 0.1*t_period:\n",
    "    \n",
    "    u_sln0[Ng-1]  = u_sln0[Nx+Ng-2]\n",
    "    u_sln0[Nx+Ng] = u_sln0[Ng+1]\n",
    "    \n",
    "    for i in range(Ng, Ng+Nx):\n",
    "        # FTCS method\n",
    "        u_sln[i] = u_sln0[i] - 0.5*CFL*(u_sln0[i+1] - u_sln0[i-1])\n",
    "        \n",
    "    u_sln0[:] = u_sln[:]\n",
    "    t += delta_t\n",
    "\n",
    "    \n",
    "# Plot the initial profile\n",
    "\n",
    "plt.plot(x[Ng:Ng+Nx], y_0[Ng:Ng+Nx], ls=\":\", color = 'red', label=\"initial\")\n",
    "\n",
    "plt.plot(x[Ng:Ng+Nx],u_sln[Ng:Ng+Nx], color = 'blue', label=r\"$C = {}$\".format(CFL))\n",
    "\n",
    "plt.xlabel(r\"$x$\")\n",
    "plt.ylabel(r\"$u$\")\n",
    "\n",
    "plt.legend(frameon=False, loc=\"best\")\n",
    "\n",
    "plt.tight_layout()\n",
    "\n",
    "plt.show()"
   ]
  },
  {
   "cell_type": "code",
   "execution_count": 7,
   "id": "d56081e6",
   "metadata": {},
   "outputs": [
    {
     "name": "stdout",
     "output_type": "stream",
     "text": [
      "(103,) (103,)\n"
     ]
    },
    {
     "data": {
      "image/png": "[encoded data removed]",
      "text/plain": [
       "<Figure size 432x288 with 1 Axes>"
      ]
     },
     "metadata": {
      "needs_background": "light"
     },
     "output_type": "display_data"
    }
   ],
   "source": [
    "# Empty array that will store our slns\n",
    "u_sln0 = np.zeros((len(x)), dtype=np.float64)\n",
    "u_sln  = np.zeros((len(x)), dtype=np.float64)\n",
    "\n",
    "print(u_sln0.shape, u_sln.shape)\n",
    "\n",
    "# This is the initial vector\n",
    "y_0 = y.copy()\n",
    "u_sln0 = y.copy()\n",
    "\n",
    "# Alternative code for the initial vector\n",
    "\n",
    "#u_sln0[:] = 0.0\n",
    "#u_sln0[np.logical_and(x >= 1./3., x <= 2./3.)] = 1.0\n",
    "#print(u_sln0.shape)\n",
    "\n",
    "#print(u_sln0)\n",
    "\n",
    "# Time discretisation\n",
    "CFL = 0.1 ## <= 1\n",
    "c = 1.0\n",
    "\n",
    "# Time step\n",
    "delta_t = CFL*delta_x/c\n",
    "\n",
    "# Time -> 1 period so that the profile stays on spot\n",
    "t_period = (xmax - xmin)/c\n",
    "\n",
    "# Initialise time at t=0\n",
    "t = 0.\n",
    "\n",
    "#print(Ng-1, Nx+Ng-2)\n",
    "#print(Ng+1, Nx+Ng)\n",
    "\n",
    "# While statement\n",
    "while t < 0.1*t_period:\n",
    "    \n",
    "    u_sln0[Ng-1]  = u_sln0[Nx+Ng-2]\n",
    "    u_sln0[Nx+Ng] = u_sln0[Ng+1]\n",
    "    \n",
    "    for i in range(Ng, Ng+Nx):\n",
    "        # FTCS method\n",
    "        u_sln[i] = u_sln0[i] - 0.5*CFL*(u_sln0[i+1] - u_sln0[i-1])\n",
    "        \n",
    "    u_sln0[:] = u_sln[:]\n",
    "    t += delta_t\n",
    "\n",
    "    \n",
    "# Plot the initial profile\n",
    "\n",
    "plt.plot(x[Ng:Ng+Nx], y_0[Ng:Ng+Nx], ls=\":\", color = 'red', label=\"initial\")\n",
    "\n",
    "plt.plot(x[Ng:Ng+Nx],u_sln[Ng:Ng+Nx], color = 'blue', label=r\"$C = {}$\".format(CFL))\n",
    "\n",
    "plt.xlabel(r\"$x$\")\n",
    "plt.ylabel(r\"$u$\")\n",
    "\n",
    "plt.legend(frameon=False, loc=\"best\")\n",
    "\n",
    "plt.tight_layout()\n",
    "\n",
    "plt.show()"
   ]
  },
  {
   "cell_type": "code",
   "execution_count": 8,
   "id": "ba84a7dc",
   "metadata": {},
   "outputs": [
    {
     "name": "stdout",
     "output_type": "stream",
     "text": [
      "(103,) (103,)\n"
     ]
    },
    {
     "data": {
      "image/png": "[encoded data removed]",
      "text/plain": [
       "<Figure size 432x288 with 1 Axes>"
      ]
     },
     "metadata": {
      "needs_background": "light"
     },
     "output_type": "display_data"
    }
   ],
   "source": [
    "# Empty array that will store our slns\n",
    "u_sln0 = np.zeros((len(x)), dtype=np.float64)\n",
    "u_sln  = np.zeros((len(x)), dtype=np.float64)\n",
    "\n",
    "print(u_sln0.shape, u_sln.shape)\n",
    "\n",
    "# This is the initial vector\n",
    "y_0 = y.copy()\n",
    "u_sln0 = y.copy()\n",
    "\n",
    "# Alternative code for the initial vector\n",
    "\n",
    "#u_sln0[:] = 0.0\n",
    "#u_sln0[np.logical_and(x >= 1./3., x <= 2./3.)] = 1.0\n",
    "#print(u_sln0.shape)\n",
    "\n",
    "#print(u_sln0)\n",
    "\n",
    "# Time discretisation\n",
    "CFL = 0.9 ## <= 1\n",
    "c = 1.0\n",
    "\n",
    "# Time step\n",
    "delta_t = CFL*delta_x/c\n",
    "\n",
    "# Time -> 1 period so that the profile stays on spot\n",
    "t_period = (xmax - xmin)/c\n",
    "\n",
    "# Initialise time at t=0\n",
    "t = 0.\n",
    "\n",
    "#print(Ng-1, Nx+Ng-2)\n",
    "#print(Ng+1, Nx+Ng)\n",
    "\n",
    "# While statement\n",
    "while t < 0.1*t_period:\n",
    "    \n",
    "    u_sln0[Ng-1]  = u_sln0[Nx+Ng-2]\n",
    "    u_sln0[Nx+Ng] = u_sln0[Ng+1]\n",
    "    \n",
    "    for i in range(Ng, Ng+Nx):\n",
    "        # FTCS method\n",
    "        u_sln[i] = u_sln0[i] - 0.5*CFL*(u_sln0[i+1] - u_sln0[i-1])\n",
    "        \n",
    "    u_sln0[:] = u_sln[:]\n",
    "    t += delta_t\n",
    "\n",
    "    \n",
    "# Plot the initial profile\n",
    "\n",
    "plt.plot(x[Ng:Ng+Nx], y_0[Ng:Ng+Nx], ls=\":\", color = 'red', label=\"initial\")\n",
    "\n",
    "plt.plot(x[Ng:Ng+Nx],u_sln[Ng:Ng+Nx], color = 'blue', label=r\"$C = {}$\".format(CFL))\n",
    "\n",
    "plt.xlabel(r\"$x$\")\n",
    "plt.ylabel(r\"$u$\")\n",
    "\n",
    "plt.legend(frameon=False, loc=\"best\")\n",
    "\n",
    "plt.tight_layout()\n",
    "\n",
    "plt.show()"
   ]
  },
  {
   "cell_type": "markdown",
   "id": "48bdf00d",
   "metadata": {},
   "source": [
    "There is no good CFL number."
   ]
  },
  {
   "cell_type": "markdown",
   "id": "063e876a",
   "metadata": {},
   "source": [
    "### Function:"
   ]
  },
  {
   "cell_type": "code",
   "execution_count": 11,
   "id": "7d670a71",
   "metadata": {},
   "outputs": [],
   "source": [
    "def ftcs_method(CFL_input, t_factor):\n",
    "    \n",
    "    # Empty array that will store our slns\n",
    "    u_sln0 = np.zeros((len(x)), dtype=np.float64)\n",
    "    u_sln  = np.zeros((len(x)), dtype=np.float64)\n",
    "\n",
    "    # This is the initial vector\n",
    "    y_0 = y.copy()\n",
    "    u_sln0 = y.copy()\n",
    "\n",
    "    # Time discretisation\n",
    "    CFL = CFL_input ## <= 1\n",
    "    c = 1.0\n",
    "\n",
    "    # Time step\n",
    "    delta_t = CFL*delta_x/c\n",
    "\n",
    "    # Time -> 1 period so that the profile stays on spot\n",
    "    t_period = t_factor*(xmax - xmin)/c\n",
    "\n",
    "    # Initialise time at t=0\n",
    "    t = 0.\n",
    "\n",
    "    # While statement\n",
    "    while t < 0.1*t_period:\n",
    "\n",
    "        u_sln0[Ng-1]  = u_sln0[Nx+Ng-2]\n",
    "        u_sln0[Nx+Ng] = u_sln0[Ng+1]\n",
    "\n",
    "        for i in range(Ng, Ng+Nx):\n",
    "            # FTCS method\n",
    "            u_sln[i] = u_sln0[i] - 0.5*CFL*(u_sln0[i+1] - u_sln0[i-1])\n",
    "\n",
    "        u_sln0[:] = u_sln[:]\n",
    "        t += delta_t\n",
    "        \n",
    "    return y_0, u_sln"
   ]
  },
  {
   "cell_type": "code",
   "execution_count": 12,
   "id": "631e2f33",
   "metadata": {},
   "outputs": [],
   "source": [
    "# Call the function:\n",
    "\n",
    "# For CFL = 1, Period = 1\n",
    "CFL1 = 1.\n",
    "factor = 1.\n",
    "s_t01, s_tf1 = ftcs_method(CFL1, factor)\n",
    "\n",
    "# For CFL = 0.9, Period = 1\n",
    "CFL2 = 0.9\n",
    "s_t02, s_tf2 = ftcs_method(CFL2, factor)\n",
    "\n",
    "# For CFL = 0.5, Period = 1\n",
    "CFL3 = 0.5\n",
    "s_t03, s_tf3 = ftcs_method(CFL3, factor)\n",
    "\n",
    "# For CFL = 0.1, Period = 1\n",
    "CFL4 = 0.1\n",
    "s_t04, s_tf4 = ftcs_method(CFL4, factor)\n"
   ]
  },
  {
   "cell_type": "code",
   "execution_count": 13,
   "id": "002a039b",
   "metadata": {},
   "outputs": [
    {
     "data": {
      "image/png": "[encoded data removed]",
      "text/plain": [
       "<Figure size 432x360 with 1 Axes>"
      ]
     },
     "metadata": {
      "needs_background": "light"
     },
     "output_type": "display_data"
    }
   ],
   "source": [
    "# Plot the initial profile\n",
    "\n",
    "plt.figure(figsize=(6,5))\n",
    "plt.plot(x[Ng:Ng+Nx], s_t01[Ng:Ng+Nx], ls=\":\", color = 'red', label=\"initial\")\n",
    "\n",
    "plt.plot(x[Ng:Ng+Nx], s_tf1[Ng:Ng+Nx], color = 'blue', label=r\"$CFL = {}$\".format(CFL1))\n",
    "plt.plot(x[Ng:Ng+Nx], s_tf2[Ng:Ng+Nx], color = 'green', label=r\"$CFL = {}$\".format(CFL2))\n",
    "plt.plot(x[Ng:Ng+Nx], s_tf3[Ng:Ng+Nx], color = 'magenta', label=r\"$CFL = {}$\".format(CFL3))\n",
    "plt.plot(x[Ng:Ng+Nx], s_tf4[Ng:Ng+Nx], color = 'red', label=r\"$CFL = {}$\".format(CFL4))\n",
    "\n",
    "plt.xlabel(r\"$x$\")\n",
    "plt.ylabel(r\"$u$\")\n",
    "\n",
    "plt.legend(frameon=False, loc=\"best\")\n",
    "\n",
    "plt.tight_layout()\n",
    "\n",
    "plt.show()"
   ]
  },
  {
   "cell_type": "code",
   "execution_count": null,
   "id": "58b56126",
   "metadata": {},
   "outputs": [],
   "source": []
  }
 ],
 "metadata": {
  "kernelspec": {
   "display_name": "Python 3 (ipykernel)",
   "language": "python",
   "name": "python3"
  },
  "language_info": {
   "codemirror_mode": {
    "name": "ipython",
    "version": 3
   },
   "file_extension": ".py",
   "mimetype": "text/x-python",
   "name": "python",
   "nbconvert_exporter": "python",
   "pygments_lexer": "ipython3",
   "version": "3.9.12"
  }
 },
 "nbformat": 4,
 "nbformat_minor": 5
}

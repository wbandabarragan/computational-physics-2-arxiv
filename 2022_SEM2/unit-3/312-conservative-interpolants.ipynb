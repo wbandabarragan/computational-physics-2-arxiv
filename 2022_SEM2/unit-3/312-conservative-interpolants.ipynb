{
 "cells": [
  {
   "cell_type": "markdown",
   "id": "a0616e9a",
   "metadata": {},
   "source": [
    "# Conservative Interpolants\n",
    "\n",
    "## Quadratic polynomial:\n",
    "\n",
    "We want to construct a quadratic polynomal through that points $x_{i-1}$, $x_i$, $x_{i+1}$ that gives the correct averages,\n",
    "$f_{i+1}$, $f_i$, and $f_{i-1}$ when integrated over the volume, e.g.\n",
    "\n",
    "$$\\frac{1}{\\Delta x} \\int_{x_{i-1/2}}^{x_{i+1/2}} f(x) dx = f_i$$\n",
    "\n",
    "There are 3 unknowns in the quadratic and three constraints, so this is a linear system we can solve."
   ]
  },
  {
   "cell_type": "code",
   "execution_count": 1,
   "id": "63d8b075",
   "metadata": {},
   "outputs": [],
   "source": [
    "# Importing libraries\n",
    "import sympy as sp\n",
    "\n",
    "# To see the outputs in latex format, we use:\n",
    "from sympy.interactive import printing\n",
    "printing.init_printing(use_latex = True)"
   ]
  },
  {
   "cell_type": "code",
   "execution_count": 2,
   "id": "b14cecca",
   "metadata": {},
   "outputs": [
    {
     "data": {
      "image/png": "[encoded data removed]",
      "text/latex": [
       "$\\displaystyle A \\left(x - x_{0}\\right)^{2} + B \\left(x - x_{0}\\right) + C$"
      ],
      "text/plain": [
       "          2                 \n",
       "A⋅(x - x₀)  + B⋅(x - x₀) + C"
      ]
     },
     "metadata": {},
     "output_type": "display_data"
    }
   ],
   "source": [
    "# Define symbols\n",
    "\n",
    "A, B, C, x, x0 = sp.symbols(\"A B C x x0\")\n",
    "\n",
    "# Quaratic equation\n",
    "f_x = A*(x-x0)**2 + B*(x-x0) + C\n",
    "\n",
    "display(f_x)"
   ]
  },
  {
   "cell_type": "code",
   "execution_count": 3,
   "id": "93865401",
   "metadata": {},
   "outputs": [
    {
     "data": {
      "image/png": "[encoded data removed]",
      "text/latex": [
       "$\\displaystyle \\Delta$"
      ],
      "text/plain": [
       "\\Delta"
      ]
     },
     "metadata": {},
     "output_type": "display_data"
    }
   ],
   "source": [
    "# Define symbol for delta_x\n",
    "\n",
    "dx = sp.symbols(\"\\Delta\")\n",
    "\n",
    "display(dx)"
   ]
  },
  {
   "cell_type": "code",
   "execution_count": 4,
   "id": "b56111f0",
   "metadata": {},
   "outputs": [
    {
     "data": {
      "image/png": "[encoded data removed]",
      "text/latex": [
       "$\\displaystyle - \\frac{3 \\Delta}{2} + x_{0}$"
      ],
      "text/plain": [
       "  3⋅\\Delta     \n",
       "- ──────── + x₀\n",
       "     2         "
      ]
     },
     "metadata": {},
     "output_type": "display_data"
    },
    {
     "data": {
      "image/png": "[encoded data removed]",
      "text/latex": [
       "$\\displaystyle - \\frac{\\Delta}{2} + x_{0}$"
      ],
      "text/plain": [
       "  \\Delta     \n",
       "- ────── + x₀\n",
       "    2        "
      ]
     },
     "metadata": {},
     "output_type": "display_data"
    },
    {
     "data": {
      "image/png": "[encoded data removed]",
      "text/latex": [
       "$\\displaystyle \\frac{3 \\Delta}{2} + x_{0}$"
      ],
      "text/plain": [
       "3⋅\\Delta     \n",
       "──────── + x₀\n",
       "   2         "
      ]
     },
     "metadata": {},
     "output_type": "display_data"
    },
    {
     "data": {
      "image/png": "[encoded data removed]",
      "text/latex": [
       "$\\displaystyle \\frac{\\Delta}{2} + x_{0}$"
      ],
      "text/plain": [
       "\\Delta     \n",
       "────── + x₀\n",
       "  2        "
      ]
     },
     "metadata": {},
     "output_type": "display_data"
    }
   ],
   "source": [
    "# Constraints:\n",
    "\n",
    "fl, f0, fr = sp.symbols(\"f_{i-1} f_i f_{i+1}\")\n",
    "\n",
    "xl_32 = x0 - sp.Rational(3,2)*dx\n",
    "xl_12 = x0 - sp.Rational(1,2)*dx\n",
    "\n",
    "xr_32 = x0 + sp.Rational(3,2)*dx\n",
    "xr_12 = x0 + sp.Rational(1,2)*dx\n",
    "\n",
    "display(xl_32, xl_12, xr_32, xr_12)\n"
   ]
  },
  {
   "cell_type": "code",
   "execution_count": 5,
   "id": "c607e6e0",
   "metadata": {},
   "outputs": [
    {
     "data": {
      "image/png": "[encoded data removed]",
      "text/latex": [
       "$\\displaystyle \\frac{13 A \\Delta^{2}}{12} - B \\Delta + C$"
      ],
      "text/plain": [
       "           2               \n",
       "13⋅A⋅\\Delta                \n",
       "──────────── - B⋅\\Delta + C\n",
       "     12                    "
      ]
     },
     "metadata": {},
     "output_type": "display_data"
    },
    {
     "data": {
      "image/png": "[encoded data removed]",
      "text/latex": [
       "$\\displaystyle \\frac{A \\Delta^{2}}{12} + C$"
      ],
      "text/plain": [
       "        2    \n",
       "A⋅\\Delta     \n",
       "───────── + C\n",
       "    12       "
      ]
     },
     "metadata": {},
     "output_type": "display_data"
    },
    {
     "data": {
      "image/png": "[encoded data removed]",
      "text/latex": [
       "$\\displaystyle \\frac{13 A \\Delta^{2}}{12} + B \\Delta + C$"
      ],
      "text/plain": [
       "           2               \n",
       "13⋅A⋅\\Delta                \n",
       "──────────── + B⋅\\Delta + C\n",
       "     12                    "
      ]
     },
     "metadata": {},
     "output_type": "display_data"
    }
   ],
   "source": [
    "# Integrate\n",
    "\n",
    "a = sp.simplify(sp.integrate(f_x/dx, (x, xl_32, xl_12)))\n",
    "b = sp.simplify(sp.integrate(f_x/dx, (x, xl_12, xr_12)))\n",
    "c = sp.simplify(sp.integrate(f_x/dx, (x, xr_12, xr_32)))\n",
    "display(a, b, c)"
   ]
  },
  {
   "cell_type": "code",
   "execution_count": 6,
   "id": "a4b1242e",
   "metadata": {},
   "outputs": [
    {
     "data": {
      "image/png": "[encoded data removed]",
      "text/latex": [
       "$\\displaystyle \\left\\{ A : \\frac{- 2 f_{i} + f_{i+1} + f_{i-1}}{2 \\Delta^{2}}, \\  B : \\frac{f_{i+1} - f_{i-1}}{2 \\Delta}, \\  C : \\frac{13 f_{i}}{12} - \\frac{f_{i+1}}{24} - \\frac{f_{i-1}}{24}\\right\\}$"
      ],
      "text/plain": [
       "⎧   -2⋅fᵢ + f_{i+1} + f_{i-1}     f_{i+1} - f_{i-1}     13⋅fᵢ   f_{i+1}   f_{i-1}⎫\n",
       "⎪A: ─────────────────────────, B: ─────────────────, C: ───── - ─────── - ───────⎪\n",
       "⎨                   2                  2⋅\\Delta           12       24        24  ⎬\n",
       "⎪           2⋅\\Delta                                                             ⎪\n",
       "⎩                                                                                ⎭"
      ]
     },
     "metadata": {},
     "output_type": "display_data"
    }
   ],
   "source": [
    "# Find the coefficients of the polynomial\n",
    "\n",
    "coef_poly = sp.solve([a - fl, b - f0, c - fr], [A, B, C])\n",
    "\n",
    "display(coef_poly)"
   ]
  },
  {
   "cell_type": "code",
   "execution_count": 7,
   "id": "c93dca90",
   "metadata": {},
   "outputs": [
    {
     "data": {
      "image/png": "[encoded data removed]",
      "text/latex": [
       "$\\displaystyle \\frac{13 f_{i}}{12} - \\frac{f_{i+1}}{24} - \\frac{f_{i-1}}{24} + \\frac{\\left(f_{i+1} - f_{i-1}\\right) \\left(x - x_{0}\\right)}{2 \\Delta} + \\frac{\\left(x - x_{0}\\right)^{2} \\left(- 2 f_{i} + f_{i+1} + f_{i-1}\\right)}{2 \\Delta^{2}}$"
      ],
      "text/plain": [
       "                                                                   2                            \n",
       "13⋅fᵢ   f_{i+1}   f_{i-1}   (f_{i+1} - f_{i-1})⋅(x - x₀)   (x - x₀) ⋅(-2⋅fᵢ + f_{i+1} + f_{i-1})\n",
       "───── - ─────── - ─────── + ──────────────────────────── + ─────────────────────────────────────\n",
       "  12       24        24               2⋅\\Delta                                   2              \n",
       "                                                                         2⋅\\Delta               "
      ]
     },
     "execution_count": 7,
     "metadata": {},
     "output_type": "execute_result"
    }
   ],
   "source": [
    "f_x.subs(A,coef_poly [A]).subs(B,coef_poly [B])\\\n",
    ".subs(C,coef_poly [C])"
   ]
  },
  {
   "cell_type": "markdown",
   "id": "b389a9c8",
   "metadata": {},
   "source": [
    "## Colella and Woodward PPM interpolator:\n",
    "\n",
    "### Cubic\n",
    "\n",
    "We want to construct a cubic polynomal through that points $x_{i-2}$, $x_{i-1}$, $x_i$, $x_{i+1}$ that gives the correct averages,\n",
    "$f_{i-2}$, $f_{i-1}$, $f_i$, and $f_{i-1}$ when integrated over the volume of each zone"
   ]
  },
  {
   "cell_type": "code",
   "execution_count": 8,
   "id": "8659c703",
   "metadata": {},
   "outputs": [
    {
     "data": {
      "image/png": "[encoded data removed]",
      "text/latex": [
       "$\\displaystyle A \\left(x - x_{0}\\right)^{3} + B \\left(x - x_{0}\\right)^{2} + C \\left(x - x_{0}\\right) + D$"
      ],
      "text/plain": [
       "          3             2                 \n",
       "A⋅(x - x₀)  + B⋅(x - x₀)  + C⋅(x - x₀) + D"
      ]
     },
     "metadata": {},
     "output_type": "display_data"
    }
   ],
   "source": [
    "A, B, C, D = sp.symbols(\"A B C D\")\n",
    "\n",
    "f_x = A*(x-x0)**3 + B*(x-x0)**2 + C*(x-x0) + D\n",
    "display(f_x)"
   ]
  },
  {
   "cell_type": "code",
   "execution_count": 9,
   "id": "b14796fd",
   "metadata": {},
   "outputs": [
    {
     "data": {
      "image/png": "[encoded data removed]",
      "text/latex": [
       "$\\displaystyle - \\frac{5 \\Delta}{2} + x_{0}$"
      ],
      "text/plain": [
       "  5⋅\\Delta     \n",
       "- ──────── + x₀\n",
       "     2         "
      ]
     },
     "metadata": {},
     "output_type": "display_data"
    },
    {
     "data": {
      "image/png": "[encoded data removed]",
      "text/latex": [
       "$\\displaystyle - \\frac{3 \\Delta}{2} + x_{0}$"
      ],
      "text/plain": [
       "  3⋅\\Delta     \n",
       "- ──────── + x₀\n",
       "     2         "
      ]
     },
     "metadata": {},
     "output_type": "display_data"
    },
    {
     "data": {
      "image/png": "[encoded data removed]",
      "text/latex": [
       "$\\displaystyle - \\frac{\\Delta}{2} + x_{0}$"
      ],
      "text/plain": [
       "  \\Delta     \n",
       "- ────── + x₀\n",
       "    2        "
      ]
     },
     "metadata": {},
     "output_type": "display_data"
    },
    {
     "data": {
      "image/png": "[encoded data removed]",
      "text/latex": [
       "$\\displaystyle \\frac{3 \\Delta}{2} + x_{0}$"
      ],
      "text/plain": [
       "3⋅\\Delta     \n",
       "──────── + x₀\n",
       "   2         "
      ]
     },
     "metadata": {},
     "output_type": "display_data"
    },
    {
     "data": {
      "image/png": "[encoded data removed]",
      "text/latex": [
       "$\\displaystyle \\frac{\\Delta}{2} + x_{0}$"
      ],
      "text/plain": [
       "\\Delta     \n",
       "────── + x₀\n",
       "  2        "
      ]
     },
     "metadata": {},
     "output_type": "display_data"
    }
   ],
   "source": [
    "# Constraints:\n",
    "\n",
    "fll, fl, f0, fr = sp.symbols(\"f_{i-2} f_{i-1} f_i f_{i+1}\")\n",
    "\n",
    "xl_52 = x0 - sp.Rational(5,2)*dx\n",
    "xl_32 = x0 - sp.Rational(3,2)*dx\n",
    "xl_12 = x0 - sp.Rational(1,2)*dx\n",
    "\n",
    "xr_32 = x0 + sp.Rational(3,2)*dx\n",
    "xr_12 = x0 + sp.Rational(1,2)*dx\n",
    "\n",
    "display(xl_52, xl_32, xl_12, xr_32, xr_12)"
   ]
  },
  {
   "cell_type": "code",
   "execution_count": 10,
   "id": "7854f73b",
   "metadata": {},
   "outputs": [
    {
     "data": {
      "image/png": "[encoded data removed]",
      "text/latex": [
       "$\\displaystyle - \\frac{17 A \\Delta^{3}}{2} + \\frac{49 B \\Delta^{2}}{12} - 2 C \\Delta + D$"
      ],
      "text/plain": [
       "             3              2                 \n",
       "  17⋅A⋅\\Delta    49⋅B⋅\\Delta                  \n",
       "- ──────────── + ──────────── - 2⋅C⋅\\Delta + D\n",
       "       2              12                      "
      ]
     },
     "metadata": {},
     "output_type": "display_data"
    },
    {
     "data": {
      "image/png": "[encoded data removed]",
      "text/latex": [
       "$\\displaystyle - \\frac{5 A \\Delta^{3}}{4} + \\frac{13 B \\Delta^{2}}{12} - C \\Delta + D$"
      ],
      "text/plain": [
       "            3              2               \n",
       "  5⋅A⋅\\Delta    13⋅B⋅\\Delta                \n",
       "- ─────────── + ──────────── - C⋅\\Delta + D\n",
       "       4             12                    "
      ]
     },
     "metadata": {},
     "output_type": "display_data"
    },
    {
     "data": {
      "image/png": "[encoded data removed]",
      "text/latex": [
       "$\\displaystyle \\frac{B \\Delta^{2}}{12} + D$"
      ],
      "text/plain": [
       "        2    \n",
       "B⋅\\Delta     \n",
       "───────── + D\n",
       "    12       "
      ]
     },
     "metadata": {},
     "output_type": "display_data"
    },
    {
     "data": {
      "image/png": "[encoded data removed]",
      "text/latex": [
       "$\\displaystyle \\frac{5 A \\Delta^{3}}{4} + \\frac{13 B \\Delta^{2}}{12} + C \\Delta + D$"
      ],
      "text/plain": [
       "          3              2               \n",
       "5⋅A⋅\\Delta    13⋅B⋅\\Delta                \n",
       "─────────── + ──────────── + C⋅\\Delta + D\n",
       "     4             12                    "
      ]
     },
     "metadata": {},
     "output_type": "display_data"
    }
   ],
   "source": [
    "# Integrate\n",
    "\n",
    "a = sp.simplify(sp.integrate(f_x/dx, (x, xl_52, xl_32)))\n",
    "b = sp.simplify(sp.integrate(f_x/dx, (x, xl_32, xl_12)))\n",
    "c = sp.simplify(sp.integrate(f_x/dx, (x, xl_12, xr_12)))\n",
    "d = sp.simplify(sp.integrate(f_x/dx, (x, xr_12, xr_32)))\n",
    "\n",
    "display(a, b, c, d)"
   ]
  },
  {
   "cell_type": "code",
   "execution_count": 11,
   "id": "5751e845",
   "metadata": {},
   "outputs": [
    {
     "data": {
      "image/png": "[encoded data removed]",
      "text/latex": [
       "$\\displaystyle \\left\\{ A : \\frac{- 3 f_{i} + f_{i+1} + 3 f_{i-1} - f_{i-2}}{6 \\Delta^{3}}, \\  B : \\frac{- 2 f_{i} + f_{i+1} + f_{i-1}}{2 \\Delta^{2}}, \\  C : \\frac{15 f_{i} + 7 f_{i+1} - 27 f_{i-1} + 5 f_{i-2}}{24 \\Delta}, \\  D : \\frac{13 f_{i}}{12} - \\frac{f_{i+1}}{24} - \\frac{f_{i-1}}{24}\\right\\}$"
      ],
      "text/plain": [
       "⎧   -3⋅fᵢ + f_{i+1} + 3⋅f_{i-1} - f_{i-2}     -2⋅fᵢ + f_{i+1} + f_{i-1}     15⋅fᵢ + 7⋅f_{i+1} - 27⋅f_{i-1} + 5⋅f_{i-2}     \n",
       "⎪A: ─────────────────────────────────────, B: ─────────────────────────, C: ──────────────────────────────────────────, D: \n",
       "⎨                         3                                   2                             24⋅\\Delta                      \n",
       "⎪                 6⋅\\Delta                            2⋅\\Delta                                                             \n",
       "⎩                                                                                                                          \n",
       "\n",
       "13⋅fᵢ   f_{i+1}   f_{i-1}⎫\n",
       "───── - ─────── - ───────⎪\n",
       "  12       24        24  ⎬\n",
       "                         ⎪\n",
       "                         ⎭"
      ]
     },
     "metadata": {},
     "output_type": "display_data"
    }
   ],
   "source": [
    "# Find the coefficients of the polynomial\n",
    "\n",
    "coef_poly = sp.solve([a - fll, b - fl, c - f0, d - fr], [A, B, C, D])\n",
    "\n",
    "display(coef_poly)"
   ]
  },
  {
   "cell_type": "code",
   "execution_count": 12,
   "id": "d97c91ae",
   "metadata": {},
   "outputs": [
    {
     "data": {
      "image/png": "[encoded data removed]",
      "text/latex": [
       "$\\displaystyle \\frac{13 f_{i}}{12} - \\frac{f_{i+1}}{24} - \\frac{f_{i-1}}{24} + \\frac{\\left(x - x_{0}\\right) \\left(15 f_{i} + 7 f_{i+1} - 27 f_{i-1} + 5 f_{i-2}\\right)}{24 \\Delta} + \\frac{\\left(x - x_{0}\\right)^{2} \\left(- 2 f_{i} + f_{i+1} + f_{i-1}\\right)}{2 \\Delta^{2}} + \\frac{\\left(x - x_{0}\\right)^{3} \\left(- 3 f_{i} + f_{i+1} + 3 f_{i-1} - f_{i-2}\\right)}{6 \\Delta^{3}}$"
      ],
      "text/plain": [
       "                                                                                            2                              \n",
       "13⋅fᵢ   f_{i+1}   f_{i-1}   (x - x₀)⋅(15⋅fᵢ + 7⋅f_{i+1} - 27⋅f_{i-1} + 5⋅f_{i-2})   (x - x₀) ⋅(-2⋅fᵢ + f_{i+1} + f_{i-1})  \n",
       "───── - ─────── - ─────── + ───────────────────────────────────────────────────── + ───────────────────────────────────── +\n",
       "  12       24        24                           24⋅\\Delta                                               2                \n",
       "                                                                                                  2⋅\\Delta                 \n",
       "\n",
       "         3                                        \n",
       " (x - x₀) ⋅(-3⋅fᵢ + f_{i+1} + 3⋅f_{i-1} - f_{i-2})\n",
       " ─────────────────────────────────────────────────\n",
       "                             3                    \n",
       "                     6⋅\\Delta                     "
      ]
     },
     "metadata": {},
     "output_type": "display_data"
    }
   ],
   "source": [
    "f_poly3 = f_x.subs(A,coef_poly [A]).subs(B,coef_poly [B])\\\n",
    ".subs(C,coef_poly [C]).subs(D,coef_poly [D])\n",
    "\n",
    "display(f_poly3)"
   ]
  },
  {
   "cell_type": "markdown",
   "id": "a829d4d8",
   "metadata": {},
   "source": [
    "This interpolant is symmetric about the $i-\\frac{1}{2}$ interface:"
   ]
  },
  {
   "cell_type": "code",
   "execution_count": 13,
   "id": "aa76572a",
   "metadata": {},
   "outputs": [
    {
     "data": {
      "image/png": "[encoded data removed]",
      "text/latex": [
       "$\\displaystyle \\frac{7 f_{i}}{12} - \\frac{f_{i+1}}{12} + \\frac{7 f_{i-1}}{12} - \\frac{f_{i-2}}{12}$"
      ],
      "text/plain": [
       "7⋅fᵢ   f_{i+1}   7⋅f_{i-1}   f_{i-2}\n",
       "──── - ─────── + ───────── - ───────\n",
       " 12       12         12         12  "
      ]
     },
     "execution_count": 13,
     "metadata": {},
     "output_type": "execute_result"
    }
   ],
   "source": [
    "f_poly3.subs(x, x0 - sp.Rational(1,2)*dx)"
   ]
  },
  {
   "cell_type": "markdown",
   "id": "9e852c3e",
   "metadata": {},
   "source": [
    "This is the interpolating polynomial used to find the interface states in PPM (Colella & Woodward 1984).\n",
    "\n",
    "### Reference paper:\n",
    "\n",
    "https://crd.lbl.gov/assets/pubs_presos/AMCS/ANAG/A141984.pdf"
   ]
  }
 ],
 "metadata": {
  "kernelspec": {
   "display_name": "Python 3 (ipykernel)",
   "language": "python",
   "name": "python3"
  },
  "language_info": {
   "codemirror_mode": {
    "name": "ipython",
    "version": 3
   },
   "file_extension": ".py",
   "mimetype": "text/x-python",
   "name": "python",
   "nbconvert_exporter": "python",
   "pygments_lexer": "ipython3",
   "version": "3.8.13"
  }
 },
 "nbformat": 4,
 "nbformat_minor": 5
}

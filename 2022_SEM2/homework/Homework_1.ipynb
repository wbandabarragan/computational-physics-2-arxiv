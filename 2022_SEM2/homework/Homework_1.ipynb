{
 "cells": [
  {
   "cell_type": "markdown",
   "id": "73bf34f6",
   "metadata": {},
   "source": [
    "# Homework 1 - Computational Physics 2\n",
    "\n",
    "- Submission deadline: **Friday 27th January 2023 (by the end of the day).**\n",
    "\n",
    "\n",
    "- When you finish the assignment, please send the **.ipynb file** via email to wbanda@yachaytech.edu.ec\n",
    "\n",
    "\n",
    "- You may work on this homework individually or in pairs. Submitted assignments should have maximum 2 authors.\n",
    "\n",
    "\n",
    "- You can call your notebook with your surname/s, e.g. hw1_names.ipynb, and also include your name/s in the notebook.\n",
    "\n",
    "\n",
    "- Within a single python notebook, add the following:"
   ]
  },
  {
   "cell_type": "markdown",
   "id": "ab91ed48",
   "metadata": {},
   "source": [
    "## Problem 1 (10 points): Quantum Harmonic Oscillator\n",
    "\n",
    "The Schrödinger equation for the quantum harmonic oscillator is:\n",
    "\n",
    "$$-\\frac{\\hbar^2}{2m}\\frac{d^2\\psi}{dx^2}+\\frac{1}{2}m\\omega^2x^2\\psi=E\\psi$$\n",
    "\n",
    "It can be rewritten, in terms of a new variable, $\\xi\\equiv\\sqrt{\\frac{m\\,\\omega}{\\hbar}}x$, as follows:\n",
    "\n",
    "$$\\frac{d^2\\psi}{d\\xi^2}=\\left(\\xi^2 -K\\right)\\psi$$\n",
    "\n",
    "where $K\\equiv\\frac{2E}{\\hbar\\omega}$ is the energy in units of $\\frac{1}{2}\\hbar\\omega$.\n",
    "\n",
    "(a) Find the **ground state energy** of the harmonic oscillator, to five significant digits, by using **the shooting method**. That is, solve the above equation numerically, varying $K$ until you get a wave function that goes to zero at large $\\xi$. The appropriate boundary conditions for the ground state (and any even state) are $\\psi(0) = 1$, $\\psi'(0) = 0$.\n",
    "\n",
    "(b) Make a few illustrative panels showing plots of the wave function for different values of $K$ as it converges to the solution. What does the tail of the wave function does when the values are slightly above or below the correct solution?\n",
    "\n",
    "(c) Find the **first three excited state energies** (to five significant digits) for the harmonic oscillator, using **the shooting method**. For the first (and third) excited state you will need to set $\\psi(0) = 0$, $\\psi'(0) = 1$).\n",
    "\n",
    "(d) Make a few illustrative panels showing plots of the wave functions for different values of $K$ as they converge to their respective solutions.\n",
    "\n",
    "(e) Make a single plot showing the **harmonic potential** joinly with the **energy ladder** of the quantum harmonic oscillator (include the ground state plus the first three excited states that you calculated above, each with their **respective wave functions**). Consider the particle to be an electron and choose appropriate units for any physical parameters you may need."
   ]
  },
  {
   "cell_type": "markdown",
   "id": "0246f13d",
   "metadata": {},
   "source": [
    "## Problem 2 (10 points): Thermodynamics and Heat Conduction\n",
    "\n",
    "Use appropriate numerical algorithms to study how the temperature profile in a heated metal wire evolves in time, under different initial and boundary conditions. For this, you need to solve the 1D heat equation:\n",
    "\n",
    "$$\\frac{\\partial T}{\\partial t}=\\alpha\\frac{\\partial^2 T}{\\partial x^2}$$\n",
    "\n",
    "where $T=T(x, t)$ describes the temperature of the metal, $x$ is position, $t$ is time, and $\\alpha$ is the thermal diffusivity of the metal. We will consider two metals as I explain below.\n",
    "\n",
    "Assume that the metal wire has a length of $20\\,\\rm cm$, and choose the wire midpoint as the origin for the problem.\n",
    "\n",
    "The initial temperature profile in degrees Celsius is given by the following function:\n",
    "\n",
    "$$T(x, 0)= 175 - 50\\cos\\left(\\frac{\\pi x}{5}\\right) - x^2$$\n",
    "\n",
    "where $x$ is in units of $\\rm cm$. \n",
    "\n",
    "(a) Imagine we keep the temperatures at the edges of the metal wire fixed at a temperature of $25\\,\\rm C$. Construct a Crank-Nicolson algorithm to simulate the evolution of the temperature profile and find the time in seconds at which thermal equilibrium is reached in two metal wires (one made of Copper with $\\alpha=111\\,\\rm \\frac{mm^2}{s}$ and one made of Molybdenum with $\\alpha=54.3\\,\\rm \\frac{mm^2}{s}$ ).\n",
    "\n",
    "(b) Can we use explicit or FFT methods to solve the problem described in literal (a)? Explain.\n",
    "\n",
    "(c) Make a labeled animation showing six panels (with 2 columns and three rows): the top two panels should show the time evolution of the 1D temperature profile of each metal wire, the medium two panels how the temperature surface is built up in time, and the bottom two panels the surface projection onto the $x$-$t$ plane.\n",
    "\n",
    "(d) Re-study heat diffusion only in the Copper wire, but this time add some noise $f(x)$ with amplitude $\\beta$ to the initial condition:\n",
    "\n",
    "$$T(x, 0)= 175 - 50\\cos\\left(\\frac{\\pi x}{5}\\right) - x^2 + \\beta\\,f(x)\\,g(x)$$\n",
    "\n",
    "Note that you need to find an appropriate apodization function $g(x)$ so that the initial boundary conditions remain fixed at $25\\,\\rm C$. Similarly, you should choice an amplitude for the noise function to be less than a thousandth of the peak temperature value. Does adding the noise change the time at which thermal equilibrium is reached or not? Why yes or why not?\n",
    "\n",
    "(e) Re-study heat diffusion only in the Copper wire for the original $T(x, 0)$, but this time assume that the boundaries cannot be kept constant (because of e.g. a faulty cooling system). Instead they also evolve in time according to the following functions:\n",
    "\n",
    "$T(-10\\,{\\rm cm}, t) = 25 + t$\n",
    "\n",
    "$T(+10\\,{\\rm cm}, t) = 25 + 0.5\\,t$\n",
    "\n",
    "where $T(x, t)$ is in degrees Celsius, and $t$ in seconds. Run the simulation until the temperature profile shows a linear trend."
   ]
  }
 ],
 "metadata": {
  "kernelspec": {
   "display_name": "Python 3 (ipykernel)",
   "language": "python",
   "name": "python3"
  },
  "language_info": {
   "codemirror_mode": {
    "name": "ipython",
    "version": 3
   },
   "file_extension": ".py",
   "mimetype": "text/x-python",
   "name": "python",
   "nbconvert_exporter": "python",
   "pygments_lexer": "ipython3",
   "version": "3.7.16"
  }
 },
 "nbformat": 4,
 "nbformat_minor": 5
}

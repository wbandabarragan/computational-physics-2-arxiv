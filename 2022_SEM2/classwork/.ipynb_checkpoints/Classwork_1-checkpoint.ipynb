{
 "cells": [
  {
   "cell_type": "markdown",
   "id": "d4dd16a5",
   "metadata": {},
   "source": [
    "# Classwork 1 - Computational Physics 2\n",
    "\n",
    "- When you finish the quiz, please send me the **.ipynb file** via email to wbanda@yachaytech.edu.ec\n",
    "\n",
    "\n",
    "- You can call your notebook with your surname, e.g. name.ipynb, and also include your name in the notebook.\n",
    "\n",
    "\n",
    "- Within a single python notebook, add the following:"
   ]
  },
  {
   "cell_type": "markdown",
   "id": "cc77e071",
   "metadata": {},
   "source": [
    "## Problem 1 (7 points): Damped Oscillations\n",
    "\n",
    "The 1D motion of a damped oscillator is described by the following ordinary differential equation (ODE):\n",
    "\n",
    "$$m\\frac{d^2x}{dt^2} = -kx - b\\frac{dx}{dt}$$\n",
    "\n",
    "where $m$ is the mass of the oscillator, $k$ is the force constant, and $b$ is the damping constant.\n",
    "\n",
    "\n",
    "(a) Find the general solution to this ODE, $x(t)$, using sympy.\n",
    "\n",
    "\n",
    "(b) Using the above result, write an expression and a python function for the angular frequency of the damped oscillator.\n",
    "\n",
    "\n",
    "(c) What is the condition, i.e. $b=b(k,m)$, for critically-damped oscillations? \n",
    "\n",
    "\n",
    "(d) If $m=0.2\\,\\rm kg$, $k=50\\,\\rm N\\,m^{-1}$, and $b=0.04\\,\\rm kg\\,s^{-1}$, do we expect critical damping, overdamping, or underdamping for this set of parameters?\n",
    "\n",
    "\n",
    "(e) Rewrite the solution, $x(t)$, by considering the above set of parameters as inputs and also that the oscillations start at $x(0)=10\\,\\rm m$.\n",
    "\n",
    "\n",
    "(f) Make a plot of the solution for this set of parameters ($x$ versus $t$). Label the plot appropriately.\n",
    "\n",
    "\n",
    "(g) Repeat the calculation for $b=0.1\\,\\rm kg\\,s^{-1}$ and make a new plot where both solutions are compared. Label the plots appropriately."
   ]
  },
  {
   "cell_type": "markdown",
   "id": "28c38e2d",
   "metadata": {},
   "source": [
    "## Problem 2 (6 points): Butcher's Runge-Kutta integrator\n",
    "\n",
    "A popular method for integrating ODEs with a high order of accuracy is the **Butcher's Runge-Kutta method**. It is obtained by following a similar approach to the one we discussed in class. This method uses six points $k_1, k_2, k_3$, $k_4$, $k_5$, and $k_6$. A weighted average of these points is used to produce the approximation of the solution. The algorithm relies on computing the following slopes:\n",
    "\n",
    "$$\n",
    "\\begin{eqnarray*}\n",
    "k_1 & = & F(t_j,S(t_j))\\\\\n",
    "k_2 & = & F\\left(t_j+\\frac{h}{4},S(t_j)+\\frac{1}{4}k_1h\\right)\\\\\n",
    "k_3 & = & F\\left(t_j+\\frac{h}{4},S(t_j)+\\frac{1}{8}k_1h+\\frac{1}{8}k_2h\\right)\\\\\n",
    "k_4 & = & F\\left(t_j+\\frac{h}{2},S(t_j)-\\frac{1}{2}k_2h+k_3h\\right)\\\\\n",
    "k_5 & = & F\\left(t_j+\\frac{3h}{4},S(t_j)+\\frac{3}{16}k_1h+\\frac{9}{16}k_4h\\right)\\\\\n",
    "k_6 & = & F\\left(t_j+h,S(t_j)-\\frac{3}{7}k_1h+\\frac{2}{7}k_2h+\\frac{12}{7}k_3h-\\frac{12}{7}k_4h+\\frac{8}{7}k_5h\\right)\n",
    "\\end{eqnarray*}\n",
    "$$\n",
    "\n",
    "The solutions is then constructed as follows:\n",
    "\n",
    "$$\n",
    "S(t_{j+1}) = S(t_j) + \\frac{h}{90}\\left(7k_1 + 32k_3 + 12k_4 + 32k_5+7k_6\\right).\n",
    "$$\n",
    "\n",
    "The exercise consists on the following steps:\n",
    "\n",
    "(a) Design and write a python function for the above integrator. The function should take the step size as an argument for a specified ODE, and then return its solution by using the aforementioned **Butcher's Runge-Kutta method**.\n",
    "\n",
    "\n",
    "(b) What is the expected order or accuracy of this method?"
   ]
  },
  {
   "cell_type": "markdown",
   "id": "f7580e2a",
   "metadata": {},
   "source": [
    "## Problem 3 (7 points): Population dynamics\n",
    "\n",
    "The **Verhulst-Pearl model** is used to study animal population dynamics. This model is also called **logistic growth model** and assumes that $P(t)$ satisfies the following ODE:\n",
    "\n",
    "\n",
    "$$\\frac{dP}{dt}=\\alpha\\,P\\left(1-\\frac{P}{\\beta}\\right)$$\n",
    "\n",
    "\n",
    "where $\\alpha$ is the growth rate and $\\beta$ is the limiting size for the population (also called the environment carrying capacity).\n",
    "\n",
    "(a) Use sympy to find the general analytical solution to this ODE.\n",
    "\n",
    "\n",
    "(b) Imagine we use this equation to study the population dynamics of a bird species re-introduced into nature, knowing that the test environment can only host $20$ individuals. We liberate $10$ individuals of this species in the wild, and we know that the growth rate is $0.2$ individuals per month. Rewrite and recompute both the ODE and its solution for this set of conditions.\n",
    "\n",
    "\n",
    "(c) Make a plot of the analytical solution and label it appropriately.\n",
    "\n",
    "\n",
    "(d) Find the approximate solution to this initial-value problem using the 2nd and 4th-order Runge-Kutta integrators developed in class.\n",
    "\n",
    "\n",
    "(e) Find the approximate solution to this initial-value problem using the Butcher's method that you developed in problem 2. Make a plot comparing the analytical and all approximate solutions. Please note that you cannot use scipy solvers for this problem.\n",
    "\n",
    "\n",
    "(f) Plot the difference between the exact solution and the approximated solutions for four different step sizes (and for each integrator).\n",
    "\n",
    "\n",
    "(g) Write a function to calculate the $L_1$ and $L_2$ norms of the errors. Then, make a single labeled plot of the $L_2$ norms versus the RK method order for different step sizes. Is there an advantage in using the Butcher's Runge-Kutta method?"
   ]
  }
 ],
 "metadata": {
  "kernelspec": {
   "display_name": "Python 3 (ipykernel)",
   "language": "python",
   "name": "python3"
  },
  "language_info": {
   "codemirror_mode": {
    "name": "ipython",
    "version": 3
   },
   "file_extension": ".py",
   "mimetype": "text/x-python",
   "name": "python",
   "nbconvert_exporter": "python",
   "pygments_lexer": "ipython3",
   "version": "3.7.16"
  }
 },
 "nbformat": 4,
 "nbformat_minor": 5
}

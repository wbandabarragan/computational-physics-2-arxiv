{
 "cells": [
  {
   "cell_type": "markdown",
   "id": "b67b8d61",
   "metadata": {},
   "source": [
    "# Review of Python Modules\n",
    "\n",
    "## Python Scopes:\n",
    "\n",
    "Please see this notebook for basic definitions of python scopes:\n",
    "\n",
    "\n",
    "https://github.com/wbandabarragan/computational-physics-1/blob/main/unit-3/313-python-scopes.ipynb\n",
    "\n",
    "## Python Modules:\n",
    "\n",
    "Please see this notebook for basic definitions of python modules:\n",
    "\n",
    "https://github.com/wbandabarragan/computational-physics-1/blob/main/unit-3/314-python-modules.ipynb\n",
    "\n",
    "### Script Example:\n",
    "\n",
    "Convert lecture 101 into a python script **503_name.py:**\n",
    "\n",
    "https://github.com/wbandabarragan/computational-physics-2/blob/main/unit-4/503-ODE-QMproblem.py\n",
    "\n",
    "\n",
    "#### Reference:\n",
    "\n",
    "https://sbu-python-class.github.io/python-science/01-python/w4-python-modules.html"
   ]
  },
  {
   "cell_type": "code",
   "execution_count": 1,
   "id": "b123d42c",
   "metadata": {},
   "outputs": [],
   "source": [
    "import myprofile"
   ]
  },
  {
   "cell_type": "code",
   "execution_count": 2,
   "id": "8ac55c93",
   "metadata": {},
   "outputs": [
    {
     "name": "stdout",
     "output_type": "stream",
     "text": [
      "Help on module myprofile:\n",
      "\n",
      "NAME\n",
      "    myprofile\n",
      "\n",
      "DESCRIPTION\n",
      "    A very simple profiling class.  Define some timers and methods\n",
      "    to start and stop them.  Nesting of timers is tracked so we can\n",
      "    pretty print the profiling information.\n",
      "    # define a timer object, labeled 'my timer'\n",
      "    a = timer('my timer')\n",
      "    This will add 'my timer' to the list of keys in the 'my timer'\n",
      "    dictionary.  Subsequent calls to the timer class constructor\n",
      "    will have no effect.\n",
      "    # start timing the 'my timer' block of code\n",
      "    a.begin()\n",
      "    ... do stuff here ...\n",
      "    # end the timing of the 'my timer' block of code\n",
      "    a.end()\n",
      "    for best results, the block of code timed should be large\n",
      "    enough to offset the overhead of the timer class method\n",
      "    calls.\n",
      "    Multiple timers can be instanciated and nested.  The stackCount\n",
      "    global parameter keeps count of the level of nesting, and the\n",
      "    timerNesting data structure stores the nesting level for each\n",
      "    defined timer.\n",
      "    timeReport() is called at the end to print out a summary of the\n",
      "    timing.\n",
      "    At present, no enforcement is done to ensure proper nesting.\n",
      "\n",
      "CLASSES\n",
      "    builtins.object\n",
      "        Timer\n",
      "    \n",
      "    class Timer(builtins.object)\n",
      "     |  Timer(name)\n",
      "     |  \n",
      "     |  Methods defined here:\n",
      "     |  \n",
      "     |  __init__(self, name)\n",
      "     |      Initialize self.  See help(type(self)) for accurate signature.\n",
      "     |  \n",
      "     |  begin(self)\n",
      "     |  \n",
      "     |  end(self)\n",
      "     |  \n",
      "     |  ----------------------------------------------------------------------\n",
      "     |  Data descriptors defined here:\n",
      "     |  \n",
      "     |  __dict__\n",
      "     |      dictionary for instance variables (if defined)\n",
      "     |  \n",
      "     |  __weakref__\n",
      "     |      list of weak references to the object (if defined)\n",
      "\n",
      "FUNCTIONS\n",
      "    time_report()\n",
      "\n",
      "DATA\n",
      "    print_function = _Feature((2, 6, 0, 'alpha', 2), (3, 0, 0, 'alpha', 0)...\n",
      "    stack_count = 0\n",
      "    timer_nesting = {}\n",
      "    timer_order = []\n",
      "    timers = {}\n",
      "\n",
      "FILE\n",
      "    /Users/wladimir/Dropbox/Yachay_Tech/Semestre4_2023/computational-physics-2/old_notes/unit-4/myprofile.py\n",
      "\n",
      "\n"
     ]
    }
   ],
   "source": [
    "help(myprofile)"
   ]
  },
  {
   "cell_type": "markdown",
   "id": "40c1f43b",
   "metadata": {},
   "source": [
    "This module simply provides a way to time routines (python and ipython have built-in methods for this too)"
   ]
  },
  {
   "cell_type": "code",
   "execution_count": 3,
   "id": "a093bd2b",
   "metadata": {},
   "outputs": [
    {
     "name": "stdout",
     "output_type": "stream",
     "text": [
      "main loop:  0.005697011947631836\n",
      "333283335000.0\n"
     ]
    }
   ],
   "source": [
    "t = myprofile.Timer(\"main loop\")\n",
    "t.begin()\n",
    "\n",
    "# Your own code\n",
    "sum = 0.0\n",
    "for n in range(10000):\n",
    "    sum += n**2\n",
    "\n",
    "\n",
    "t.end()\n",
    "myprofile.time_report()\n",
    "\n",
    "print(sum)"
   ]
  },
  {
   "cell_type": "markdown",
   "id": "c2b8f261",
   "metadata": {},
   "source": [
    "### Running scripts:\n",
    "\n",
    "1. python myprofile.py\n",
    "\n",
    "\n",
    "2. %run myprofile"
   ]
  },
  {
   "cell_type": "code",
   "execution_count": 4,
   "id": "aa3b675f",
   "metadata": {},
   "outputs": [
    {
     "name": "stdout",
     "output_type": "stream",
     "text": [
      "1:  10.003652095794678\n",
      "2:  25.009170055389404\n",
      "   3:  20.004947185516357\n"
     ]
    }
   ],
   "source": [
    "%run myprofile"
   ]
  },
  {
   "cell_type": "markdown",
   "id": "fabf664b",
   "metadata": {},
   "source": [
    "# Exceptions\n",
    "\n",
    "There are a lot of different types of exceptions that you can catch, and you can catch multiple ones per except clause or have multiple except clauses.\n",
    "\n",
    "You probably won't be able to anticipate every failure mode in advance.  In that case, when you run and your code crashes because of an exception, the python interpreter will print out the name of the exception and you can then modify your code to take the appropriate action.\n",
    "\n",
    "Python raises exceptions when it encounters an error.  The idea is that you can trap these exceptions and take an appropriate action instead of causing the code to crash.  The mechanism for this is `try` / `except`.  Here's an example that causes an exception, `ZeroDivisionError`:"
   ]
  },
  {
   "cell_type": "code",
   "execution_count": 5,
   "id": "57d17e15",
   "metadata": {},
   "outputs": [
    {
     "ename": "ZeroDivisionError",
     "evalue": "division by zero",
     "output_type": "error",
     "traceback": [
      "\u001b[0;31m---------------------------------------------------------------------------\u001b[0m",
      "\u001b[0;31mZeroDivisionError\u001b[0m                         Traceback (most recent call last)",
      "\u001b[0;32m/var/folders/sw/g1jmwgb9161cw02pzv6xtvjw0000gn/T/ipykernel_13014/3067814544.py\u001b[0m in \u001b[0;36m<module>\u001b[0;34m\u001b[0m\n\u001b[0;32m----> 1\u001b[0;31m \u001b[0ma\u001b[0m \u001b[0;34m=\u001b[0m \u001b[0;36m1\u001b[0m\u001b[0;34m/\u001b[0m\u001b[0;36m0\u001b[0m\u001b[0;34m\u001b[0m\u001b[0;34m\u001b[0m\u001b[0m\n\u001b[0m",
      "\u001b[0;31mZeroDivisionError\u001b[0m: division by zero"
     ]
    }
   ],
   "source": [
    "a = 1/0"
   ]
  },
  {
   "cell_type": "markdown",
   "id": "ac18926e",
   "metadata": {},
   "source": [
    "and here we handle this  "
   ]
  },
  {
   "cell_type": "code",
   "execution_count": null,
   "id": "cc1dd2df",
   "metadata": {},
   "outputs": [],
   "source": [
    "try:\n",
    "    a = 1/0\n",
    "except ZeroDivisionError:\n",
    "    print(\"warning: you divided by zero\")\n",
    "    a = 1"
   ]
  },
  {
   "cell_type": "code",
   "execution_count": null,
   "id": "ce293dff",
   "metadata": {},
   "outputs": [],
   "source": [
    "print(a)"
   ]
  },
  {
   "cell_type": "markdown",
   "id": "2f5d7daa",
   "metadata": {},
   "source": [
    "Another example; trying to access a key that doesn't exist in a dictionary:"
   ]
  },
  {
   "cell_type": "code",
   "execution_count": null,
   "id": "be399b43",
   "metadata": {},
   "outputs": [],
   "source": [
    "dict = {\"a\":1, \"b\":2, \"c\":3}\n",
    "print(dict[\"d\"])\n"
   ]
  },
  {
   "cell_type": "markdown",
   "id": "76da0c73",
   "metadata": {},
   "source": [
    "`KeyError` is the exception that was raised.  We can check for this and take the appropriate action instead"
   ]
  },
  {
   "cell_type": "code",
   "execution_count": null,
   "id": "f5742da9",
   "metadata": {},
   "outputs": [],
   "source": [
    "try:\n",
    "    val = dict[\"d\"]\n",
    "except KeyError:\n",
    "    val = None\n",
    "\n",
    "print(val)"
   ]
  },
  {
   "cell_type": "markdown",
   "id": "0d8eb4c6",
   "metadata": {},
   "source": [
    "When you open a file, you get an object which you can then interact with. \n",
    "\n",
    "Here we try to open a file for reading that does not already exist."
   ]
  },
  {
   "cell_type": "code",
   "execution_count": null,
   "id": "b3aaba54",
   "metadata": {},
   "outputs": [],
   "source": [
    "f = open(\"file.txt\", \"r\")"
   ]
  },
  {
   "cell_type": "code",
   "execution_count": null,
   "id": "4e93013c",
   "metadata": {},
   "outputs": [],
   "source": [
    "try:\n",
    "    f = open(\"file.txt\", \"r\")\n",
    "except IOError:\n",
    "    print(\"error: that file does not exist\")\n"
   ]
  },
  {
   "cell_type": "markdown",
   "id": "63c9ee84",
   "metadata": {},
   "source": [
    "## I/O with classes:\n",
    "\n",
    "One of the main things that we want to do in scientific computing is get data into and out of our programs.  In addition to plain text files, there are modules that can read lots of different data formats we might encounter.\n"
   ]
  },
  {
   "cell_type": "markdown",
   "id": "c96b745d",
   "metadata": {},
   "source": [
    "### Print\n",
    "\n",
    "We've already been using print quite a bit, but now we'll look at how to control how information is printed."
   ]
  },
  {
   "cell_type": "code",
   "execution_count": null,
   "id": "11dc4823",
   "metadata": {},
   "outputs": [],
   "source": [
    "x = 1\n",
    "y = 0.0000354\n",
    "z = 3.0\n",
    "s = \"my string\"\n"
   ]
  },
  {
   "cell_type": "code",
   "execution_count": null,
   "id": "89de2abb",
   "metadata": {},
   "outputs": [],
   "source": [
    "print(x, y, z, s)"
   ]
  },
  {
   "cell_type": "markdown",
   "id": "f90c0de9",
   "metadata": {},
   "source": [
    "We write a string with `{}` embedded to indicate where variables are to be inserted.  Note that `{}` can take arguments.  We use the `format()` method on the string to match the variables to the `{}`."
   ]
  },
  {
   "cell_type": "code",
   "execution_count": null,
   "id": "139b13cc",
   "metadata": {},
   "outputs": [],
   "source": [
    "print(\"x = {}, y = {}, z = {}, s = {}\".format(x, y, z, s))"
   ]
  },
  {
   "cell_type": "markdown",
   "id": "0a0f6f75",
   "metadata": {},
   "source": [
    "We can give an optional index/position/descriptor of the value we want to print.\n",
    "\n",
    "We give a format specifier. It has a number field and a type, like `f` and `g` to describe how floating point numbers appear and how much precision to show.   Other bits are possible as well (like justification). "
   ]
  },
  {
   "cell_type": "code",
   "execution_count": null,
   "id": "226624e8",
   "metadata": {},
   "outputs": [],
   "source": [
    "print(\"x = {0}, y = {1:10.5g}, z = {2:.3f}, s = {3}\".format(x, y, z, s))"
   ]
  },
  {
   "cell_type": "markdown",
   "id": "2c72455a",
   "metadata": {},
   "source": [
    "There are other formatting things, like justification, etc. "
   ]
  },
  {
   "cell_type": "code",
   "execution_count": null,
   "id": "fc3ec530",
   "metadata": {},
   "outputs": [],
   "source": [
    "print(\"{:^100}\".format(\"centered string\"))"
   ]
  },
  {
   "cell_type": "markdown",
   "id": "bdda5331",
   "metadata": {},
   "source": [
    "## File I/O\n",
    "\n",
    "As expected, a file is an object.\n",
    "\n",
    "Here we'll use the `try`, `except` block to capture exceptions (like if the file cannot be opened). "
   ]
  },
  {
   "cell_type": "code",
   "execution_count": null,
   "id": "4c7d5067",
   "metadata": {},
   "outputs": [],
   "source": [
    "try: f = open(\"./sample1.txt\", \"w\")   # open for writing -- any file of the same name will be overwritten\n",
    "except: \n",
    "    print(\"cannot open the file\")\n",
    "\n",
    "print(f)"
   ]
  },
  {
   "cell_type": "code",
   "execution_count": null,
   "id": "914fdad8",
   "metadata": {},
   "outputs": [],
   "source": [
    "f.write(\"Hellpo, this is my second write\\n\")\n",
    "f.close()"
   ]
  },
  {
   "cell_type": "markdown",
   "id": "4f9c9610",
   "metadata": {},
   "source": [
    "We can easily loop over the lines in a file"
   ]
  },
  {
   "cell_type": "code",
   "execution_count": null,
   "id": "25df8175",
   "metadata": {},
   "outputs": [],
   "source": [
    "try: \n",
    "    f = open(\"./sample1.txt\", \"r\")\n",
    "except:\n",
    "    print(\"error: cannot open the file\")\n",
    "    \n",
    "for line in f:\n",
    "    print(line.split())\n",
    "    \n",
    "f.close()"
   ]
  },
  {
   "cell_type": "markdown",
   "id": "4a198d09",
   "metadata": {},
   "source": [
    "As mentioned earlier, there are lots of string functions. \n",
    "\n",
    "Above we used `split()` to remove the trailing whitespace and returns"
   ]
  },
  {
   "cell_type": "markdown",
   "id": "bfa4d9aa",
   "metadata": {},
   "source": [
    "## CSV Files\n",
    "\n",
    "Comma-separated values (CSV) are an easy way to exchange data -- you can generate these from a spreadsheet program.\n",
    "\n",
    "In the example below, we are assuming that the first line of the spreadsheet/csv file gives the headings that identify the columns.  \n",
    "\n",
    "Note that there is an amazing amount of variation in terms of what can be in a CSV file and what the format is -- the csv module does a good job sorting this all out for you."
   ]
  },
  {
   "cell_type": "code",
   "execution_count": null,
   "id": "c5767f14",
   "metadata": {},
   "outputs": [],
   "source": [
    "class Item(object):\n",
    "    def __init__(self):\n",
    "        self.name = \"\"\n",
    "        self.quantity = 0\n",
    "        self.unitprice = 0.0\n",
    "        self.total = 0.0\n"
   ]
  },
  {
   "cell_type": "code",
   "execution_count": null,
   "id": "76d7d2a8",
   "metadata": {},
   "outputs": [],
   "source": [
    "import csv"
   ]
  },
  {
   "cell_type": "code",
   "execution_count": null,
   "id": "c7bbcaf3",
   "metadata": {},
   "outputs": [],
   "source": [
    "reader = csv.reader(open(\"shopping.csv\", \"r\"))\n",
    "\n",
    "headings = None\n",
    "\n",
    "shopping_list = []\n",
    "\n",
    "for row in reader:\n",
    "    if headings == None:\n",
    "        # first row\n",
    "        headings = row\n",
    "    else:\n",
    "        my_item = Item()\n",
    "        my_item.name = row[headings.index(\"item\")]\n",
    "        my_item.quantity = row[headings.index(\"quantity\")]\n",
    "        my_item.unitprice = row[headings.index(\"unit price\")]\n",
    "        my_item.total = row[headings.index(\"total\")]\n",
    "        shopping_list.append(my_item)"
   ]
  },
  {
   "cell_type": "code",
   "execution_count": null,
   "id": "316653d3",
   "metadata": {},
   "outputs": [],
   "source": [
    "print(shopping_list)"
   ]
  },
  {
   "cell_type": "code",
   "execution_count": null,
   "id": "f96d054b",
   "metadata": {},
   "outputs": [],
   "source": [
    "for i in shopping_list:\n",
    "    print (\"item: {}, quantity: {}, unit price: {}, total: {}\".format(i.name, i.quantity, i.unitprice, i.total))\n"
   ]
  },
  {
   "cell_type": "markdown",
   "id": "c2ef40bf",
   "metadata": {},
   "source": [
    "# Configuration (ini) Files\n",
    "\n",
    "INI or Config files are a common way of specifying options to a program.  They can take the form (from the `ConfigParser` page):\n",
    "\n",
    "```\n",
    "[My Section]\n",
    "foodir: %(dir)s/whatever\n",
    "dir=frob\n",
    "long: this value continues\n",
    "   in the next line\n",
    "```\n",
    "\n",
    "Here we look at how to read in options and store them in a dictionary of the form `dict[\"sec.option\"] = value`\n",
    "\n",
    "We'll use a sample .ini file from a regression test suite (`tests.ini`)."
   ]
  },
  {
   "cell_type": "code",
   "execution_count": null,
   "id": "ca6d703a",
   "metadata": {},
   "outputs": [],
   "source": [
    "import configparser"
   ]
  },
  {
   "cell_type": "code",
   "execution_count": null,
   "id": "3dfe8d93",
   "metadata": {},
   "outputs": [],
   "source": [
    "options = {}\n",
    "\n",
    "cp = configparser.ConfigParser()\n",
    "cp.optionxform = str    # this makes options case-sensitive\n",
    "cp.read(\"tests.ini\")\n",
    "\n",
    "for sec in cp.sections():\n",
    "    for opt in cp.options(sec):\n",
    "        key = str(sec) + \".\" + str(opt)\n",
    "        value = cp.get(sec,opt)\n",
    "        options[key] = value\n",
    "    \n",
    "for k, v in options.items():\n",
    "    print(\"{:32s}: {}\".format(k, v))\n"
   ]
  },
  {
   "cell_type": "code",
   "execution_count": null,
   "id": "0178b37a",
   "metadata": {},
   "outputs": [],
   "source": []
  }
 ],
 "metadata": {
  "kernelspec": {
   "display_name": "Python 3 (ipykernel)",
   "language": "python",
   "name": "python3"
  },
  "language_info": {
   "codemirror_mode": {
    "name": "ipython",
    "version": 3
   },
   "file_extension": ".py",
   "mimetype": "text/x-python",
   "name": "python",
   "nbconvert_exporter": "python",
   "pygments_lexer": "ipython3",
   "version": "3.7.16"
  }
 },
 "nbformat": 4,
 "nbformat_minor": 5
}

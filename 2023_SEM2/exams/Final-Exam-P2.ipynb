{
 "cells": [
  {
   "cell_type": "markdown",
   "id": "80cd4f5e",
   "metadata": {},
   "source": [
    "# Final Exam (part 2) - Computational Physics 2\n",
    "\n",
    "## General instructions:\n",
    "\n",
    "\n",
    "- **Date:** Monday 18 December 2023\n",
    "\n",
    "- When you finish this part, please **send a single ipynb file via email** to wbanda@yachaytech.edu.ec\n",
    "\n",
    "- This part is **individual**.\n"
   ]
  },
  {
   "cell_type": "markdown",
   "id": "b1b1c822",
   "metadata": {},
   "source": [
    "### 6. (10 points) FFT method for fluid dynamics: 1D Shock waves\n",
    "\n",
    "We wish to study the emergence of 1D shock waves in fluids. To do this we will modify our one-way wave equation to account for non-linear convection, i.e. we will consider that the speed of an initial Gaussian density perturbation $\\rho(x, 0) = 4\\,e^{-x^2}$ propagating across a periodic 1D domain is not constant, but a function of the density itself, so that our PDE becomes:\n",
    "\n",
    "$$\\frac{\\partial \\rho}{\\partial t} + \\rho\\frac{\\partial \\rho}{\\partial x} =0$$\n",
    "\n",
    "\n",
    "As we see from the above equation, portions of $\\rho$ with larger amplitudes will convect more rapidly, giving rise to wave steepening (i.e. to a discontinuity, which we call a **shock wave**). Without a diffusive term, the shock would become infinitely steep. Therefore, we add a diffusive (parabolic) term to our PDE so that the shock maintains a finite width. Our PDE then becomes:\n",
    "\n",
    "$$\\frac{\\partial \\rho}{\\partial t} + \\rho\\frac{\\partial \\rho}{\\partial x} =\\alpha\\frac{\\partial^2 \\rho}{\\partial x^2}$$\n",
    "\n",
    "where $\\alpha$ is a diffusion constant.\n",
    "\n",
    "\n",
    "**(a)** Create an appropriate domain and a reasonable time vector for the problem, and make a plot of the initial density profile.\n",
    "\n",
    "\n",
    "**(b)** Write a python function for the right-hand-side (RHS) of the PDE that allows you to map in and out of the Fourier domain at each time. Note that this PDE is non-linear, so the function should return the RHS in real space. **Hint:** it may be helpful to write the derivative terms in our PDE in Fourier domain.\n",
    "\n",
    "\n",
    "**(c)** Choose a reasonable value for the diffusion constant, $\\alpha$, and call your function in (b). What is this function achieving so far and what space (real or Fourier) is the output in?\n",
    "\n",
    "\n",
    "**(d)** Find and plot the solution, $\\rho(x,t)$, **using your FFT method.**. For this, you need to feed a scipy ODE integrator with the function you created in (b). **Hint:** make sure you feed the correct wavenumbers to the ODE integrator.\n",
    "\n",
    "\n",
    "**(e)** Repeat the above calculations for two additional $\\alpha$ values (one of them should be 0). Then, make a figure (or movie) with three panels comparing the results for different $\\alpha$ values and briefly discuss the role of this parameter in regulating the morphology of the shock wave."
   ]
  }
 ],
 "metadata": {
  "kernelspec": {
   "display_name": "Python 3 (ipykernel)",
   "language": "python",
   "name": "python3"
  },
  "language_info": {
   "codemirror_mode": {
    "name": "ipython",
    "version": 3
   },
   "file_extension": ".py",
   "mimetype": "text/x-python",
   "name": "python",
   "nbconvert_exporter": "python",
   "pygments_lexer": "ipython3",
   "version": "3.7.16"
  }
 },
 "nbformat": 4,
 "nbformat_minor": 5
}

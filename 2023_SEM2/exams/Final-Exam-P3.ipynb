{
 "cells": [
  {
   "cell_type": "markdown",
   "id": "80cd4f5e",
   "metadata": {},
   "source": [
    "# Final Exam (part 3) - Computational Physics 2\n",
    "\n",
    "## General instructions:\n",
    "\n",
    "\n",
    "- **Deadline: Wednesday 20 March 2023 (by 11am).**\n",
    "<br>\n",
    "\n",
    "- When you finish this part, please send all your modules **in a .tar ball file via email** to wbanda@yachaytech.edu.ec\n",
    "<br>\n",
    "\n",
    "- **This part can be submitted individually or in pairs**. If you submit in pairs, indicate each author's contributions in one of the notebooks.\n",
    "<br>\n",
    "\n",
    "- **Please send your compressed tar file with the indicated tree scheme (I won't mark disorganised code that has not been sent with the requested structure):**\n"
   ]
  },
  {
   "cell_type": "markdown",
   "id": "195a4d68",
   "metadata": {},
   "source": [
    "## 7. (10 points): Slope limiters for fluid dynamics and python module\n",
    "\n",
    "This problem consists of building your own python package (called **cfdadvection**) to solve 1D advection problems for different initial conditions, using a finite volume approach and different slope limiters.\n",
    "\n",
    "### Python packaging:\n",
    "\n",
    "(a) The package should be organised as we studied in class. \n",
    "\n",
    "```\n",
    "cfdadvection\n",
    "├── cfdadvection\n",
    "│   ├── __init__.py\n",
    "│   └── advection.py\n",
    "├── setup.py\n",
    "├── example1.ipynb\n",
    "├── example2.ipynb\n",
    "├── outputfolder\n",
    "└── README.md\n",
    "```\n",
    "\n",
    "The **README** file should contain enough information, so that it is straightforward for the user to utilise your package. The setup file should indicate the metadata and any dependencies needed to install your package.\n",
    "\n",
    "\n",
    "\n",
    "(b) Your python package (**advection.py**) should contain classes and functions with methods to initialise the user's initial conditions onto a 1D grid (e.g. a top-hat function or a Gaussian function), fill in the (periodic) boundary conditions, calculate the time step based on the user's defined CFL number, compute the right and left states, solve the Riemann problem, do a conservative update using the fluxes, store the solution history, and make plots at user-defined times.\n",
    "\n",
    "\n",
    "(c) Write a python notebook **example1.ipynb** to illustrate how a user should use your code. This python notebook should sucessfully import your module, initialise a function onto a 1D grid (e.g. a top-hat function or a Gaussian function), call the relevant classes and functions within your **cfdadvection** module to advect the profile, and return a single figure showing the results for all slope limiters after $5$ periods. Use periodic boundary conditions for all runs.\n",
    "\n",
    "### New slope limiters:\n",
    "\n",
    "Now that your **advection.py** code is working well, you can customise it.\n",
    "\n",
    "(d) Edit your **advection.py** file and implement two new slope limiters. They should be added to the function that computes the left and right states (**don't forget to add the step size $dx$ to the slope discretisation**), according to the following expressions:\n",
    "\n",
    "\n",
    "#### Superbee limiter:\n",
    "$$\\phi_{sb} (r) = \\max \\left[ 0, \\min \\left( 2 r , 1 \\right), \\min \\left( r, 2 \\right) \\right]$$\n",
    "\n",
    "\n",
    "#### Van Leer limiter:\n",
    "$$\\phi_{vl} (r) = \\frac{r + \\left| r \\right| }{1 +  \\left| r \\right| }$$\n",
    "\n",
    "where $r$ is the ratio of successive gradients on the solution mesh: \n",
    "\n",
    "$$r_{i} = \\frac{u_{i} - u_{i-1}}{u_{i+1} - u_{i}}$$\n",
    "\n",
    "### Analysis:\n",
    "\n",
    "(e) Write a python notebook **example2.ipynb** to compare these two new limiters with all the previously implemented ones and with the exact solution. This python notebook should import your module, initialise a function onto a 1D grid (e.g. a top-hat function or a Gaussian), call the relevant classes and functions within your **cfdadvection** module to advect the profile, and return two figures: one showing the results for all slope limiters after $5$ periods and one showing the $L_2$ norm errors for different slope limiters. \n",
    "\n",
    "(f) Based on your analysis, which slope limiter provides the most accurate results? **Note:** Please include all your simulation outputs in the **outputfolder**."
   ]
  }
 ],
 "metadata": {
  "kernelspec": {
   "display_name": "Python 3 (ipykernel)",
   "language": "python",
   "name": "python3"
  },
  "language_info": {
   "codemirror_mode": {
    "name": "ipython",
    "version": 3
   },
   "file_extension": ".py",
   "mimetype": "text/x-python",
   "name": "python",
   "nbconvert_exporter": "python",
   "pygments_lexer": "ipython3",
   "version": "3.7.16"
  }
 },
 "nbformat": 4,
 "nbformat_minor": 5
}

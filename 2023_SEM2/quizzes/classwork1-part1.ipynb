{
 "cells": [
  {
   "cell_type": "markdown",
   "id": "e6d600d5",
   "metadata": {},
   "source": [
    "# Classwork 1 (part 1) - Computational Physics 2\n",
    "\n",
    "- When you finish this part, please send the **.ipynb file** via email to wbanda@yachaytech.edu.ec\n",
    "\n",
    "\n",
    "- This part is open-book and individual. **It includes short questions on concepts and numerics.**\n",
    "\n",
    "\n",
    "- You can call your notebook with your surname, e.g. **name-CW1p1.ipynb**, and also include your name on the notebook.\n",
    "\n",
    "\n",
    "## Instructions:\n",
    "\n",
    "- **Duration: 60 minutes max.**\n",
    "\n",
    "\n",
    "- Within a single python notebook, provide concise answers to the following statements.\n",
    "\n",
    "\n",
    "- **Except for the last questiom, there is no need to add python code in this part of the exam.** Use markdown to include text and equations in latex.\n",
    "\n",
    "\n",
    "- The answers should be written in your own words. **Do not copy material from the Internet.**"
   ]
  },
  {
   "cell_type": "markdown",
   "id": "23199e35",
   "metadata": {},
   "source": [
    "## Name:"
   ]
  },
  {
   "cell_type": "markdown",
   "id": "7878b85c",
   "metadata": {},
   "source": [
    "### 1. (2 points) Euler ODE integrators\n",
    "\n",
    "Explain the difference between explicit and implicit Euler integrators for Ordinary Differential Equations (ODEs)."
   ]
  },
  {
   "cell_type": "markdown",
   "id": "50f727de",
   "metadata": {},
   "source": [
    "### 2. (2 points) Shooting method for ODEs\n",
    "\n",
    "Explain how the shooting method works and what it is used for."
   ]
  },
  {
   "cell_type": "markdown",
   "id": "6b9d09e9",
   "metadata": {},
   "source": [
    "### 3. (2 points) ODE order reduction\n",
    "\n",
    "The 1D motion of a damped oscillator is described by the following ordinary differential equation (ODE):\n",
    "\n",
    "$$m\\frac{d^2x}{dt^2} = -kx - b\\frac{dx}{dt}$$\n",
    "\n",
    "where $m$ is the mass of the oscillator, $k$ is the force constant, and $b$ is the damping constant.\n",
    "\n",
    "(a) Reduce the order of this ODE to first order and write down the resulting matrix-form equation.\n",
    "\n",
    "(b) Identify the slope function and briefly explain what the advantage of carrying out order reduction is."
   ]
  },
  {
   "cell_type": "markdown",
   "id": "8034ac9e",
   "metadata": {},
   "source": [
    "### 4. (2 points) Finite difference method\n",
    "\n",
    "Consider an object with mass, $m$, that falls from rest under the influence of gravity (i.e., along the Y axis). The object is also subjected to a drag force that arises from friction with air molecules, so its equation of motion reads:\n",
    "\n",
    "$$m\\frac{d^2y}{dt^2}=-m\\,g + c\\frac{dy}{dt}$$\n",
    "\n",
    "where $g$ is the aceleration of gravity and $c$ is a friction constant.\n",
    "\n",
    "We want to solve this ODE using a finite-difference approach, assuming we know the boundary conditions, i.e. the initial ($y_0=a$) and final ($y_f=b$) positions of the object.\n",
    "\n",
    "(a) Explain how the finite-difference method works.\n",
    "\n",
    "(b) Write down the ODE in its finite-difference form and sketch its matrix form."
   ]
  },
  {
   "cell_type": "markdown",
   "id": "32da473d",
   "metadata": {},
   "source": [
    "### 5. (2 points)  Butcher's Runge-Kutta integrator\n",
    "\n",
    "A popular method for integrating ODEs with a high order of accuracy is the **Butcher's Runge-Kutta method**. It is obtained by following a similar approach to the one we discussed in class. This method uses six points $k_1, k_2, k_3$, $k_4$, $k_5$, and $k_6$. A weighted average of these points is used to produce the approximation of the solution. The algorithm relies on computing the following slopes:\n",
    "\n",
    "$$\n",
    "\\begin{eqnarray*}\n",
    "k_1 & = & F(t_j,S(t_j))\\\\\n",
    "k_2 & = & F\\left(t_j+\\frac{h}{4},S(t_j)+\\frac{1}{4}k_1h\\right)\\\\\n",
    "k_3 & = & F\\left(t_j+\\frac{h}{4},S(t_j)+\\frac{1}{8}k_1h+\\frac{1}{8}k_2h\\right)\\\\\n",
    "k_4 & = & F\\left(t_j+\\frac{h}{2},S(t_j)-\\frac{1}{2}k_2h+k_3h\\right)\\\\\n",
    "k_5 & = & F\\left(t_j+\\frac{3h}{4},S(t_j)+\\frac{3}{16}k_1h+\\frac{9}{16}k_4h\\right)\\\\\n",
    "k_6 & = & F\\left(t_j+h,S(t_j)-\\frac{3}{7}k_1h+\\frac{2}{7}k_2h+\\frac{12}{7}k_3h-\\frac{12}{7}k_4h+\\frac{8}{7}k_5h\\right)\n",
    "\\end{eqnarray*}\n",
    "$$\n",
    "\n",
    "The solutions is then constructed as follows:\n",
    "\n",
    "$$\n",
    "S(t_{j+1}) = S(t_j) + \\frac{h}{90}\\left(7k_1 + 32k_3 + 12k_4 + 32k_5+7k_6\\right).\n",
    "$$\n",
    "\n",
    "\n",
    "Design and write a python function for the above integrator. The function should take the step size as an argument for a specified ODE, and then return its solution by using the aforementioned **Butcher's Runge-Kutta method**."
   ]
  }
 ],
 "metadata": {
  "kernelspec": {
   "display_name": "Python 3 (ipykernel)",
   "language": "python",
   "name": "python3"
  },
  "language_info": {
   "codemirror_mode": {
    "name": "ipython",
    "version": 3
   },
   "file_extension": ".py",
   "mimetype": "text/x-python",
   "name": "python",
   "nbconvert_exporter": "python",
   "pygments_lexer": "ipython3",
   "version": "3.7.16"
  }
 },
 "nbformat": 4,
 "nbformat_minor": 5
}

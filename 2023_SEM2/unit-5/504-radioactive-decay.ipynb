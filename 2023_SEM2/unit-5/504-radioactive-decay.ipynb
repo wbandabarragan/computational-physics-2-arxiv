{
 "cells": [
  {
   "cell_type": "markdown",
   "id": "e1928944",
   "metadata": {
    "id": "e1928944"
   },
   "source": [
    "# MC application: Radioactive decay\n",
    "\n",
    "- Spontaneous decay is a natural process in which a particle, with no external stimulation, decays into other particles.\n",
    "\n",
    "- Even though the probability of decay of any one particle in any time interval is constant, when it decays is a random event.\n",
    "\n",
    "Because the exact moment when any one particle decays is random, it does not matter how long the particle has been around or whether some other particles have decayed.\n",
    "\n",
    "- The probability $P$ of any one particle decaying per unit time interval is a constant, and when that particle decays, it is gone forever. The probability is:\n",
    "\n",
    "$$P=\\frac{\\Delta N(t)}{\\Delta t\\,N(t)}=-\\lambda$$\n",
    "\n",
    "The activity is proportional to the total number of particles still present, so it is also stochastic with an exponential-like decay in time:\n",
    "\n",
    "$$\\Rightarrow \\frac{\\Delta N(t)}{\\Delta t}=-\\lambda\\,N(t)$$\n",
    "\n",
    "where: $\\lambda$ is the decay rate.\n",
    "\n",
    "- Of course, as the total number of particles decreases with time, so will the number of decays, but the probability of any one particle decaying in some time interval is always the same constant as long as that particle exists.\n",
    "\n",
    "- The equation above can be solved numerically when we include the fact that the decay process is random. Because the process is random, we cannot predict a single value for $\\Delta N(t)$, but we can predict the average number of decays when observations are made of many identical systems of $N$ decaying particles.\n",
    "\n",
    "When the number of particles $N\\to \\infty$ and the observation time interval $\\Delta t \\to 0$, an approximate form of the radioactive decay law results:\n",
    "\n",
    "$$\\Rightarrow \\frac{d N(t)}{dt}=-\\lambda\\,N(t)$$\n",
    "\n",
    "Integrating:\n",
    "\n",
    "$$N(t)=N_0\\,\\exp(-\\lambda t)$$\n",
    "\n",
    "We obtain exponential decay, which leads to the identification of the decay rate $\\lambda$ with the inverse lifetime:\n",
    "\n",
    "$$\\lambda=\\frac{1}{\\tau}$$\n",
    "\n",
    "\n",
    "- The exponential decay law is a large-number approximation to a natural process that always ends with small numbers, so our MCMC simulation should be closer to nature than is the exponential decay law.\n",
    "\n",
    "- Exponential decay becomes less and less accurate as the number of particles becomes smaller and smaller.\n",
    "\n",
    "\n",
    "\n",
    "#### Reference: Landau, Computational Physics."
   ]
  },
  {
   "cell_type": "code",
   "execution_count": 1,
   "id": "270d28cf",
   "metadata": {
    "id": "270d28cf"
   },
   "outputs": [],
   "source": [
    "import numpy as np\n",
    "import matplotlib.pyplot as plt\n",
    "import random\n",
    "import os"
   ]
  },
  {
   "cell_type": "code",
   "execution_count": 2,
   "id": "ace38c3b",
   "metadata": {
    "id": "ace38c3b"
   },
   "outputs": [],
   "source": [
    "# Decay constant\n",
    "lambda1 = 0.01\n",
    "\n",
    "# N value\n",
    "n_max = 10000\n",
    "\n",
    "# Max time\n",
    "time_max = 1000\n",
    "\n",
    "# Fix seed\n",
    "seed = 68111\n",
    "\n",
    "# Initial value\n",
    "\n",
    "number = nloop = n_max\n",
    "\n",
    "# Zero arrays to start\n",
    "y = np.zeros(time_max)\n",
    "t = np.zeros(time_max)\n"
   ]
  },
  {
   "cell_type": "code",
   "execution_count": 3,
   "id": "28742935",
   "metadata": {
    "id": "28742935",
    "scrolled": false
   },
   "outputs": [],
   "source": [
    "# Time loop\n",
    "\n",
    "for time in range(0, time_max):\n",
    "\n",
    "    # Decay loop\n",
    "    for atom in range(1, number):\n",
    "        decay = random.random()\n",
    "        if (decay  <  lambda1):\n",
    "            # A decay\n",
    "            nloop = nloop  -  1\n",
    "            #os.system('say \"Decay.\"')\n",
    "\n",
    "    number  = nloop\n",
    "    y[time] = nloop\n",
    "    t[time] = time"
   ]
  },
  {
   "cell_type": "code",
   "execution_count": 4,
   "id": "c6ae5ce2",
   "metadata": {
    "id": "c6ae5ce2"
   },
   "outputs": [],
   "source": [
    "#print(n_max)"
   ]
  },
  {
   "cell_type": "markdown",
   "id": "10c16132",
   "metadata": {
    "id": "10c16132"
   },
   "source": [
    "### Comparison:"
   ]
  },
  {
   "cell_type": "code",
   "execution_count": 5,
   "id": "82d945c0",
   "metadata": {
    "colab": {
     "base_uri": "https://localhost:8080/",
     "height": 455
    },
    "id": "82d945c0",
    "outputId": "4bba6435-c07b-41e3-9a08-403c0cc4daa9"
   },
   "outputs": [
    {
     "data": {
      "image/png": "[encoded data removed]",
      "text/plain": [
       "<Figure size 640x480 with 1 Axes>"
      ]
     },
     "metadata": {},
     "output_type": "display_data"
    }
   ],
   "source": [
    "# Plotting\n",
    "\n",
    "plt.plot(t, np.log(y))\n",
    "\n",
    "plt.plot(t, np.log(n_max*np.exp(-lambda1*t)))\n",
    "plt.xlabel(\"Time\")\n",
    "plt.ylabel(\"N\")\n",
    "\n",
    "plt.ylim(-1, 12)\n",
    "plt.show()"
   ]
  },
  {
   "cell_type": "code",
   "execution_count": null,
   "id": "b5e02ee1",
   "metadata": {
    "id": "b5e02ee1"
   },
   "outputs": [],
   "source": []
  }
 ],
 "metadata": {
  "colab": {
   "include_colab_link": true,
   "provenance": []
  },
  "kernelspec": {
   "display_name": "Python 3 (ipykernel)",
   "language": "python",
   "name": "python3"
  },
  "language_info": {
   "codemirror_mode": {
    "name": "ipython",
    "version": 3
   },
   "file_extension": ".py",
   "mimetype": "text/x-python",
   "name": "python",
   "nbconvert_exporter": "python",
   "pygments_lexer": "ipython3",
   "version": "3.7.16"
  }
 },
 "nbformat": 4,
 "nbformat_minor": 5
}

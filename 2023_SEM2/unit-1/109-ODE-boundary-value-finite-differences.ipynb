{
 "cells": [
  {
   "cell_type": "markdown",
   "id": "36a38517",
   "metadata": {},
   "source": [
    "# ODE Finite Difference Method\n",
    "\n",
    "The **finite difference method** can also be used to solve ODEs.\n",
    "\n",
    "We can use finite difference formulas at evenly spaced grid points to approximate the differential equations. This way, we can transform a differential equation into a system of algebraic equations to solve. \n",
    "\n",
    "In the finite difference method, the derivatives in the differential equation are approximated using the finite difference formulas. We can divide the the interval of $[a, b]$ into $n$ equal subintervals of length $h$.\n",
    "\n",
    "Commonly, we usually use the central difference formulas in the finite difference methods due to the fact that they yield better accuracy. The differential equation is enforced only at the grid points, and the first and second derivatives are:\n",
    "\n",
    "$$\\frac{dy}{dx} = \\frac{y_{i+1}-y_{i-1}}{2h}$$\n",
    "\n",
    "$$\\frac{d^2y}{dx^2} = \\frac{y_{i-1}-2y_i+y_{i+1}}{h^2}$$\n",
    "\n",
    "These finite difference expressions are used to replace the derivatives of $y$ in the differential equation.\n",
    "\n",
    "This leads to a system of $n+1$ linear algebraic equations if the differential equation is linear.\n",
    "\n",
    "If the differential equation is nonlinear, the algebraic equations will also be nonlinear. \n"
   ]
  },
  {
   "cell_type": "markdown",
   "id": "6d843f09",
   "metadata": {},
   "source": [
    "\n",
    "## Example:\n",
    "\n",
    "Let's consider a 2nd order ordinary differential equation:\n",
    "\n",
    "$$\\frac{d^2f(x)}{dx^2} = -10$$\n",
    "\n",
    "if the independent variable is over the domain of [0, 20]. Let's take $n=10$. \n",
    "\n",
    "Since the time interval is $[0, 20]$ and we have $n=10$, therefore, $h=2.0$, using the finite difference approximated derivatives, we have \n",
    "\n",
    "$$ f_0 = 500$$\n",
    "\n",
    "$$ f_{i-1} - 2f_i + f_{i+1} = -10h^2, \\;i = 1, 2, ..., n-1$$\n",
    "\n",
    "$$ f_{10} = 100$$\n",
    "\n",
    "if we use matrix notation, we will have:\n",
    "\n",
    "$$\\begin{bmatrix}\n",
    "1 & 0 & & & \\\\\n",
    "1 & -2 & 1 & &  \\\\\n",
    " & \\ddots & \\ddots & \\ddots & \\\\\n",
    " & & 1& -2& 1 \\\\\n",
    " & & & &1\n",
    "\\end{bmatrix}\\left[\\begin{array}{c} f_0 \\\\f_1 \\\\ ... \\\\ f_{n-1}\\\\f_n \\end{array}\\right] =\n",
    "\\left[\\begin{array}{c} 500 \\\\-10h^2 \\\\ ... \\\\ -10h^2 \\\\100\\end{array}\\right]$$\n",
    "\n",
    "Therefore, we have 11 equations in the system, we can solve it using the method"
   ]
  },
  {
   "cell_type": "markdown",
   "id": "c4a8fa72",
   "metadata": {},
   "source": [
    "### Analytical solution:"
   ]
  },
  {
   "cell_type": "code",
   "execution_count": 1,
   "id": "2ad1442c",
   "metadata": {},
   "outputs": [],
   "source": [
    "import numpy as np\n",
    "import matplotlib.pyplot as plt"
   ]
  },
  {
   "cell_type": "code",
   "execution_count": 2,
   "id": "8732079d",
   "metadata": {},
   "outputs": [],
   "source": [
    "# Define function f(x)\n",
    "f_x = lambda x, s: -5*x**2 + 80*x + 500 # this is y(x)\n",
    "\n",
    "# Spacing\n",
    "h_1 = 0.1\n",
    "\n",
    "# Initial/boundary conditions\n",
    "x_00 = 0.\n",
    "x_20 = 20.\n",
    "\n",
    "f_00 = 500.\n",
    "f_20 = 100.\n",
    "\n",
    "# x_axis\n",
    "x_axis = np.arange(x_00, x_20 + h_1, h_1)"
   ]
  },
  {
   "cell_type": "code",
   "execution_count": 3,
   "id": "6dfd2c7e",
   "metadata": {},
   "outputs": [
    {
     "name": "stdout",
     "output_type": "stream",
     "text": [
      "[[0. 0. 0. 0. 0. 0. 0. 0. 0. 0. 0.]\n",
      " [0. 0. 0. 0. 0. 0. 0. 0. 0. 0. 0.]\n",
      " [0. 0. 0. 0. 0. 0. 0. 0. 0. 0. 0.]\n",
      " [0. 0. 0. 0. 0. 0. 0. 0. 0. 0. 0.]\n",
      " [0. 0. 0. 0. 0. 0. 0. 0. 0. 0. 0.]\n",
      " [0. 0. 0. 0. 0. 0. 0. 0. 0. 0. 0.]\n",
      " [0. 0. 0. 0. 0. 0. 0. 0. 0. 0. 0.]\n",
      " [0. 0. 0. 0. 0. 0. 0. 0. 0. 0. 0.]\n",
      " [0. 0. 0. 0. 0. 0. 0. 0. 0. 0. 0.]\n",
      " [0. 0. 0. 0. 0. 0. 0. 0. 0. 0. 0.]\n",
      " [0. 0. 0. 0. 0. 0. 0. 0. 0. 0. 0.]]\n"
     ]
    }
   ],
   "source": [
    "# DEFINE n\n",
    "n = 10\n",
    "\n",
    "# Define h\n",
    "\n",
    "h = (x_20 - x_00)/n\n",
    "\n",
    "# Get the matrix A\n",
    "A = np.zeros((n+1, n+1))\n",
    "\n",
    "print(A)"
   ]
  },
  {
   "cell_type": "code",
   "execution_count": 4,
   "id": "e54825cd",
   "metadata": {},
   "outputs": [
    {
     "name": "stdout",
     "output_type": "stream",
     "text": [
      "[[1. 0. 0. 0. 0. 0. 0. 0. 0. 0. 0.]\n",
      " [0. 0. 0. 0. 0. 0. 0. 0. 0. 0. 0.]\n",
      " [0. 0. 0. 0. 0. 0. 0. 0. 0. 0. 0.]\n",
      " [0. 0. 0. 0. 0. 0. 0. 0. 0. 0. 0.]\n",
      " [0. 0. 0. 0. 0. 0. 0. 0. 0. 0. 0.]\n",
      " [0. 0. 0. 0. 0. 0. 0. 0. 0. 0. 0.]\n",
      " [0. 0. 0. 0. 0. 0. 0. 0. 0. 0. 0.]\n",
      " [0. 0. 0. 0. 0. 0. 0. 0. 0. 0. 0.]\n",
      " [0. 0. 0. 0. 0. 0. 0. 0. 0. 0. 0.]\n",
      " [0. 0. 0. 0. 0. 0. 0. 0. 0. 0. 0.]\n",
      " [0. 0. 0. 0. 0. 0. 0. 0. 0. 0. 1.]]\n"
     ]
    }
   ],
   "source": [
    "A[0, 0] = 1\n",
    "A[n, n] = 1\n",
    "\n",
    "print(A)"
   ]
  },
  {
   "cell_type": "code",
   "execution_count": 5,
   "id": "3bddb556",
   "metadata": {},
   "outputs": [
    {
     "name": "stdout",
     "output_type": "stream",
     "text": [
      "[[ 1.  0.  0.  0.  0.  0.  0.  0.  0.  0.  0.]\n",
      " [ 1. -2.  1.  0.  0.  0.  0.  0.  0.  0.  0.]\n",
      " [ 0.  1. -2.  1.  0.  0.  0.  0.  0.  0.  0.]\n",
      " [ 0.  0.  1. -2.  1.  0.  0.  0.  0.  0.  0.]\n",
      " [ 0.  0.  0.  1. -2.  1.  0.  0.  0.  0.  0.]\n",
      " [ 0.  0.  0.  0.  1. -2.  1.  0.  0.  0.  0.]\n",
      " [ 0.  0.  0.  0.  0.  1. -2.  1.  0.  0.  0.]\n",
      " [ 0.  0.  0.  0.  0.  0.  1. -2.  1.  0.  0.]\n",
      " [ 0.  0.  0.  0.  0.  0.  0.  1. -2.  1.  0.]\n",
      " [ 0.  0.  0.  0.  0.  0.  0.  0.  1. -2.  1.]\n",
      " [ 0.  0.  0.  0.  0.  0.  0.  0.  0.  0.  1.]]\n"
     ]
    }
   ],
   "source": [
    "for i in range(1, n):\n",
    "\n",
    "    A[i, i-1] = 1\n",
    "    A[i, i]   = -2\n",
    "    A[i, i+1] = 1    \n",
    "\n",
    "print(A)"
   ]
  },
  {
   "cell_type": "code",
   "execution_count": 6,
   "id": "e4fe5a63",
   "metadata": {},
   "outputs": [
    {
     "name": "stdout",
     "output_type": "stream",
     "text": [
      "[0. 0. 0. 0. 0. 0. 0. 0. 0. 0. 0.]\n"
     ]
    }
   ],
   "source": [
    "# Create b vector\n",
    "\n",
    "b = np.zeros(n+1)\n",
    "print(b)"
   ]
  },
  {
   "cell_type": "code",
   "execution_count": 7,
   "id": "b9e58126",
   "metadata": {},
   "outputs": [
    {
     "name": "stdout",
     "output_type": "stream",
     "text": [
      "[500.   0.   0.   0.   0.   0.   0.   0.   0.   0. 100.]\n"
     ]
    }
   ],
   "source": [
    "b[0]  = 500\n",
    "b[-1] = 100\n",
    "\n",
    "print(b)"
   ]
  },
  {
   "cell_type": "code",
   "execution_count": 8,
   "id": "fc1b0369",
   "metadata": {},
   "outputs": [
    {
     "name": "stdout",
     "output_type": "stream",
     "text": [
      "[500. -40. -40. -40. -40. -40. -40. -40. -40. -40. 100.]\n"
     ]
    }
   ],
   "source": [
    "b[1:-1] = -10*h**2\n",
    "\n",
    "print(b)"
   ]
  },
  {
   "cell_type": "code",
   "execution_count": 9,
   "id": "263e9e16",
   "metadata": {},
   "outputs": [
    {
     "name": "stdout",
     "output_type": "stream",
     "text": [
      "[500. 640. 740. 800. 820. 800. 740. 640. 500. 320. 100.]\n"
     ]
    }
   ],
   "source": [
    "# Solve system of n+1 eqs.\n",
    "\n",
    "f = np.linalg.solve(A, b)  # A @ b\n",
    "\n",
    "print(f)"
   ]
  },
  {
   "cell_type": "code",
   "execution_count": 10,
   "id": "93c97038",
   "metadata": {},
   "outputs": [
    {
     "data": {
      "image/png": "[encoded data removed]",
      "text/plain": [
       "<Figure size 500x400 with 1 Axes>"
      ]
     },
     "metadata": {},
     "output_type": "display_data"
    }
   ],
   "source": [
    "# PLotting\n",
    "\n",
    "x = np.linspace(0, 20, n+1)\n",
    "\n",
    "plt.figure(figsize=(5,4))\n",
    "plt.plot(x, f)\n",
    "\n",
    "plt.xlabel('x')\n",
    "plt.ylabel('f')\n",
    "plt.show()\n"
   ]
  },
  {
   "cell_type": "code",
   "execution_count": 11,
   "id": "36e4f24a",
   "metadata": {},
   "outputs": [
    {
     "data": {
      "image/png": "[encoded data removed]",
      "text/plain": [
       "<Figure size 500x400 with 1 Axes>"
      ]
     },
     "metadata": {},
     "output_type": "display_data"
    }
   ],
   "source": [
    "# Plotting\n",
    "\n",
    "plt.figure(figsize = (5,4))\n",
    "\n",
    "plt.plot(x_axis, f_x(x_axis, f_00), \"g\", label = \"Exact solution\")\n",
    "plt.plot(x, f, \"r\", label = \"Fin. Diff. solution\")\n",
    "\n",
    "plt.xlabel('x')\n",
    "plt.ylabel('f(x)')\n",
    "\n",
    "#plt.xlim(0,2.0)\n",
    "#plt.ylim(0,1.1)\n",
    "\n",
    "plt.legend()\n",
    "plt.show()"
   ]
  },
  {
   "cell_type": "code",
   "execution_count": null,
   "id": "7b06a68e",
   "metadata": {},
   "outputs": [],
   "source": []
  },
  {
   "cell_type": "code",
   "execution_count": null,
   "id": "9ee7c180",
   "metadata": {},
   "outputs": [],
   "source": []
  },
  {
   "cell_type": "code",
   "execution_count": null,
   "id": "4532c773",
   "metadata": {},
   "outputs": [],
   "source": []
  },
  {
   "cell_type": "code",
   "execution_count": null,
   "id": "e69b37d0",
   "metadata": {},
   "outputs": [],
   "source": []
  },
  {
   "cell_type": "code",
   "execution_count": null,
   "id": "34230601",
   "metadata": {},
   "outputs": [],
   "source": []
  }
 ],
 "metadata": {
  "kernelspec": {
   "display_name": "Python 3 (ipykernel)",
   "language": "python",
   "name": "python3"
  },
  "language_info": {
   "codemirror_mode": {
    "name": "ipython",
    "version": 3
   },
   "file_extension": ".py",
   "mimetype": "text/x-python",
   "name": "python",
   "nbconvert_exporter": "python",
   "pygments_lexer": "ipython3",
   "version": "3.9.12"
  }
 },
 "nbformat": 4,
 "nbformat_minor": 5
}

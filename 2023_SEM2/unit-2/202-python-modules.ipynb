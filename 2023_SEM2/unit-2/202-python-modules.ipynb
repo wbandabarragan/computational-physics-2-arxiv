{
 "cells": [
  {
   "cell_type": "markdown",
   "id": "b67b8d61",
   "metadata": {},
   "source": [
    "# Python Scopes and Modules\n",
    "\n",
    "## Python Scopes:\n",
    "\n",
    "Scopes are environments within which variables are defined.\n",
    "\n",
    "- A variable is only available from inside the region where it is created.\n",
    "\n",
    "We have two types:\n",
    "\n",
    "\n",
    "## 1. Local scope:\n",
    "\n",
    "A variable created inside a function belongs to the local scope of that function, and can only be used inside that function.\n"
   ]
  },
  {
   "cell_type": "code",
   "execution_count": 1,
   "id": "fe7f5f2f",
   "metadata": {},
   "outputs": [],
   "source": [
    "# Example\n",
    "\n",
    "def function_example():\n",
    "    # a is defined as a local variable/scope\n",
    "    a = \"computational physics II\"\n",
    "    print(a)"
   ]
  },
  {
   "cell_type": "code",
   "execution_count": 2,
   "id": "5084f14c",
   "metadata": {},
   "outputs": [
    {
     "name": "stdout",
     "output_type": "stream",
     "text": [
      "computational physics II\n"
     ]
    }
   ],
   "source": [
    "# Call the funtion\n",
    "\n",
    "function_example()\n",
    "\n",
    "#print(a) # produces an error"
   ]
  },
  {
   "cell_type": "code",
   "execution_count": 3,
   "id": "083dd690",
   "metadata": {},
   "outputs": [],
   "source": [
    "# 2nd Example\n",
    "\n",
    "def function_example():\n",
    "    # a is defined as a local variable/scope\n",
    "    a = \"computational physics II\"\n",
    "    def function_example2():\n",
    "        print(a)\n",
    "    function_example2()"
   ]
  },
  {
   "cell_type": "code",
   "execution_count": 4,
   "id": "9300855f",
   "metadata": {},
   "outputs": [
    {
     "name": "stdout",
     "output_type": "stream",
     "text": [
      "computational physics II\n"
     ]
    }
   ],
   "source": [
    "function_example()"
   ]
  },
  {
   "cell_type": "code",
   "execution_count": 5,
   "id": "bd080164",
   "metadata": {},
   "outputs": [],
   "source": [
    "# 3rd Example\n",
    "\n",
    "def function_example():\n",
    "    def function_example2():\n",
    "        # a is defined as a local variable/scope\n",
    "        a = \"computational physics II\"\n",
    "        print(a)\n",
    "    function_example2()"
   ]
  },
  {
   "cell_type": "code",
   "execution_count": 6,
   "id": "a6f0b519",
   "metadata": {},
   "outputs": [
    {
     "name": "stdout",
     "output_type": "stream",
     "text": [
      "computational physics II\n"
     ]
    }
   ],
   "source": [
    "function_example()"
   ]
  },
  {
   "cell_type": "code",
   "execution_count": 7,
   "id": "4edb19e1",
   "metadata": {},
   "outputs": [],
   "source": [
    "#print(a)"
   ]
  },
  {
   "cell_type": "markdown",
   "id": "84d90400",
   "metadata": {},
   "source": [
    "## 2. Global scope:\n",
    "\n",
    "A variable created in the main body of the Python code is a global variable and belongs to the global scope.\n",
    "\n",
    "Global variables are available from within any scope, global and local."
   ]
  },
  {
   "cell_type": "code",
   "execution_count": 8,
   "id": "23311be4",
   "metadata": {},
   "outputs": [],
   "source": [
    "# a is defined as a global variable/scope\n",
    "a = \"computational physics II\""
   ]
  },
  {
   "cell_type": "code",
   "execution_count": 9,
   "id": "16c2f6b5",
   "metadata": {},
   "outputs": [],
   "source": [
    "# 4th Example\n",
    "\n",
    "def function_example():\n",
    "    def function_example2():\n",
    "        print(a)\n",
    "    function_example2()"
   ]
  },
  {
   "cell_type": "code",
   "execution_count": 10,
   "id": "e3ad0528",
   "metadata": {},
   "outputs": [
    {
     "name": "stdout",
     "output_type": "stream",
     "text": [
      "computational physics II\n"
     ]
    }
   ],
   "source": [
    "function_example()"
   ]
  },
  {
   "cell_type": "code",
   "execution_count": 11,
   "id": "ac6d7174",
   "metadata": {},
   "outputs": [
    {
     "name": "stdout",
     "output_type": "stream",
     "text": [
      "computational physics II\n"
     ]
    }
   ],
   "source": [
    "print(a)"
   ]
  },
  {
   "cell_type": "code",
   "execution_count": 12,
   "id": "a3016856",
   "metadata": {},
   "outputs": [],
   "source": [
    "# Free the memory/remove the variable\n",
    "del(a)"
   ]
  },
  {
   "cell_type": "code",
   "execution_count": 13,
   "id": "edde5fe8",
   "metadata": {},
   "outputs": [],
   "source": [
    "#print(a) # prints an error"
   ]
  },
  {
   "cell_type": "markdown",
   "id": "be040fd9",
   "metadata": {},
   "source": [
    "## Hierarchy:"
   ]
  },
  {
   "cell_type": "code",
   "execution_count": 14,
   "id": "ed040b8f",
   "metadata": {},
   "outputs": [],
   "source": [
    "# Global vriable\n",
    "\n",
    "a = \"physics\"\n",
    "\n",
    "def function_example3():\n",
    "    a = \"biology\"\n",
    "    print(a)"
   ]
  },
  {
   "cell_type": "code",
   "execution_count": 15,
   "id": "4d399e37",
   "metadata": {},
   "outputs": [
    {
     "name": "stdout",
     "output_type": "stream",
     "text": [
      "biology\n"
     ]
    }
   ],
   "source": [
    "function_example3()"
   ]
  },
  {
   "cell_type": "code",
   "execution_count": 16,
   "id": "281a075a",
   "metadata": {},
   "outputs": [
    {
     "name": "stdout",
     "output_type": "stream",
     "text": [
      "physics\n"
     ]
    }
   ],
   "source": [
    "print(a)"
   ]
  },
  {
   "cell_type": "markdown",
   "id": "2c717781",
   "metadata": {},
   "source": [
    "### Creating global variable from a local scope:\n",
    "\n",
    "\n",
    "We use **global** (local -> global)"
   ]
  },
  {
   "cell_type": "code",
   "execution_count": 17,
   "id": "f19988f1",
   "metadata": {},
   "outputs": [],
   "source": [
    "# Example\n",
    "\n",
    "a = \"physics\"\n",
    "\n",
    "def function_example4():\n",
    "    # We use the keyword global\n",
    "    \n",
    "    global a\n",
    "    a = \"biology\"\n",
    "    print(a)\n",
    "    "
   ]
  },
  {
   "cell_type": "code",
   "execution_count": 18,
   "id": "5e0a2e56",
   "metadata": {},
   "outputs": [
    {
     "name": "stdout",
     "output_type": "stream",
     "text": [
      "physics\n"
     ]
    }
   ],
   "source": [
    "# Print the global variable \n",
    "print(a)"
   ]
  },
  {
   "cell_type": "code",
   "execution_count": 19,
   "id": "f150dfb6",
   "metadata": {},
   "outputs": [
    {
     "name": "stdout",
     "output_type": "stream",
     "text": [
      "biology\n"
     ]
    }
   ],
   "source": [
    "# Print function output\n",
    "function_example4()"
   ]
  },
  {
   "cell_type": "code",
   "execution_count": 20,
   "id": "d4420cff",
   "metadata": {},
   "outputs": [
    {
     "name": "stdout",
     "output_type": "stream",
     "text": [
      "biology\n"
     ]
    }
   ],
   "source": [
    "# Print the global variable \n",
    "print(a)"
   ]
  },
  {
   "cell_type": "markdown",
   "id": "475ce268",
   "metadata": {},
   "source": [
    "## What is stored in memory?"
   ]
  },
  {
   "cell_type": "code",
   "execution_count": 21,
   "id": "cc0d56ae",
   "metadata": {
    "scrolled": false
   },
   "outputs": [],
   "source": [
    "# View all the variables, methods that are being used in memory\n",
    "#globals()"
   ]
  },
  {
   "cell_type": "code",
   "execution_count": 22,
   "id": "946d59c6",
   "metadata": {
    "scrolled": false
   },
   "outputs": [],
   "source": [
    "#locals()"
   ]
  },
  {
   "cell_type": "code",
   "execution_count": 23,
   "id": "b43fc902",
   "metadata": {},
   "outputs": [
    {
     "name": "stdout",
     "output_type": "stream",
     "text": [
      "Variable            Type        Data/Info\n",
      "-----------------------------------------\n",
      "a                   str         biology\n",
      "function_example    function    <function function_example at 0x7ff8db29e700>\n",
      "function_example3   function    <function function_example3 at 0x7ff8db2a2b80>\n",
      "function_example4   function    <function function_example4 at 0x7ff8db2a73a0>\n"
     ]
    }
   ],
   "source": [
    "# Names of variables:\n",
    "\n",
    "%whos"
   ]
  },
  {
   "cell_type": "code",
   "execution_count": 24,
   "id": "aecf5ae1",
   "metadata": {},
   "outputs": [
    {
     "name": "stdout",
     "output_type": "stream",
     "text": [
      "biology\n"
     ]
    }
   ],
   "source": [
    "print(a)"
   ]
  },
  {
   "cell_type": "code",
   "execution_count": 25,
   "id": "0bd1d4b6",
   "metadata": {},
   "outputs": [],
   "source": [
    "del(a)"
   ]
  },
  {
   "cell_type": "code",
   "execution_count": 26,
   "id": "76474c4a",
   "metadata": {},
   "outputs": [
    {
     "name": "stdout",
     "output_type": "stream",
     "text": [
      "Variable            Type        Data/Info\n",
      "-----------------------------------------\n",
      "function_example    function    <function function_example at 0x7ff8db29e700>\n",
      "function_example3   function    <function function_example3 at 0x7ff8db2a2b80>\n",
      "function_example4   function    <function function_example4 at 0x7ff8db2a73a0>\n"
     ]
    }
   ],
   "source": [
    "# Names of variables:\n",
    "\n",
    "%whos"
   ]
  },
  {
   "cell_type": "markdown",
   "id": "938aeb59",
   "metadata": {},
   "source": [
    "## Python Modules:\n",
    "\n",
    "- A module is a code library.\n",
    "\n",
    "\n",
    "- It is a file with .py extension\n",
    "\n",
    "\n",
    "- It contains a set of classes/functions.\n",
    "\n",
    "#### Reference:\n",
    "\n",
    "https://sbu-python-class.github.io/python-science/01-python/w4-python-modules.html\n"
   ]
  },
  {
   "cell_type": "markdown",
   "id": "1d7c631e",
   "metadata": {},
   "source": [
    "## Creating/Viewing modules\n",
    "To create a module, save or edit python code in a file with the file extension **.py**:"
   ]
  },
  {
   "cell_type": "code",
   "execution_count": 27,
   "id": "fee6a010",
   "metadata": {},
   "outputs": [
    {
     "name": "stdout",
     "output_type": "stream",
     "text": [
      "# Define a basic python function\r\n",
      "\r\n",
      "def print_message(msg):\r\n",
      "    \"\"\"\r\n",
      "    Function to print a message(msg).\r\n",
      "    \"\"\"\r\n",
      "    print(\"Hola, \" + msg)\r\n"
     ]
    }
   ],
   "source": [
    "!cat ./first_module.py"
   ]
  },
  {
   "cell_type": "markdown",
   "id": "c0221f95",
   "metadata": {},
   "source": [
    "## Using modules\n",
    "\n",
    "We can use these modules using the **import** statement.\n",
    "\n",
    "Module can contain functions and/or variables of all types (arrays, dictionaries, objects etc)."
   ]
  },
  {
   "cell_type": "code",
   "execution_count": 28,
   "id": "c56b871c",
   "metadata": {},
   "outputs": [],
   "source": [
    "# We import our module\n",
    "import first_module "
   ]
  },
  {
   "cell_type": "code",
   "execution_count": 29,
   "id": "50dbcd3c",
   "metadata": {},
   "outputs": [
    {
     "name": "stdout",
     "output_type": "stream",
     "text": [
      "Hola, Clase de Fisica Computacional II.\n"
     ]
    }
   ],
   "source": [
    "# We use it defining a str\n",
    "\n",
    "first_module.print_message(\"Clase de Fisica Computacional II.\")"
   ]
  },
  {
   "cell_type": "markdown",
   "id": "7a40adce",
   "metadata": {},
   "source": [
    "### Second example"
   ]
  },
  {
   "cell_type": "code",
   "execution_count": 30,
   "id": "41d53dc2",
   "metadata": {},
   "outputs": [
    {
     "name": "stdout",
     "output_type": "stream",
     "text": [
      "# This is our second script\r\n",
      "\r\n",
      "# Function\r\n",
      "def print_message(msg):\r\n",
      "    \"\"\"\r\n",
      "    Print the string (msg) provided by the user\r\n",
      "    Input: String (msg)\r\n",
      "    Output: print statement\r\n",
      "    \"\"\"\r\n",
      "    print(\"Hola, \" + msg)\r\n",
      "\r\n",
      "# Dictionary\r\n",
      "physics_courses = {\r\n",
      "  \"level\": \"BSc\",\r\n",
      "  \"course\": \"electrodynamics I\",\r\n",
      "  \"semester\": 5,\r\n",
      "  \"programme\": \"physics/nanotechnology\"\r\n",
      "}\r\n"
     ]
    }
   ],
   "source": [
    "!cat second_module.py"
   ]
  },
  {
   "cell_type": "code",
   "execution_count": 31,
   "id": "d34ef8cb",
   "metadata": {},
   "outputs": [],
   "source": [
    "# We import our module\n",
    "import second_module "
   ]
  },
  {
   "cell_type": "code",
   "execution_count": 32,
   "id": "9fa7f17e",
   "metadata": {},
   "outputs": [
    {
     "name": "stdout",
     "output_type": "stream",
     "text": [
      "Hola, Clase de Fisica Computacional II.\n"
     ]
    }
   ],
   "source": [
    "# We use it defining a str\n",
    "\n",
    "second_module.print_message(\"Clase de Fisica Computacional II.\")"
   ]
  },
  {
   "cell_type": "code",
   "execution_count": 33,
   "id": "3a7ed96e",
   "metadata": {},
   "outputs": [
    {
     "name": "stdout",
     "output_type": "stream",
     "text": [
      "5 <class 'int'>\n",
      "physics/nanotechnology <class 'str'>\n"
     ]
    }
   ],
   "source": [
    "# We call the dictionary\n",
    "\n",
    "obj1 = second_module.physics_courses[\"semester\"]\n",
    "obj2 = second_module.physics_courses[\"programme\"]\n",
    "\n",
    "print(obj1, type(obj1))\n",
    "print(obj2, type(obj2))"
   ]
  },
  {
   "cell_type": "markdown",
   "id": "300d27a5",
   "metadata": {},
   "source": [
    "## Built-in modules in Python:"
   ]
  },
  {
   "cell_type": "markdown",
   "id": "da9f0d8d",
   "metadata": {},
   "source": [
    "### 1. platform:\n",
    "\n",
    "https://docs.python.org/3/library/platform.html\n",
    "\n"
   ]
  },
  {
   "cell_type": "code",
   "execution_count": 34,
   "id": "5ba2aa51",
   "metadata": {},
   "outputs": [],
   "source": [
    "import platform"
   ]
  },
  {
   "cell_type": "code",
   "execution_count": 35,
   "id": "6f063a5b",
   "metadata": {},
   "outputs": [
    {
     "name": "stdout",
     "output_type": "stream",
     "text": [
      "Darwin\n",
      "i386\n",
      "3.9.12\n"
     ]
    }
   ],
   "source": [
    "obj = platform.system()\n",
    "\n",
    "print(obj)\n",
    "\n",
    "obj2 = platform.processor()\n",
    "\n",
    "print(obj2)\n",
    "\n",
    "obj3 = platform.python_version()\n",
    "\n",
    "print(obj3)"
   ]
  },
  {
   "cell_type": "markdown",
   "id": "ce1ce667",
   "metadata": {},
   "source": [
    "### The dir() function in platform\n",
    "\n",
    "dir() lists all the function names (or variable names) in a module."
   ]
  },
  {
   "cell_type": "code",
   "execution_count": 36,
   "id": "8f00f42f",
   "metadata": {},
   "outputs": [
    {
     "name": "stdout",
     "output_type": "stream",
     "text": [
      "['_Processor', '_WIN32_CLIENT_RELEASES', '_WIN32_SERVER_RELEASES', '__builtins__', '__cached__', '__copyright__', '__doc__', '__file__', '__loader__', '__name__', '__package__', '__spec__', '__version__', '_comparable_version', '_component_re', '_default_architecture', '_follow_symlinks', '_get_machine_win32', '_ironpython26_sys_version_parser', '_ironpython_sys_version_parser', '_java_getprop', '_libc_search', '_mac_ver_xml', '_node', '_norm_version', '_platform', '_platform_cache', '_pypy_sys_version_parser', '_sys_version', '_sys_version_cache', '_sys_version_parser', '_syscmd_file', '_syscmd_ver', '_uname_cache', '_unknown_as_blank', '_ver_output', '_ver_stages', 'architecture', 'collections', 'functools', 'itertools', 'java_ver', 'libc_ver', 'mac_ver', 'machine', 'node', 'os', 'platform', 'processor', 'python_branch', 'python_build', 'python_compiler', 'python_implementation', 'python_revision', 'python_version', 'python_version_tuple', 're', 'release', 'subprocess', 'sys', 'system', 'system_alias', 'uname', 'uname_result', 'version', 'win32_edition', 'win32_is_iot', 'win32_ver']\n"
     ]
    }
   ],
   "source": [
    "obj3 = dir(platform)\n",
    "\n",
    "print(obj3)"
   ]
  },
  {
   "cell_type": "markdown",
   "id": "8252c2fe",
   "metadata": {},
   "source": [
    "### Import using aliasing:"
   ]
  },
  {
   "cell_type": "code",
   "execution_count": 37,
   "id": "cc64fb67",
   "metadata": {},
   "outputs": [],
   "source": [
    "# We import our module\n",
    "import second_module as sm"
   ]
  },
  {
   "cell_type": "code",
   "execution_count": 38,
   "id": "deb2d61c",
   "metadata": {},
   "outputs": [
    {
     "name": "stdout",
     "output_type": "stream",
     "text": [
      "['__builtins__', '__cached__', '__doc__', '__file__', '__loader__', '__name__', '__package__', '__spec__', 'physics_courses', 'print_message']\n"
     ]
    }
   ],
   "source": [
    "obj4 = dir(sm)\n",
    "\n",
    "print(obj4)"
   ]
  },
  {
   "cell_type": "markdown",
   "id": "48a8a452",
   "metadata": {},
   "source": [
    "### 2. datetime\n",
    "\n",
    "https://www.w3schools.com/python/python_datetime.asp"
   ]
  },
  {
   "cell_type": "code",
   "execution_count": 39,
   "id": "5d1ada30",
   "metadata": {},
   "outputs": [],
   "source": [
    "import datetime"
   ]
  },
  {
   "cell_type": "code",
   "execution_count": 40,
   "id": "96454e47",
   "metadata": {},
   "outputs": [
    {
     "name": "stdout",
     "output_type": "stream",
     "text": [
      "2023-09-21 14:19:10.069781 <class 'datetime.datetime'>\n"
     ]
    }
   ],
   "source": [
    "# Call the current time\n",
    "\n",
    "x = datetime.datetime.now()\n",
    "\n",
    "print(x, type(x))"
   ]
  },
  {
   "cell_type": "code",
   "execution_count": 41,
   "id": "6d4cd3a1",
   "metadata": {},
   "outputs": [
    {
     "name": "stdout",
     "output_type": "stream",
     "text": [
      "2023-09-21 14:19:10.069781\n"
     ]
    }
   ],
   "source": [
    "y = datetime.datetime.fromisoformat(str(x))\n",
    "\n",
    "print(y)"
   ]
  },
  {
   "cell_type": "code",
   "execution_count": 42,
   "id": "845ee075",
   "metadata": {},
   "outputs": [
    {
     "name": "stdout",
     "output_type": "stream",
     "text": [
      "year: 2023\n",
      "month: 09\n",
      "day: 21\n",
      "time: 14:19:10\n",
      "date and time: 09/21/2023, 14:19:10\n"
     ]
    }
   ],
   "source": [
    "# Examples:\n",
    "now = datetime.datetime.now() # current date and time\n",
    "\n",
    "year = now.strftime(\"%Y\")\n",
    "print(\"year:\", year)\n",
    "\n",
    "month = now.strftime(\"%m\")\n",
    "print(\"month:\", month)\n",
    "\n",
    "day = now.strftime(\"%d\")\n",
    "print(\"day:\", day)\n",
    "\n",
    "time = now.strftime(\"%H:%M:%S\")\n",
    "print(\"time:\", time)\n",
    "\n",
    "date_time = now.strftime(\"%m/%d/%Y, %H:%M:%S\")\n",
    "print(\"date and time:\",date_time)"
   ]
  },
  {
   "cell_type": "markdown",
   "id": "584540ee",
   "metadata": {},
   "source": [
    "# Exceptions\n",
    "\n",
    "There are a lot of different types of exceptions that you can catch, and you can catch multiple ones per except clause or have multiple except clauses.\n",
    "\n",
    "You probably won't be able to anticipate every failure mode in advance.  In that case, when you run and your code crashes because of an exception, the python interpreter will print out the name of the exception and you can then modify your code to take the appropriate action.\n",
    "\n",
    "Python raises exceptions when it encounters an error.  The idea is that you can trap these exceptions and take an appropriate action instead of causing the code to crash.\n",
    "\n",
    "The mechanism for this is `try` / `except`.  Here's an example that causes an exception, `ZeroDivisionError`:"
   ]
  },
  {
   "cell_type": "markdown",
   "id": "7d4724af",
   "metadata": {},
   "source": [
    "### Example 1:"
   ]
  },
  {
   "cell_type": "code",
   "execution_count": 43,
   "id": "09e5a376",
   "metadata": {},
   "outputs": [
    {
     "ename": "ZeroDivisionError",
     "evalue": "float division by zero",
     "output_type": "error",
     "traceback": [
      "\u001b[0;31m---------------------------------------------------------------------------\u001b[0m",
      "\u001b[0;31mZeroDivisionError\u001b[0m                         Traceback (most recent call last)",
      "Input \u001b[0;32mIn [43]\u001b[0m, in \u001b[0;36m<cell line: 1>\u001b[0;34m()\u001b[0m\n\u001b[0;32m----> 1\u001b[0m obj \u001b[38;5;241m=\u001b[39m \u001b[38;5;241;43m1.\u001b[39;49m\u001b[38;5;241;43m/\u001b[39;49m\u001b[38;5;241;43m0.\u001b[39;49m\n\u001b[1;32m      3\u001b[0m \u001b[38;5;28mprint\u001b[39m(obj)\n",
      "\u001b[0;31mZeroDivisionError\u001b[0m: float division by zero"
     ]
    }
   ],
   "source": [
    "obj = 1./0.\n",
    "\n",
    "print(obj)"
   ]
  },
  {
   "cell_type": "code",
   "execution_count": 44,
   "id": "422fc6ac",
   "metadata": {},
   "outputs": [
    {
     "name": "stdout",
     "output_type": "stream",
     "text": [
      "Warning: you are dividing by zero\n"
     ]
    }
   ],
   "source": [
    "# Add an exception:\n",
    "try:\n",
    "    # Here we write the operation\n",
    "    a = 1./0.\n",
    "    \n",
    "except ZeroDivisionError:\n",
    "    # Add an exception -> warning\n",
    "    print(\"Warning: you are dividing by zero\")\n",
    "    a = 1. "
   ]
  },
  {
   "cell_type": "code",
   "execution_count": 45,
   "id": "a8f72f7e",
   "metadata": {},
   "outputs": [
    {
     "name": "stdout",
     "output_type": "stream",
     "text": [
      "1.0\n"
     ]
    }
   ],
   "source": [
    "print(a)"
   ]
  },
  {
   "cell_type": "markdown",
   "id": "5d79720d",
   "metadata": {},
   "source": [
    "### Example 2:\n",
    "\n",
    "Another example; trying to access a key that doesn't exist in a dictionary:"
   ]
  },
  {
   "cell_type": "code",
   "execution_count": 46,
   "id": "3a60238a",
   "metadata": {},
   "outputs": [
    {
     "name": "stdout",
     "output_type": "stream",
     "text": [
      "1.0\n",
      "2.0\n",
      "3.0\n"
     ]
    },
    {
     "ename": "KeyError",
     "evalue": "'key4'",
     "output_type": "error",
     "traceback": [
      "\u001b[0;31m---------------------------------------------------------------------------\u001b[0m",
      "\u001b[0;31mKeyError\u001b[0m                                  Traceback (most recent call last)",
      "Input \u001b[0;32mIn [46]\u001b[0m, in \u001b[0;36m<cell line: 6>\u001b[0;34m()\u001b[0m\n\u001b[1;32m      4\u001b[0m \u001b[38;5;28mprint\u001b[39m(dictionary_1[\u001b[38;5;124m\"\u001b[39m\u001b[38;5;124mkey2\u001b[39m\u001b[38;5;124m\"\u001b[39m])\n\u001b[1;32m      5\u001b[0m \u001b[38;5;28mprint\u001b[39m(dictionary_1[\u001b[38;5;124m\"\u001b[39m\u001b[38;5;124mkey3\u001b[39m\u001b[38;5;124m\"\u001b[39m])\n\u001b[0;32m----> 6\u001b[0m \u001b[38;5;28mprint\u001b[39m(\u001b[43mdictionary_1\u001b[49m\u001b[43m[\u001b[49m\u001b[38;5;124;43m\"\u001b[39;49m\u001b[38;5;124;43mkey4\u001b[39;49m\u001b[38;5;124;43m\"\u001b[39;49m\u001b[43m]\u001b[49m)\n",
      "\u001b[0;31mKeyError\u001b[0m: 'key4'"
     ]
    }
   ],
   "source": [
    "dictionary_1 = {\"key1\": 1., \"key2\": 2., \"key3\": 3.}\n",
    "\n",
    "print(dictionary_1[\"key1\"])\n",
    "print(dictionary_1[\"key2\"])\n",
    "print(dictionary_1[\"key3\"])\n",
    "print(dictionary_1[\"key4\"])"
   ]
  },
  {
   "cell_type": "code",
   "execution_count": 47,
   "id": "fa9a5f09",
   "metadata": {},
   "outputs": [
    {
     "name": "stdout",
     "output_type": "stream",
     "text": [
      "Warning: this key does not exist, reverting to key3.\n"
     ]
    }
   ],
   "source": [
    "# Add an exception\n",
    "\n",
    "try:\n",
    "    val = dictionary_1[\"key4\"]\n",
    "    \n",
    "except KeyError: \n",
    "    print(\"Warning: this key does not exist, reverting to key3.\")\n",
    "    val = dictionary_1[\"key3\"]"
   ]
  },
  {
   "cell_type": "code",
   "execution_count": 48,
   "id": "1058d7ff",
   "metadata": {},
   "outputs": [
    {
     "name": "stdout",
     "output_type": "stream",
     "text": [
      "3.0\n"
     ]
    }
   ],
   "source": [
    "print(val)"
   ]
  },
  {
   "cell_type": "markdown",
   "id": "b607ebe8",
   "metadata": {},
   "source": [
    "### Example 3:\n",
    "\n",
    "When you open a file, you get an object which you can then interact with. \n",
    "\n",
    "Here we try to open a file for reading that does not already exist."
   ]
  },
  {
   "cell_type": "code",
   "execution_count": 49,
   "id": "3415235e",
   "metadata": {},
   "outputs": [
    {
     "name": "stdout",
     "output_type": "stream",
     "text": [
      "201-python-classes.ipynb               \u001b[34m__pycache__\u001b[m\u001b[m\r\n",
      "202-python-modules.ipynb               \u001b[34mfigures\u001b[m\u001b[m\r\n",
      "203-standalone-modules.ipynb           first_module.py\r\n",
      "204-python-packaging.ipynb             manual_CEDIA_llave_publica.pdf\r\n",
      "205-SSH-key-generation.ipynb           problem-201-examples-classes.ipynb\r\n",
      "206-timing-testing.ipynb               problem-201-python-modules.ipynb\r\n",
      "207-parallel-computing.ipynb           \u001b[34mpython-scripts\u001b[m\u001b[m\r\n",
      "208-python-multiprocessing.ipynb       sample1.txt\r\n",
      "209-MPI-parallelisation.ipynb          second_module.py\r\n",
      "210-MPI-conda-installation-notes.ipynb \u001b[34mtext_files\u001b[m\u001b[m\r\n",
      "211-HPC-computing.ipynb\r\n"
     ]
    }
   ],
   "source": [
    "!ls "
   ]
  },
  {
   "cell_type": "code",
   "execution_count": 50,
   "id": "b4618619",
   "metadata": {},
   "outputs": [
    {
     "ename": "FileNotFoundError",
     "evalue": "[Errno 2] No such file or directory: 'file.txt'",
     "output_type": "error",
     "traceback": [
      "\u001b[0;31m---------------------------------------------------------------------------\u001b[0m",
      "\u001b[0;31mFileNotFoundError\u001b[0m                         Traceback (most recent call last)",
      "Input \u001b[0;32mIn [50]\u001b[0m, in \u001b[0;36m<cell line: 3>\u001b[0;34m()\u001b[0m\n\u001b[1;32m      1\u001b[0m \u001b[38;5;66;03m# Let's try to open a file that does not exist im ./\u001b[39;00m\n\u001b[0;32m----> 3\u001b[0m file \u001b[38;5;241m=\u001b[39m \u001b[38;5;28;43mopen\u001b[39;49m\u001b[43m(\u001b[49m\u001b[38;5;124;43m\"\u001b[39;49m\u001b[38;5;124;43mfile.txt\u001b[39;49m\u001b[38;5;124;43m\"\u001b[39;49m\u001b[43m,\u001b[49m\u001b[43m \u001b[49m\u001b[38;5;124;43m\"\u001b[39;49m\u001b[38;5;124;43mr\u001b[39;49m\u001b[38;5;124;43m\"\u001b[39;49m\u001b[43m)\u001b[49m\n",
      "\u001b[0;31mFileNotFoundError\u001b[0m: [Errno 2] No such file or directory: 'file.txt'"
     ]
    }
   ],
   "source": [
    "# Let's try to open a file that does not exist im ./\n",
    "\n",
    "file = open(\"file.txt\", \"r\")"
   ]
  },
  {
   "cell_type": "code",
   "execution_count": 53,
   "id": "c330a0b6",
   "metadata": {},
   "outputs": [
    {
     "name": "stdout",
     "output_type": "stream",
     "text": [
      "Error: that file does not exist\n"
     ]
    }
   ],
   "source": [
    "# Add an exception\n",
    "\n",
    "try:\n",
    "    \n",
    "    file = open(\"file.txt\", \"r\")\n",
    "    \n",
    "except FileNotFoundError:\n",
    "    \n",
    "    print(\"Error: that file does not exist\")\n",
    "    \n",
    "    file = open(\"./text_files/file.txt\", \"r\")"
   ]
  },
  {
   "cell_type": "code",
   "execution_count": 54,
   "id": "184c5fff",
   "metadata": {},
   "outputs": [
    {
     "name": "stdout",
     "output_type": "stream",
     "text": [
      "<_io.TextIOWrapper name='./text_files/file.txt' mode='r' encoding='UTF-8'>\n"
     ]
    }
   ],
   "source": [
    "print(file)"
   ]
  },
  {
   "cell_type": "code",
   "execution_count": null,
   "id": "152883b9",
   "metadata": {},
   "outputs": [],
   "source": []
  },
  {
   "cell_type": "code",
   "execution_count": null,
   "id": "a9624731",
   "metadata": {},
   "outputs": [],
   "source": []
  }
 ],
 "metadata": {
  "kernelspec": {
   "display_name": "Python 3 (ipykernel)",
   "language": "python",
   "name": "python3"
  },
  "language_info": {
   "codemirror_mode": {
    "name": "ipython",
    "version": 3
   },
   "file_extension": ".py",
   "mimetype": "text/x-python",
   "name": "python",
   "nbconvert_exporter": "python",
   "pygments_lexer": "ipython3",
   "version": "3.9.12"
  }
 },
 "nbformat": 4,
 "nbformat_minor": 5
}

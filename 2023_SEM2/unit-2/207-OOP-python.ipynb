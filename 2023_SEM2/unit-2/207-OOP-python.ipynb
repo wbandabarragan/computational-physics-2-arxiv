{
 "cells": [
  {
   "cell_type": "markdown",
   "id": "e46ea199",
   "metadata": {},
   "source": [
    "# Object oriented programming (OOP) with Python\n",
    "\n",
    "## A. Public, Protected, Private Members\n",
    "\n",
    "Classical object-oriented languages, such as C++ and Java, control the access to class resources by public, private, and protected keywords.\n",
    "\n",
    "Private members of the class are denied access from the environment outside the class. They can be handled only from within the class.\n",
    "\n",
    "As we will see below, Python ONLY provides conceptual implementation of public, protected, and private access modifiers, but not like other languages like C#, Java, C++.\n",
    "\n",
    "\n",
    "\n",
    "#### Lecture reference: \n",
    "\n",
    "https://www.tutorialsteacher.com/python/public-private-protected-modifiers\n",
    "\n",
    "### Public Members\n",
    "Public members (generally methods declared in a class) are accessible from outside the class.\n",
    "\n",
    "The object of the same class is required to invoke a public method. This arrangement of private instance variables and public methods ensures the principle of data encapsulation.\n",
    "\n",
    "All members in a Python class are public by default. Any member can be accessed from outside the class environment."
   ]
  },
  {
   "cell_type": "code",
   "execution_count": 11,
   "id": "8a72b62f",
   "metadata": {},
   "outputs": [],
   "source": [
    "class Student:\n",
    "    schoolName = 'Yachay Tech Unversity' # class attribute\n",
    "\n",
    "    def __init__(self, name, age):\n",
    "        self.name=name # instance attribute\n",
    "        self.age=age # instance attribute"
   ]
  },
  {
   "cell_type": "markdown",
   "id": "98ffd001",
   "metadata": {},
   "source": [
    "You can access the Student class's attributes and also modify their values, as shown below."
   ]
  },
  {
   "cell_type": "code",
   "execution_count": 13,
   "id": "f2738091",
   "metadata": {},
   "outputs": [
    {
     "name": "stdout",
     "output_type": "stream",
     "text": [
      "Yachay Tech Unversity\n",
      "Ferenc\n",
      "22\n"
     ]
    }
   ],
   "source": [
    "# Call the class\n",
    "std = Student(\"Ferenc\", 22)\n",
    "\n",
    "print(std.schoolName)  # Printing class attribute\n",
    "print(std.name)  # Printing instance attribute\n",
    "print(std.age)  # Printing instance attribute"
   ]
  },
  {
   "cell_type": "code",
   "execution_count": 14,
   "id": "95d3b16b",
   "metadata": {},
   "outputs": [
    {
     "name": "stdout",
     "output_type": "stream",
     "text": [
      "20\n"
     ]
    }
   ],
   "source": [
    "# Modify age value\n",
    "std.age = 20\n",
    "\n",
    "print(std.age)"
   ]
  },
  {
   "cell_type": "markdown",
   "id": "05770fcf",
   "metadata": {},
   "source": [
    "## Protected Members\n",
    "Protected members of a class are accessible from within the class and are also available to its sub-classes.\n",
    "\n",
    "No other environment is permitted access to it. This enables specific resources of the parent class to be inherited by the child class.\n",
    "\n",
    "Python's convention to make an instance variable protected is to add a prefix _ (single underscore) to it. This effectively prevents it from being accessed unless it is from within a sub-class."
   ]
  },
  {
   "cell_type": "code",
   "execution_count": 15,
   "id": "2331135e",
   "metadata": {},
   "outputs": [],
   "source": [
    "class Student:\n",
    "    \n",
    "    _schoolName = 'Yachay Tech Unversity' # protected class attribute\n",
    "    \n",
    "    def __init__(self, name, age):\n",
    "        \n",
    "        self._name = name  # protected instance attribute\n",
    "        \n",
    "        self._age = age # protected instance attribute"
   ]
  },
  {
   "cell_type": "markdown",
   "id": "c7694682",
   "metadata": {},
   "source": [
    "Note that this doesn't prevent instance variables from accessing or modifying the instance.\n",
    "\n",
    "You can still perform the following operations:"
   ]
  },
  {
   "cell_type": "code",
   "execution_count": 16,
   "id": "8fe64cec",
   "metadata": {},
   "outputs": [
    {
     "name": "stdout",
     "output_type": "stream",
     "text": [
      "Ferenc\n",
      "Csenge\n"
     ]
    }
   ],
   "source": [
    "std = Student(\"Ferenc\", 25)\n",
    "print(std._name)  #'Ferenc'\n",
    "\n",
    "std._name = 'Csenge'\n",
    "print(std._name)  #'Csenge'"
   ]
  },
  {
   "cell_type": "markdown",
   "id": "ea4de698",
   "metadata": {},
   "source": [
    "However, you can define a property using property decorator and make it protected, as shown below."
   ]
  },
  {
   "cell_type": "code",
   "execution_count": 18,
   "id": "da5d3174",
   "metadata": {},
   "outputs": [],
   "source": [
    "class Student:\n",
    "    \n",
    "    def __init__(self,name):\n",
    "        self._name = name\n",
    "        \n",
    "    @property\n",
    "    def name(self):\n",
    "        return self._name\n",
    "    \n",
    "    @name.setter\n",
    "    def name(self,newname):\n",
    "        self._name = newname"
   ]
  },
  {
   "cell_type": "markdown",
   "id": "65e481db",
   "metadata": {},
   "source": [
    "Above:\n",
    "\n",
    "- @property decorator is used to make the name() method a property.\n",
    "\n",
    "- @name.setter decorator is used to overload the name() method as property setter method.\n",
    "\n",
    "Now, _name is protected."
   ]
  },
  {
   "cell_type": "code",
   "execution_count": 19,
   "id": "5571e560",
   "metadata": {},
   "outputs": [
    {
     "name": "stdout",
     "output_type": "stream",
     "text": [
      "Ferenc\n",
      "Ferenc\n",
      "Csenge\n",
      "Csenge\n"
     ]
    }
   ],
   "source": [
    "std = Student(\"Ferenc\")\n",
    "print(std.name)  #'Ferenc'\n",
    "print(std._name) #'Ferenc'\n",
    "\n",
    "std._name = 'Csenge'\n",
    "print(std.name)  #'Csenge'\n",
    "print(std._name) #'Csenge'"
   ]
  },
  {
   "cell_type": "markdown",
   "id": "975b0c40",
   "metadata": {},
   "source": [
    "Above, we used std.name property to modify _name attribute.\n",
    "\n",
    "However, it is still accessible in Python.\n",
    "\n",
    "Hence, the responsible programmer would refrain from accessing and modifying instance variables prefixed with _ from outside its class."
   ]
  },
  {
   "cell_type": "markdown",
   "id": "896e734d",
   "metadata": {},
   "source": [
    "## Private Members\n",
    "\n",
    "Python doesn't have any mechanism that effectively restricts access to any instance variable or method.\n",
    "\n",
    "Python prescribes a convention of prefixing the name of the variable/method with a single or double underscore to emulate the behavior of protected and private access specifiers.\n",
    "\n",
    "The double underscore __ prefixed to a variable makes it private.\n",
    "\n",
    "It gives a strong suggestion not to touch it from outside the class.\n",
    "\n",
    "Any attempt to do so will result in an **AttributeError:**"
   ]
  },
  {
   "cell_type": "code",
   "execution_count": 28,
   "id": "e6c635c2",
   "metadata": {},
   "outputs": [],
   "source": [
    "class Student:\n",
    "    \n",
    "    __schoolName = 'Yachay Tech Unversity' # private class attribute\n",
    "\n",
    "    def __init__(self, name, age):\n",
    "        \n",
    "        self.__name=name  # private instance attribute\n",
    "        self.__salary=age # private instance attribute\n",
    "        \n",
    "    def __display(self):  # private method\n",
    "        \n",
    "        print('This is private method.')"
   ]
  },
  {
   "cell_type": "code",
   "execution_count": 25,
   "id": "85a379a6",
   "metadata": {},
   "outputs": [],
   "source": [
    "std = Student(\"Ferenc\", 22)"
   ]
  },
  {
   "cell_type": "code",
   "execution_count": 29,
   "id": "7570d867",
   "metadata": {},
   "outputs": [
    {
     "ename": "AttributeError",
     "evalue": "'Student' object has no attribute '__schoolName'",
     "output_type": "error",
     "traceback": [
      "\u001b[0;31m---------------------------------------------------------------------------\u001b[0m",
      "\u001b[0;31mAttributeError\u001b[0m                            Traceback (most recent call last)",
      "\u001b[0;32m/var/folders/sw/g1jmwgb9161cw02pzv6xtvjw0000gn/T/ipykernel_54161/3680428629.py\u001b[0m in \u001b[0;36m<module>\u001b[0;34m\u001b[0m\n\u001b[0;32m----> 1\u001b[0;31m \u001b[0mprint\u001b[0m\u001b[0;34m(\u001b[0m\u001b[0mstd\u001b[0m\u001b[0;34m.\u001b[0m\u001b[0m__schoolName\u001b[0m\u001b[0;34m)\u001b[0m \u001b[0;31m#AttributeError\u001b[0m\u001b[0;34m\u001b[0m\u001b[0;34m\u001b[0m\u001b[0m\n\u001b[0m",
      "\u001b[0;31mAttributeError\u001b[0m: 'Student' object has no attribute '__schoolName'"
     ]
    }
   ],
   "source": [
    "print(std.__schoolName) #AttributeError"
   ]
  },
  {
   "cell_type": "markdown",
   "id": "f5741a83",
   "metadata": {},
   "source": [
    "Python performs name mangling of private variables.\n",
    "\n",
    "Every member with a double underscore will be changed to _object._class__variable.\n",
    "\n",
    "So, it can still be accessed from outside the class, but the practice should be refrained."
   ]
  },
  {
   "cell_type": "code",
   "execution_count": 32,
   "id": "35cd87d8",
   "metadata": {},
   "outputs": [
    {
     "name": "stdout",
     "output_type": "stream",
     "text": [
      "Bill\n"
     ]
    }
   ],
   "source": [
    "std = Student(\"Bill\", 25)\n",
    "\n",
    "print(std._Student__name)  #'Bill'"
   ]
  },
  {
   "cell_type": "code",
   "execution_count": 33,
   "id": "b7c74fc1",
   "metadata": {},
   "outputs": [
    {
     "name": "stdout",
     "output_type": "stream",
     "text": [
      "Helen\n",
      "This is private method.\n"
     ]
    }
   ],
   "source": [
    "std._Student__name = 'Helen'\n",
    "\n",
    "print(std._Student__name)  #'Steve'\n",
    "\n",
    "std._Student__display()  #'This is private method.'"
   ]
  },
  {
   "cell_type": "markdown",
   "id": "35c422fd",
   "metadata": {},
   "source": [
    "##  B. Decorators in Python\n",
    "\n",
    "In programming, a **decorator** is a design pattern that adds additional responsibilities to an object dynamically.\n",
    "\n",
    "In Python, a function is the first-order object. Thus, a decorator in Python adds additional responsibilities or functionalities to a function dynamically without modifying a function.\n",
    "\n",
    "In Python, a function can be passed as an argument to another function. It is also possible to define a function inside another function, and a function can return another function.\n",
    "\n",
    "Therefore, a decorator in Python is a function that receives another function as an argument. The behavior of the argument function is extended by the decorator without actually modifying it. The decorator function can be applied over a function using the **@decorator** syntax.\n",
    "\n",
    "#### Step-by-step example on decorators:\n",
    "\n",
    "Consider that we have the greet() function, as shown below."
   ]
  },
  {
   "cell_type": "code",
   "execution_count": 34,
   "id": "a7a2d0bd",
   "metadata": {},
   "outputs": [],
   "source": [
    "def greet():\n",
    "    \n",
    "    print('Hola, ', end='')"
   ]
  },
  {
   "cell_type": "markdown",
   "id": "d4be0d57",
   "metadata": {},
   "source": [
    "Now, we can extend the above function's functionality without modifying it by passing it to another function, as shown below."
   ]
  },
  {
   "cell_type": "code",
   "execution_count": 36,
   "id": "d1ed0504",
   "metadata": {},
   "outputs": [],
   "source": [
    "def mydecorator(fn):\n",
    "    \n",
    "    fn()\n",
    "    \n",
    "    print('clase de Fisica Computacional 2.')"
   ]
  },
  {
   "cell_type": "code",
   "execution_count": 37,
   "id": "4f1376c1",
   "metadata": {},
   "outputs": [
    {
     "name": "stdout",
     "output_type": "stream",
     "text": [
      "Hola, clase de Fisica Computacional 2.\n"
     ]
    }
   ],
   "source": [
    "# We pass greet as fn.\n",
    "\n",
    "mydecorator(greet)  #output"
   ]
  },
  {
   "cell_type": "markdown",
   "id": "9c2d7d67",
   "metadata": {},
   "source": [
    "Above, the **mydecorator()** function takes a function as an argument. It calls the argument function and also prints some additional text. Thus, it extends the functionality of the **greet()** function without modifying it. However, it is not the actual decorator.\n",
    "\n",
    "The **mydecorator()** is not a decorator in Python. The decorator in Python can be defined over any appropriate function using the **@decorator_function_name** syntax to extend the functionality of the underlying function.\n",
    "\n",
    "The following defines the decorator for the above greet() function."
   ]
  },
  {
   "cell_type": "code",
   "execution_count": 46,
   "id": "87a0b8c0",
   "metadata": {},
   "outputs": [],
   "source": [
    "def mydecorator(fn):\n",
    "    \n",
    "    def inner_function():        \n",
    "        fn()\n",
    "        print('clase de Fisica Computacional 2.')\n",
    "        fn()\n",
    "        \n",
    "    return inner_function"
   ]
  },
  {
   "cell_type": "markdown",
   "id": "faefeb62",
   "metadata": {},
   "source": [
    "- The **mydecorator()** function is the decorator function that takes a function (any function that does not take any argument) as an argument.\n",
    "\n",
    "\n",
    "- The inner function **inner_function()** can access the outer function's argument, so it executes some code before or after to extend the functionality before calling the argument function.\n",
    "\n",
    "\n",
    "- The **mydecorator()**  function returns an inner function.\n",
    "\n",
    "Now, we can use mydecorator as a decorator to apply over a function that does not take any argument, as shown below."
   ]
  },
  {
   "cell_type": "code",
   "execution_count": 39,
   "id": "575a1da5",
   "metadata": {},
   "outputs": [],
   "source": [
    "@mydecorator\n",
    "def greet():\n",
    "    \n",
    "    print('Hola, ', end='')"
   ]
  },
  {
   "cell_type": "markdown",
   "id": "5413a663",
   "metadata": {},
   "source": [
    "Now, calling the above greet() function will give the following output."
   ]
  },
  {
   "cell_type": "code",
   "execution_count": 40,
   "id": "9a92973b",
   "metadata": {},
   "outputs": [
    {
     "name": "stdout",
     "output_type": "stream",
     "text": [
      "Hola, clase de Fisica Computacional 2.\n"
     ]
    }
   ],
   "source": [
    "greet()  #output"
   ]
  },
  {
   "cell_type": "markdown",
   "id": "d6e1dd66",
   "metadata": {},
   "source": [
    "The mydecorator can be applied to any function that does not require any argument. For example:"
   ]
  },
  {
   "cell_type": "code",
   "execution_count": 47,
   "id": "b8ab0387",
   "metadata": {},
   "outputs": [],
   "source": [
    "@mydecorator\n",
    "def dosomething():\n",
    "    \n",
    "    print('Pueden usar decoradores para cualquier funcion, ', end='')"
   ]
  },
  {
   "cell_type": "code",
   "execution_count": 48,
   "id": "06bdfae7",
   "metadata": {},
   "outputs": [
    {
     "name": "stdout",
     "output_type": "stream",
     "text": [
      "Pueden usar decoradores para cualquier funcion, clase de Fisica Computacional 2.\n",
      "Pueden usar decoradores para cualquier funcion, "
     ]
    }
   ],
   "source": [
    "dosomething()  #output: I am doing something. How are you?"
   ]
  },
  {
   "cell_type": "markdown",
   "id": "4dc777da",
   "metadata": {},
   "source": [
    "The typical decorator function will look like below:\n",
    "\n",
    "\n",
    "```python\n",
    "def mydecoratorfunction(some_function): # decorator function\n",
    "    \n",
    "    def inner_function(): \n",
    "        # write code to extend the behavior of some_function()\n",
    "        some_function() # call some_function\n",
    "        # write code to extend the behavior of some_function()\n",
    "\n",
    "    return inner_function # return a wrapper function\n",
    "```"
   ]
  },
  {
   "cell_type": "markdown",
   "id": "6575dab1",
   "metadata": {},
   "source": [
    "## C. Built-in Decorators\n",
    "\n",
    "\n",
    "Python library contains many built-in decorators as a shortcut of defining properties, class method, static methods, etc:"
   ]
  },
  {
   "cell_type": "markdown",
   "id": "4d4e4932",
   "metadata": {},
   "source": [
    "### @property\n",
    "\n",
    "Declares a method as a property's setter or getter methods.\n",
    "\n",
    "\n",
    "### @classmethod\n",
    "\n",
    "Declares a method as a class's method that can be called using the class name.\n",
    "\n",
    "### @staticmethod\n",
    "\n",
    "Declares a method as a static method."
   ]
  },
  {
   "cell_type": "markdown",
   "id": "f29d05c3",
   "metadata": {},
   "source": [
    "### 1. Python Property Decorator - @property\n",
    "\n",
    "The @property decorator is a built-in decorator in Python for the property() function.\n",
    "\n",
    "Use @property decorator on any method in the class to use the method as a property.\n",
    "\n",
    "You can use the following three decorators to define a property:\n",
    "\n",
    "- @property: Declares the method as a property.\n",
    "\n",
    "- @<property-name>.setter: Specifies the setter method for a property that sets the value to a property.\n",
    "    \n",
    "- @<property-name>.deleter: Specifies the delete method as a property that deletes a property.\n",
    "\n",
    "#### Declare a Property\n",
    "    \n",
    "The following declares the method as a property. This method must return the value of the property."
   ]
  },
  {
   "cell_type": "code",
   "execution_count": 49,
   "id": "839137b4",
   "metadata": {},
   "outputs": [],
   "source": [
    "class Student:\n",
    "\n",
    "    def __init__(self, name):\n",
    "        self.__name = name\n",
    "\n",
    "    @property\n",
    "    def name(self):\n",
    "        return self.__name"
   ]
  },
  {
   "cell_type": "markdown",
   "id": "7cff8792",
   "metadata": {},
   "source": [
    "Above, the **@property** decorator is applied to the **name()** method.\n",
    "\n",
    "The **name()** method returns the private instance attribute value __name.\n",
    "\n",
    "So, we can now use the **name()** method as a property to get the value of the __name attribute, as shown below."
   ]
  },
  {
   "cell_type": "code",
   "execution_count": 50,
   "id": "a5a29e81",
   "metadata": {},
   "outputs": [
    {
     "name": "stdout",
     "output_type": "stream",
     "text": [
      "Csenge\n"
     ]
    }
   ],
   "source": [
    "s = Student('Csenge')\n",
    "\n",
    "print(s.name)  #'Csenge'"
   ]
  },
  {
   "cell_type": "code",
   "execution_count": 51,
   "id": "e1715579",
   "metadata": {},
   "outputs": [
    {
     "ename": "AttributeError",
     "evalue": "can't set attribute",
     "output_type": "error",
     "traceback": [
      "\u001b[0;31m---------------------------------------------------------------------------\u001b[0m",
      "\u001b[0;31mAttributeError\u001b[0m                            Traceback (most recent call last)",
      "\u001b[0;32m/var/folders/sw/g1jmwgb9161cw02pzv6xtvjw0000gn/T/ipykernel_54161/1420991268.py\u001b[0m in \u001b[0;36m<module>\u001b[0;34m\u001b[0m\n\u001b[0;32m----> 1\u001b[0;31m \u001b[0ms\u001b[0m\u001b[0;34m.\u001b[0m\u001b[0mname\u001b[0m \u001b[0;34m=\u001b[0m \u001b[0;34m\"Philip\"\u001b[0m\u001b[0;34m\u001b[0m\u001b[0;34m\u001b[0m\u001b[0m\n\u001b[0m",
      "\u001b[0;31mAttributeError\u001b[0m: can't set attribute"
     ]
    }
   ],
   "source": [
    "s.name = \"Philip\""
   ]
  },
  {
   "cell_type": "markdown",
   "id": "348b7eea",
   "metadata": {},
   "source": [
    "#### Property Setter\n",
    "\n",
    "Above, we defined the **name()** method as a property.\n",
    "\n",
    "We can only access the value of the name property but cannot modify it.\n",
    "\n",
    "To modify the property value, we must define the setter method for the name property using @property-name.setter decorator, as shown below."
   ]
  },
  {
   "cell_type": "code",
   "execution_count": 52,
   "id": "5ead255b",
   "metadata": {},
   "outputs": [],
   "source": [
    "class Student:\n",
    "\n",
    "    def __init__(self, name):\n",
    "        self.__name = name\n",
    "\n",
    "    @property\n",
    "    def name(self):\n",
    "        return self.__name\n",
    "\n",
    "    @name.setter   #property-name.setter decorator\n",
    "    def name(self, value):\n",
    "        self.__name = value"
   ]
  },
  {
   "cell_type": "markdown",
   "id": "39fddb94",
   "metadata": {},
   "source": [
    "Above, we have two overloads of the **name()** method: one is for the getter and another is the setter method.\n",
    "\n",
    "The setter method must have the value argument that can be used to assign to the underlying private attribute.\n",
    "\n",
    "Now, we can retrieve and modify the property value, as shown below."
   ]
  },
  {
   "cell_type": "code",
   "execution_count": 53,
   "id": "593e77a8",
   "metadata": {},
   "outputs": [
    {
     "name": "stdout",
     "output_type": "stream",
     "text": [
      "Csenge\n",
      "Philip\n"
     ]
    }
   ],
   "source": [
    "s = Student('Csenge')\n",
    "\n",
    "print(s.name)  #'Csenge'\n",
    "\n",
    "s.name = \"Philip\"\n",
    "\n",
    "print(s.name)  #'Philip'"
   ]
  },
  {
   "cell_type": "markdown",
   "id": "d85c7d79",
   "metadata": {},
   "source": [
    "#### Property Deleter\n",
    "\n",
    "Use the **@property-name.deleter** decorator to define the method that deletes a property, as shown below.\n",
    "\n",
    "The deleter would be invoked when you delete the property using keyword **del**.\n",
    "\n",
    "Once you delete a property, you cannot access it again using the same instance."
   ]
  },
  {
   "cell_type": "code",
   "execution_count": 54,
   "id": "7f88b10b",
   "metadata": {},
   "outputs": [],
   "source": [
    "class Student:\n",
    "    def __init__(self, name):\n",
    "        self.__name = name\n",
    "\n",
    "    @property\n",
    "    def name(self):\n",
    "        return self.__name\n",
    "    \n",
    "    @name.setter\n",
    "    def name(self, value):\n",
    "        self.__name=value\n",
    "    \n",
    "    @name.deleter   #property-name.deleter decorator\n",
    "    def name(self):\n",
    "        print('Deleting..')\n",
    "        del self.__name"
   ]
  },
  {
   "cell_type": "code",
   "execution_count": 55,
   "id": "677abd23",
   "metadata": {},
   "outputs": [
    {
     "name": "stdout",
     "output_type": "stream",
     "text": [
      "Steve\n",
      "Deleting..\n"
     ]
    },
    {
     "ename": "AttributeError",
     "evalue": "'Student' object has no attribute '_Student__name'",
     "output_type": "error",
     "traceback": [
      "\u001b[0;31m---------------------------------------------------------------------------\u001b[0m",
      "\u001b[0;31mAttributeError\u001b[0m                            Traceback (most recent call last)",
      "\u001b[0;32m/var/folders/sw/g1jmwgb9161cw02pzv6xtvjw0000gn/T/ipykernel_54161/90432549.py\u001b[0m in \u001b[0;36m<module>\u001b[0;34m\u001b[0m\n\u001b[1;32m      5\u001b[0m \u001b[0;32mdel\u001b[0m \u001b[0mstd\u001b[0m\u001b[0;34m.\u001b[0m\u001b[0mname\u001b[0m\u001b[0;34m\u001b[0m\u001b[0;34m\u001b[0m\u001b[0m\n\u001b[1;32m      6\u001b[0m \u001b[0;34m\u001b[0m\u001b[0m\n\u001b[0;32m----> 7\u001b[0;31m \u001b[0mprint\u001b[0m\u001b[0;34m(\u001b[0m\u001b[0mstd\u001b[0m\u001b[0;34m.\u001b[0m\u001b[0mname\u001b[0m\u001b[0;34m)\u001b[0m  \u001b[0;31m#AttributeError\u001b[0m\u001b[0;34m\u001b[0m\u001b[0;34m\u001b[0m\u001b[0m\n\u001b[0m",
      "\u001b[0;32m/var/folders/sw/g1jmwgb9161cw02pzv6xtvjw0000gn/T/ipykernel_54161/1010179468.py\u001b[0m in \u001b[0;36mname\u001b[0;34m(self)\u001b[0m\n\u001b[1;32m      5\u001b[0m     \u001b[0;34m@\u001b[0m\u001b[0mproperty\u001b[0m\u001b[0;34m\u001b[0m\u001b[0;34m\u001b[0m\u001b[0m\n\u001b[1;32m      6\u001b[0m     \u001b[0;32mdef\u001b[0m \u001b[0mname\u001b[0m\u001b[0;34m(\u001b[0m\u001b[0mself\u001b[0m\u001b[0;34m)\u001b[0m\u001b[0;34m:\u001b[0m\u001b[0;34m\u001b[0m\u001b[0;34m\u001b[0m\u001b[0m\n\u001b[0;32m----> 7\u001b[0;31m         \u001b[0;32mreturn\u001b[0m \u001b[0mself\u001b[0m\u001b[0;34m.\u001b[0m\u001b[0m__name\u001b[0m\u001b[0;34m\u001b[0m\u001b[0;34m\u001b[0m\u001b[0m\n\u001b[0m\u001b[1;32m      8\u001b[0m \u001b[0;34m\u001b[0m\u001b[0m\n\u001b[1;32m      9\u001b[0m     \u001b[0;34m@\u001b[0m\u001b[0mname\u001b[0m\u001b[0;34m.\u001b[0m\u001b[0msetter\u001b[0m\u001b[0;34m\u001b[0m\u001b[0;34m\u001b[0m\u001b[0m\n",
      "\u001b[0;31mAttributeError\u001b[0m: 'Student' object has no attribute '_Student__name'"
     ]
    }
   ],
   "source": [
    "std = Student('Steve')\n",
    "\n",
    "print(std.name)\n",
    "\n",
    "del std.name\n",
    "\n",
    "print(std.name)  #AttributeError"
   ]
  },
  {
   "cell_type": "markdown",
   "id": "306b62e9",
   "metadata": {},
   "source": [
    "### 2. Python Class Method Decorator @classmethod\n",
    "\n",
    "In Python, the **@classmethod** decorator is used to declare a method in the class as a class method that can be called using **ClassName.MethodName()**.\n",
    "\n",
    "The class method can also be called using an object of the class.\n",
    "\n",
    "The **@classmethod** is an alternative of the classmethod() function.\n",
    "\n",
    "It is recommended to use the **@classmethod** decorator instead of the function because it simplifies the syntax.\n",
    "\n",
    "### @classmethod characteristics:\n",
    "\n",
    "- Declares a class method.\n",
    "\n",
    "- The first parameter must be **cls**, which can be used to access class attributes.\n",
    "\n",
    "- The class method can only access the class attributes but **not** the instance attributes.\n",
    "\n",
    "- The class method can be called using **ClassName.MethodName()** and also using object.\n",
    "\n",
    "- It can return an object of the class.\n",
    "\n",
    "The following example declares a class method."
   ]
  },
  {
   "cell_type": "code",
   "execution_count": 59,
   "id": "08c49035",
   "metadata": {},
   "outputs": [],
   "source": [
    "class Student:\n",
    "    \n",
    "    name = 'unknown' # class attribute\n",
    "    \n",
    "    def __init__(self):\n",
    "        \n",
    "        self.age = 20  # instance attribute\n",
    "\n",
    "    @classmethod\n",
    "    def tostring(cls):\n",
    "        \n",
    "        print('Student Class Attributes: name=', cls.name, 'age=', cls.age)"
   ]
  },
  {
   "cell_type": "code",
   "execution_count": 60,
   "id": "63dfb490",
   "metadata": {},
   "outputs": [
    {
     "ename": "AttributeError",
     "evalue": "type object 'Student' has no attribute 'age'",
     "output_type": "error",
     "traceback": [
      "\u001b[0;31m---------------------------------------------------------------------------\u001b[0m",
      "\u001b[0;31mAttributeError\u001b[0m                            Traceback (most recent call last)",
      "\u001b[0;32m/var/folders/sw/g1jmwgb9161cw02pzv6xtvjw0000gn/T/ipykernel_54161/2072260250.py\u001b[0m in \u001b[0;36m<module>\u001b[0;34m\u001b[0m\n\u001b[0;32m----> 1\u001b[0;31m \u001b[0mStudent\u001b[0m\u001b[0;34m.\u001b[0m\u001b[0mtostring\u001b[0m\u001b[0;34m(\u001b[0m\u001b[0;34m)\u001b[0m  \u001b[0;31m#Student Class Attributes: name=unknown\u001b[0m\u001b[0;34m\u001b[0m\u001b[0;34m\u001b[0m\u001b[0m\n\u001b[0m",
      "\u001b[0;32m/var/folders/sw/g1jmwgb9161cw02pzv6xtvjw0000gn/T/ipykernel_54161/1827864401.py\u001b[0m in \u001b[0;36mtostring\u001b[0;34m(cls)\u001b[0m\n\u001b[1;32m     10\u001b[0m     \u001b[0;32mdef\u001b[0m \u001b[0mtostring\u001b[0m\u001b[0;34m(\u001b[0m\u001b[0mcls\u001b[0m\u001b[0;34m)\u001b[0m\u001b[0;34m:\u001b[0m\u001b[0;34m\u001b[0m\u001b[0;34m\u001b[0m\u001b[0m\n\u001b[1;32m     11\u001b[0m \u001b[0;34m\u001b[0m\u001b[0m\n\u001b[0;32m---> 12\u001b[0;31m         \u001b[0mprint\u001b[0m\u001b[0;34m(\u001b[0m\u001b[0;34m'Student Class Attributes: name='\u001b[0m\u001b[0;34m,\u001b[0m \u001b[0mcls\u001b[0m\u001b[0;34m.\u001b[0m\u001b[0mname\u001b[0m\u001b[0;34m,\u001b[0m \u001b[0;34m'age='\u001b[0m\u001b[0;34m,\u001b[0m \u001b[0mcls\u001b[0m\u001b[0;34m.\u001b[0m\u001b[0mage\u001b[0m\u001b[0;34m)\u001b[0m\u001b[0;34m\u001b[0m\u001b[0;34m\u001b[0m\u001b[0m\n\u001b[0m",
      "\u001b[0;31mAttributeError\u001b[0m: type object 'Student' has no attribute 'age'"
     ]
    }
   ],
   "source": [
    "Student.tostring()  #Student Class Attributes: name=unknown"
   ]
  },
  {
   "cell_type": "markdown",
   "id": "0147d2d9",
   "metadata": {},
   "source": [
    "Above, the Student class contains a class attribute name and an instance attribute age.\n",
    "\n",
    "The **tostring()** method is decorated with the **@classmethod** decorator that makes it a class method, which can be called using the **Student.tostring()**.\n",
    "\n",
    "You can call the class method as **classname.method()** or using class object **object.method()**.\n",
    "\n",
    "#### Note: The first parameter of any class method must be cls that can be used to access the class's attributes. You can give any name to the first parameter instead of cls.\n",
    "\n",
    "The class method can only access class attributes, but not the instance attributes. It will raise an error if trying to access the instance attribute in the class method."
   ]
  },
  {
   "cell_type": "code",
   "execution_count": null,
   "id": "35ff842d",
   "metadata": {},
   "outputs": [],
   "source": [
    "class Student:\n",
    "    name = 'unknown' # class attribute\n",
    "    def __init__(self):\n",
    "        self.age = 20  # instance attribute\n",
    "\n",
    "    @classmethod\n",
    "    def tostring(cls):\n",
    "        print('Student Class Attributes: name=',cls.name,', age=', cls.age)"
   ]
  },
  {
   "cell_type": "code",
   "execution_count": null,
   "id": "3f96cd65",
   "metadata": {},
   "outputs": [],
   "source": [
    "Student.tostring() #calling class method"
   ]
  },
  {
   "cell_type": "markdown",
   "id": "8c40b1d6",
   "metadata": {},
   "source": [
    "The class method can also be used as a factory method to get an object of the class, as shown below."
   ]
  },
  {
   "cell_type": "code",
   "execution_count": null,
   "id": "10d7dfe7",
   "metadata": {},
   "outputs": [],
   "source": [
    "class Student:\n",
    "    def __init__(self, name, age):\n",
    "        self.name = name  # instance attribute\n",
    "        self.age = age # instance attribute\n",
    "\n",
    "    @classmethod\n",
    "    def getobject(cls):\n",
    "        return cls('Steve', 25)"
   ]
  },
  {
   "cell_type": "code",
   "execution_count": null,
   "id": "ff7264d3",
   "metadata": {},
   "outputs": [],
   "source": [
    "std = Student.getobject()\n",
    "\n",
    "print(std.name)  #'Steve'    \n",
    "print(std.age)   #25"
   ]
  },
  {
   "cell_type": "markdown",
   "id": "a99059ba",
   "metadata": {},
   "source": [
    "### 3. Static Method using @staticmethod Decorator in Python\n",
    "\n",
    "The @staticmethod is a built-in decorator that defines a static method in the class in Python. A static method doesn't receive any reference argument whether it is called by an instance of a class or by the class itself.\n",
    "\n",
    "#### @staticmethod characteristics\n",
    "\n",
    "- Declares a static method in the class.\n",
    "- It **cannot** have **cls** or **self** parameter.\n",
    "- The static method cannot access the class attributes or the instance attributes.\n",
    "- The static method can be called using **ClassName.MethodName()** and also using **object.MethodName()**.\n",
    "- It can return an object of the class.\n",
    "\n",
    "\n",
    "The following example demonstrates how to define a static method in the class:"
   ]
  },
  {
   "cell_type": "code",
   "execution_count": null,
   "id": "a15ceec2",
   "metadata": {},
   "outputs": [],
   "source": [
    "class Student:\n",
    "    name = 'unknown' # class attribute\n",
    "    \n",
    "    def __init__(self):\n",
    "        self.age = 20  # instance attribute\n",
    "\n",
    "    @staticmethod\n",
    "    def tostring():\n",
    "        print('YT Student Class')"
   ]
  },
  {
   "cell_type": "markdown",
   "id": "c900831f",
   "metadata": {},
   "source": [
    "Above, the **Student** class declares the **tostring()** method as a static method using the **@staticmethod** decorator. Note that it cannot have **self** or **cls** parameter.\n",
    "\n",
    "The static method can be called using the **ClassName.MethodName()** or **object.MethodName()**, as shown below."
   ]
  },
  {
   "cell_type": "code",
   "execution_count": null,
   "id": "d7f2bb2f",
   "metadata": {},
   "outputs": [],
   "source": [
    "#calling static method    \n",
    "Student.tostring()   #'YT Student Class'\n",
    "Student().tostring() #'YT Student Class'\n",
    "\n",
    "std = Student()\n",
    "std.tostring()     #'YT Student Class'"
   ]
  },
  {
   "cell_type": "markdown",
   "id": "5b268aa5",
   "metadata": {},
   "source": [
    "The static method cannot access the class attributes or instance attributes. It will raise an error if try to do so."
   ]
  },
  {
   "cell_type": "code",
   "execution_count": null,
   "id": "a1debc65",
   "metadata": {},
   "outputs": [],
   "source": [
    "class Student:\n",
    "    name = 'unknown' # class attribute\n",
    "    \n",
    "    def __init__(self):\n",
    "        self.age = 20  # instance attribute\n",
    "\n",
    "    @staticmethod\n",
    "    def tostring():\n",
    "        print('name=',name,'age=',self.age)\n",
    "\n"
   ]
  },
  {
   "cell_type": "code",
   "execution_count": null,
   "id": "77d1219f",
   "metadata": {},
   "outputs": [],
   "source": [
    "\n",
    "Student.tostring()   #error"
   ]
  },
  {
   "cell_type": "markdown",
   "id": "dbf603dd",
   "metadata": {},
   "source": [
    "### @classmethod vs @staticmethod\n",
    "\n",
    "The following table lists the difference between the class method and the static method:\n",
    "\n",
    "#### @classmethod\n",
    "\n",
    "- Declares a class method.\t\n",
    "- It can access class attributes, but not the instance attributes.\t\n",
    "\n",
    "- It can be called using the ClassName.MethodName() or object.MethodName().\t\n",
    "\n",
    "- It can be used to declare a factory method that returns objects of the class.\t\n",
    "\n",
    "#### @staticmethod\n",
    "- Declares a static method.\n",
    "\n",
    "- It cannot access either class attributes or instance attributes.\n",
    "\n",
    "- It can be called using the ClassName.MethodName() or object.MethodName().\n",
    "\n",
    "- It cannot return an object of the class."
   ]
  }
 ],
 "metadata": {
  "kernelspec": {
   "display_name": "Python 3 (ipykernel)",
   "language": "python",
   "name": "python3"
  },
  "language_info": {
   "codemirror_mode": {
    "name": "ipython",
    "version": 3
   },
   "file_extension": ".py",
   "mimetype": "text/x-python",
   "name": "python",
   "nbconvert_exporter": "python",
   "pygments_lexer": "ipython3",
   "version": "3.7.16"
  }
 },
 "nbformat": 4,
 "nbformat_minor": 5
}

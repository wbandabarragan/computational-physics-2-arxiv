{
 "cells": [
  {
   "cell_type": "markdown",
   "id": "730e2d1c",
   "metadata": {},
   "source": [
    "# Python Classes:\n",
    "\n",
    "- Classes are fundamental concepts for **object oriented programming** with python.\n",
    "\n",
    "\n",
    "- A class defines a data type with both data and functions that can operate on the data. \n",
    "\n",
    "\n",
    "- An object is an instance of a class. Each object will have its own namespace (separate from other instances of the class and other functions, etc. in your program).\n",
    "\n",
    "\n",
    "- We use the dot operator, `.`, to access members of the class (data or functions).  We've already been doing this a lot, strings, ints, lists, ... are all objects in python.\n",
    "\n",
    "#### Reference:\n",
    "\n",
    "https://sbu-python-class.github.io/python-science/01-python/w4-python-classes.html\n"
   ]
  },
  {
   "cell_type": "markdown",
   "id": "876ec77e",
   "metadata": {},
   "source": [
    "## Naming conventions\n",
    "\n",
    "The python community has some naming convections, defined in PEP-8:\n",
    "\n",
    "https://www.python.org/dev/peps/pep-0008/\n",
    "\n",
    "The widely adopted ones are:\n",
    "\n",
    "* class names start with an uppercase, and use \"camelcase\" for multiword names, e.g. `ShoppingCart`\n",
    "\n",
    "\n",
    "* variable names (including objects which are instances of a class) are lowercase and use underscores to separate words, e.g., `shopping_cart`\n",
    "\n",
    "\n",
    "* module names should be lowercase with underscores\n",
    "\n"
   ]
  },
  {
   "cell_type": "markdown",
   "id": "b928c578",
   "metadata": {},
   "source": [
    "## Basics of python classes:\n",
    "\n",
    "Please see this notebook for basic definitions of python classes:\n",
    "\n"
   ]
  },
  {
   "cell_type": "markdown",
   "id": "22085a0d",
   "metadata": {},
   "source": [
    "## 1. Creating classes:\n",
    "\n",
    "Let us create a class named **PhysicsCourses**, with a property named **x1,2,3,4**:"
   ]
  },
  {
   "cell_type": "code",
   "execution_count": 3,
   "id": "a56bf051",
   "metadata": {},
   "outputs": [],
   "source": [
    "class PhysicsCourses:\n",
    "    \n",
    "    # Properties/Attributes  (strings)\n",
    "    x1 = \"computational physics\"\n",
    "    x2 = \"quantum mechanics II\"\n",
    "    x3 = \"solid state physics\"\n",
    "    x4 = \"electrodynamics II\""
   ]
  },
  {
   "cell_type": "markdown",
   "id": "f172b182",
   "metadata": {},
   "source": [
    "## 2. Creating objects:\n",
    "\n",
    "We can use the class named **PhysicsCourses** to create objects:"
   ]
  },
  {
   "cell_type": "code",
   "execution_count": 4,
   "id": "0d526dc3",
   "metadata": {},
   "outputs": [],
   "source": [
    "obj = PhysicsCourses()"
   ]
  },
  {
   "cell_type": "code",
   "execution_count": 5,
   "id": "5431c2a8",
   "metadata": {},
   "outputs": [
    {
     "name": "stdout",
     "output_type": "stream",
     "text": [
      "<__main__.PhysicsCourses object at 0x7fc50e8b6390>\n"
     ]
    }
   ],
   "source": [
    "print(obj)"
   ]
  },
  {
   "cell_type": "code",
   "execution_count": 7,
   "id": "290520fc",
   "metadata": {},
   "outputs": [
    {
     "name": "stdout",
     "output_type": "stream",
     "text": [
      "computational physics\n",
      "quantum mechanics II\n",
      "solid state physics\n",
      "electrodynamics II\n"
     ]
    }
   ],
   "source": [
    "print(obj.x1)\n",
    "print(obj.x2)\n",
    "print(obj.x3)\n",
    "print(obj.x4)"
   ]
  },
  {
   "cell_type": "markdown",
   "id": "52218c30",
   "metadata": {},
   "source": [
    "## 3. The \\_\\_init__() function\n",
    "\n",
    "- All classes have a function called **\\_\\_init__()**, which is always executed when the class is being initiated.\n",
    "\n",
    "\n",
    "- The **\\_\\_init__()** function is used to assign values to the object properties, or define operations for them."
   ]
  },
  {
   "cell_type": "code",
   "execution_count": 9,
   "id": "2803120d",
   "metadata": {},
   "outputs": [],
   "source": [
    "class PhysicsCourses:\n",
    "    \"\"\"\n",
    "    W.E.B.B.\n",
    "    \"\"\"\n",
    "    \n",
    "    def __init__(self, course, grade):\n",
    "        \"\"\"\n",
    "        Description\n",
    "        \"\"\"\n",
    "        self.course = course\n",
    "        self.grade  = grade"
   ]
  },
  {
   "cell_type": "markdown",
   "id": "43fa89d1",
   "metadata": {},
   "source": [
    "This has a function, `__init__()` which is called automatically when we create an instance of the class.  \n",
    "\n",
    "The argument `self` refers to the object that we will create, and points to the memory that the object will use to store the class's contents."
   ]
  },
  {
   "cell_type": "markdown",
   "id": "30132cb9",
   "metadata": {},
   "source": [
    "We just created a class named **PhysicsCourses**. The **\\_\\_init__()** function allows us to assign values for course and score:"
   ]
  },
  {
   "cell_type": "code",
   "execution_count": 10,
   "id": "1708ffa3",
   "metadata": {},
   "outputs": [],
   "source": [
    "obj2 = PhysicsCourses(\"computational physics II\", 8.) "
   ]
  },
  {
   "cell_type": "code",
   "execution_count": 11,
   "id": "8d307c80",
   "metadata": {},
   "outputs": [
    {
     "name": "stdout",
     "output_type": "stream",
     "text": [
      "<__main__.PhysicsCourses object at 0x7fc50e8cb110>\n"
     ]
    }
   ],
   "source": [
    "print(obj2)"
   ]
  },
  {
   "cell_type": "code",
   "execution_count": 12,
   "id": "67a91716",
   "metadata": {},
   "outputs": [
    {
     "name": "stdout",
     "output_type": "stream",
     "text": [
      "computational physics II\n",
      "8.0\n"
     ]
    }
   ],
   "source": [
    "print(obj2.course)\n",
    "\n",
    "print(obj2.grade)"
   ]
  },
  {
   "cell_type": "markdown",
   "id": "af42259a",
   "metadata": {},
   "source": [
    "# Python Inheritance:\n",
    "\n",
    "- Inheritance allows us to define a new class that inherits all the methods and properties from another class.\n",
    "\n",
    "\n",
    "- **Base class:** is the class being inherited from.\n",
    "\n",
    "\n",
    "- **Derived class:** is the class that inherits from another class."
   ]
  },
  {
   "cell_type": "markdown",
   "id": "cc40dcfa",
   "metadata": {},
   "source": [
    "## 4. Creating **base** classes\n",
    "\n",
    "Any class can be a base class:"
   ]
  },
  {
   "cell_type": "code",
   "execution_count": 15,
   "id": "660533b1",
   "metadata": {},
   "outputs": [],
   "source": [
    "# Create base class\n",
    "\n",
    "class PhysicsCourses:\n",
    "    \n",
    "    # Define init function\n",
    "    def __init__(self, course, grade):\n",
    "        self.course = course\n",
    "        self.grade  = grade\n",
    "        \n",
    "    # Define a method\n",
    "    def print_course_info(self):\n",
    "        print(self.course, self.grade)"
   ]
  },
  {
   "cell_type": "markdown",
   "id": "12ea667e",
   "metadata": {},
   "source": [
    "### Call class:"
   ]
  },
  {
   "cell_type": "code",
   "execution_count": 16,
   "id": "3e51a444",
   "metadata": {},
   "outputs": [
    {
     "name": "stdout",
     "output_type": "stream",
     "text": [
      "quantum mechanics II 9.0\n"
     ]
    }
   ],
   "source": [
    "obj3 = PhysicsCourses(\"quantum mechanics II\", 9.)\n",
    "\n",
    "# Execute:\n",
    "\n",
    "obj3.print_course_info()"
   ]
  },
  {
   "cell_type": "markdown",
   "id": "bdbe2ec1",
   "metadata": {},
   "source": [
    "## 5. Creating derived classes\n",
    "\n",
    "To create a class that inherits the functionality from another class, we can send the base class as a parameter when creating the derived class.\n",
    "\n",
    "**Note:** We can use the **pass** keyword when we do NOT want to add any other properties or methods to the class."
   ]
  },
  {
   "cell_type": "code",
   "execution_count": 17,
   "id": "73b75b19",
   "metadata": {},
   "outputs": [],
   "source": [
    "# Create class\n",
    "\n",
    "class AllCourses(PhysicsCourses):\n",
    "    pass"
   ]
  },
  {
   "cell_type": "markdown",
   "id": "4cb1411c",
   "metadata": {},
   "source": [
    "### Call base class:\n",
    "\n",
    "This should be exactly as the previous one, we do not want to add more attributes."
   ]
  },
  {
   "cell_type": "code",
   "execution_count": 18,
   "id": "b4fd90c0",
   "metadata": {},
   "outputs": [
    {
     "name": "stdout",
     "output_type": "stream",
     "text": [
      "quantum mechanics II 9.0\n"
     ]
    }
   ],
   "source": [
    "obj4 = PhysicsCourses(\"quantum mechanics II\", 9.)\n",
    "\n",
    "# Execute:\n",
    "\n",
    "obj4.print_course_info()"
   ]
  },
  {
   "cell_type": "markdown",
   "id": "3bfde6a4",
   "metadata": {},
   "source": [
    "### Call derived class:"
   ]
  },
  {
   "cell_type": "code",
   "execution_count": 19,
   "id": "b86babe3",
   "metadata": {},
   "outputs": [
    {
     "name": "stdout",
     "output_type": "stream",
     "text": [
      "quantum mechanics II 9.0\n"
     ]
    }
   ],
   "source": [
    "obj5 = AllCourses(\"quantum mechanics II\", 9.)\n",
    "\n",
    "# Execute:\n",
    "\n",
    "obj5.print_course_info()"
   ]
  },
  {
   "cell_type": "markdown",
   "id": "1cb4cf32",
   "metadata": {},
   "source": [
    "## 6. Adding a customised \\_\\_init__() function\n",
    "\n",
    "\n",
    "- Derived classes inherit the properties and methods from the base class.\n",
    "\n",
    "\n",
    "- We want to add an \\_\\_init__() function to the derived class (instead of using the **pass** keyword).\n",
    "\n",
    "\n",
    "- The \\_\\_init__() function is called automatically every time the class is being used to create a new object.\n",
    "\n",
    "\n",
    "- When we add the \\_\\_init__() function, the derived class will no longer inherit the base's \\_\\_init__() function.\n",
    "\n",
    "\n",
    "- The \\_\\_init__() function of the derived class then overrides the inheritance of the base's \\_\\_init__() function."
   ]
  },
  {
   "cell_type": "code",
   "execution_count": 20,
   "id": "29b6b9a8",
   "metadata": {},
   "outputs": [],
   "source": [
    "# Add a customised __init__() function to the former class:\n",
    "\n",
    "class AllCoursesCustomised(PhysicsCourses):\n",
    "    \n",
    "    # Define init function\n",
    "    def __init__(self, course, grade, average):\n",
    "        self.course  = course\n",
    "        self.grade   = grade\n",
    "        self.average = average"
   ]
  },
  {
   "cell_type": "code",
   "execution_count": 21,
   "id": "66e514f2",
   "metadata": {},
   "outputs": [
    {
     "name": "stdout",
     "output_type": "stream",
     "text": [
      "electrodynamics II 7.5\n"
     ]
    }
   ],
   "source": [
    "obj5 = AllCourses(\"electrodynamics II\", 7.5)\n",
    "\n",
    "# Execute:\n",
    "\n",
    "obj5.print_course_info()"
   ]
  },
  {
   "cell_type": "code",
   "execution_count": 23,
   "id": "97a83556",
   "metadata": {},
   "outputs": [
    {
     "name": "stdout",
     "output_type": "stream",
     "text": [
      "electrodynamics II 7.5\n"
     ]
    }
   ],
   "source": [
    "obj6 = AllCoursesCustomised(\"electrodynamics II\", 7.5, 7.0)\n",
    "\n",
    "# Execute:\n",
    "\n",
    "obj6.print_course_info()"
   ]
  },
  {
   "cell_type": "markdown",
   "id": "8386fadc",
   "metadata": {},
   "source": [
    "## 7. Adding  new properties\n",
    "\n",
    "Add a property called **field** to the **PhysicsCourses** class:\n",
    "\n",
    "### Notes:\n",
    "\n",
    "- The **super()** function can be used to keep the functionality of the original \\_\\_init__()\n",
    "\n",
    "\n",
    "- The super() function makes the derived class inherit all the methods and properties from the base class.\n",
    "\n",
    "\n",
    "- By using the super() function, we do not have to use the name of the base element as it automatically inherits the methods and properties from its base."
   ]
  },
  {
   "cell_type": "code",
   "execution_count": 24,
   "id": "c67d6102",
   "metadata": {},
   "outputs": [],
   "source": [
    "# Create new class\n",
    "\n",
    "class AllCoursesCustomisedNew(PhysicsCourses):\n",
    "    \n",
    "    # Define init function\n",
    "    def __init__(self, course, grade, average, field_of_study):\n",
    "        \n",
    "        # Use super to keep inheritance\n",
    "        super().__init__(course, grade)\n",
    "        \n",
    "        # Add new properties to the derived class\n",
    "        self.average = average\n",
    "        self.field   = field_of_study  "
   ]
  },
  {
   "cell_type": "markdown",
   "id": "d43a0ecb",
   "metadata": {},
   "source": [
    "### Call new class:"
   ]
  },
  {
   "cell_type": "code",
   "execution_count": 25,
   "id": "c25bc56b",
   "metadata": {},
   "outputs": [
    {
     "name": "stdout",
     "output_type": "stream",
     "text": [
      "computational physics 8.0\n"
     ]
    }
   ],
   "source": [
    "# Use the physics_courses class to create an object\n",
    "obj7 = AllCoursesCustomisedNew(\"computational physics\", 8., 9.2, \"elective course of physics\")\n",
    "\n",
    "# Execute the printname method:\n",
    "obj7.print_course_info()"
   ]
  },
  {
   "cell_type": "markdown",
   "id": "aff7e98f",
   "metadata": {},
   "source": [
    "## 9. Adding  new methods\n",
    "\n",
    "Add a method called **print_allvalues** to the **physics_courses** class:"
   ]
  },
  {
   "cell_type": "code",
   "execution_count": 26,
   "id": "b55eef31",
   "metadata": {},
   "outputs": [],
   "source": [
    "class AllCoursesCustomisedNew(PhysicsCourses):\n",
    "    \n",
    "    def __init__(self, course, grade, average, field_of_study):\n",
    "        \n",
    "        # Keep attributes from the base class\n",
    "        super().__init__(course, grade)\n",
    "        \n",
    "        #Add new attributes\n",
    "        self.average = average\n",
    "        self.field   = field_of_study         \n",
    "        \n",
    "    # Define new method:\n",
    "    \n",
    "    def print_allvalues(self):\n",
    "        print(self.course, self.grade, self.average, self.field)"
   ]
  },
  {
   "cell_type": "markdown",
   "id": "d010b40f",
   "metadata": {},
   "source": [
    "## 10. Magic methods and encapsulation\n",
    "\n",
    "### Magic methods:\n",
    "\n",
    "https://www.tutorialsteacher.com/python/magic-methods-in-python#:~:text=Magic%20methods%20in%20Python%20are,class%20on%20a%20certain%20action.\n",
    "\n",
    "\n",
    "### Encapsulation\n",
    "Encapsulation is one of the fundamental concepts in OOP. It describes the idea of restricting access to methods and attributes in a class. This will hide the complex details from the users, and prevent data being modified by accident. In Python, this is achieved by using private methods or attributes using underscore as prefix, i.e. single “_” or double “__”. Let us see the following example.\n"
   ]
  },
  {
   "cell_type": "code",
   "execution_count": 32,
   "id": "b0d291f3",
   "metadata": {},
   "outputs": [],
   "source": [
    "class Sensor():\n",
    "    \n",
    "    def __init__(self, name, location):\n",
    "        self.name = name\n",
    "        self._location = location\n",
    "        self.__version = '1.0'\n",
    "    \n",
    "    # a getter function\n",
    "    def get_version(self):\n",
    "        print(f'The sensor version is {self.__version}')\n",
    "    \n",
    "    # a setter function\n",
    "    def set_version(self, version):\n",
    "        self.__version = version"
   ]
  },
  {
   "cell_type": "code",
   "execution_count": 31,
   "id": "4f6dadfc",
   "metadata": {},
   "outputs": [
    {
     "name": "stdout",
     "output_type": "stream",
     "text": [
      "Python 3.7.16\r\n"
     ]
    }
   ],
   "source": [
    "!python --version"
   ]
  },
  {
   "cell_type": "code",
   "execution_count": 36,
   "id": "be92a0e5",
   "metadata": {},
   "outputs": [
    {
     "name": "stdout",
     "output_type": "stream",
     "text": [
      "Acc\n",
      "Berkeley\n"
     ]
    },
    {
     "ename": "AttributeError",
     "evalue": "'Sensor' object has no attribute '__version'",
     "output_type": "error",
     "traceback": [
      "\u001b[0;31m---------------------------------------------------------------------------\u001b[0m",
      "\u001b[0;31mAttributeError\u001b[0m                            Traceback (most recent call last)",
      "\u001b[0;32m/var/folders/sw/g1jmwgb9161cw02pzv6xtvjw0000gn/T/ipykernel_816/3413002030.py\u001b[0m in \u001b[0;36m<module>\u001b[0;34m\u001b[0m\n\u001b[1;32m      3\u001b[0m \u001b[0mprint\u001b[0m\u001b[0;34m(\u001b[0m\u001b[0msensor1\u001b[0m\u001b[0;34m.\u001b[0m\u001b[0mname\u001b[0m\u001b[0;34m)\u001b[0m\u001b[0;34m\u001b[0m\u001b[0;34m\u001b[0m\u001b[0m\n\u001b[1;32m      4\u001b[0m \u001b[0mprint\u001b[0m\u001b[0;34m(\u001b[0m\u001b[0msensor1\u001b[0m\u001b[0;34m.\u001b[0m\u001b[0m_location\u001b[0m\u001b[0;34m)\u001b[0m\u001b[0;34m\u001b[0m\u001b[0;34m\u001b[0m\u001b[0m\n\u001b[0;32m----> 5\u001b[0;31m \u001b[0mprint\u001b[0m\u001b[0;34m(\u001b[0m\u001b[0msensor1\u001b[0m\u001b[0;34m.\u001b[0m\u001b[0m__version\u001b[0m\u001b[0;34m)\u001b[0m\u001b[0;34m\u001b[0m\u001b[0;34m\u001b[0m\u001b[0m\n\u001b[0m",
      "\u001b[0;31mAttributeError\u001b[0m: 'Sensor' object has no attribute '__version'"
     ]
    }
   ],
   "source": [
    "# Call the class:\n",
    "sensor1 = Sensor('Acc', 'Berkeley')\n",
    "print(sensor1.name)\n",
    "print(sensor1._location)\n",
    "print(sensor1.__version)"
   ]
  },
  {
   "cell_type": "code",
   "execution_count": 40,
   "id": "6fb0cf14",
   "metadata": {},
   "outputs": [
    {
     "name": "stdout",
     "output_type": "stream",
     "text": [
      "The sensor version is 1.0\n"
     ]
    }
   ],
   "source": [
    "sensor1.get_version()"
   ]
  },
  {
   "cell_type": "code",
   "execution_count": 41,
   "id": "75b27e15",
   "metadata": {},
   "outputs": [
    {
     "name": "stdout",
     "output_type": "stream",
     "text": [
      "The sensor version is 2.5\n"
     ]
    }
   ],
   "source": [
    "sensor1.set_version(2.5)\n",
    "\n",
    "sensor1.get_version()"
   ]
  },
  {
   "cell_type": "markdown",
   "id": "12bca2e4",
   "metadata": {},
   "source": [
    "### Call new class:"
   ]
  },
  {
   "cell_type": "code",
   "execution_count": 27,
   "id": "d5c46d56",
   "metadata": {},
   "outputs": [
    {
     "name": "stdout",
     "output_type": "stream",
     "text": [
      "computational physics 8.0\n",
      "computational physics 8.0 9.2 elective course of physics\n"
     ]
    }
   ],
   "source": [
    "# Use the physics_courses class to create an object\n",
    "obj8 = AllCoursesCustomisedNew(\"computational physics\", 8., 9.2, \"elective course of physics\")\n",
    "\n",
    "# Execute the printname method:\n",
    "obj8.print_course_info()\n",
    "\n",
    "# Execure the new method:\n",
    "obj8.print_allvalues()"
   ]
  },
  {
   "cell_type": "markdown",
   "id": "dc0a4784",
   "metadata": {},
   "source": [
    "###  Example 1: Create an Iterator\n",
    "\n",
    "- To create an object/class as an iterator we have to implement the methods \\_\\_iter__() and \\_\\_next__() to our object.\n",
    "\n",
    "- The \\_\\_iter__() method acts similarly to the \\_\\_init() as it can do operations (initializing etc.), but must always return the iterator object itself.\n",
    "\n",
    "- The \\_\\_next__() method also allows you to do operations, and must return the next item in the sequence."
   ]
  },
  {
   "cell_type": "code",
   "execution_count": 28,
   "id": "e7ba3c2a",
   "metadata": {},
   "outputs": [],
   "source": [
    "# Create an iterator class\n",
    "\n",
    "class Sequence:\n",
    "    \n",
    "    def __iter__(self):\n",
    "        # Define attribute to start from 1\n",
    "        self.x = 1\n",
    "        # Return it\n",
    "        return self\n",
    "    \n",
    "    def __next__(self):\n",
    "        y = self.x\n",
    "        # Build iterator adding +1\n",
    "        self.x += 1\n",
    "        # Return new value\n",
    "        return y"
   ]
  },
  {
   "cell_type": "code",
   "execution_count": 30,
   "id": "d4154f08",
   "metadata": {},
   "outputs": [
    {
     "name": "stdout",
     "output_type": "stream",
     "text": [
      "1\n",
      "2\n",
      "3\n",
      "4\n",
      "5\n",
      "6\n",
      "7\n",
      "8\n",
      "9\n",
      "10\n",
      "11\n",
      "12\n",
      "13\n",
      "14\n",
      "15\n",
      "16\n",
      "17\n",
      "18\n",
      "19\n",
      "20\n"
     ]
    }
   ],
   "source": [
    "result = Sequence()\n",
    "iterations = iter(result)\n",
    "\n",
    "print(next(iterations))\n",
    "print(next(iterations))\n",
    "print(next(iterations))\n",
    "print(next(iterations))\n",
    "print(next(iterations))\n",
    "print(next(iterations))\n",
    "print(next(iterations))\n",
    "print(next(iterations))\n",
    "print(next(iterations))\n",
    "print(next(iterations))\n",
    "print(next(iterations))\n",
    "print(next(iterations))\n",
    "print(next(iterations))\n",
    "print(next(iterations))\n",
    "print(next(iterations))\n",
    "print(next(iterations))\n",
    "print(next(iterations))\n",
    "print(next(iterations))\n",
    "print(next(iterations))\n",
    "print(next(iterations))"
   ]
  },
  {
   "cell_type": "code",
   "execution_count": null,
   "id": "a625ec2d",
   "metadata": {},
   "outputs": [],
   "source": []
  }
 ],
 "metadata": {
  "kernelspec": {
   "display_name": "Python 3 (ipykernel)",
   "language": "python",
   "name": "python3"
  },
  "language_info": {
   "codemirror_mode": {
    "name": "ipython",
    "version": 3
   },
   "file_extension": ".py",
   "mimetype": "text/x-python",
   "name": "python",
   "nbconvert_exporter": "python",
   "pygments_lexer": "ipython3",
   "version": "3.7.16"
  }
 },
 "nbformat": 4,
 "nbformat_minor": 5
}

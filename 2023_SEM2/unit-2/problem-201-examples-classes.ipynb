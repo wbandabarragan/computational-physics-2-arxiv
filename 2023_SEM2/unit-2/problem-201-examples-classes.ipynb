{
 "cells": [
  {
   "cell_type": "markdown",
   "id": "730e2d1c",
   "metadata": {},
   "source": [
    "# Examples of Python Classes:\n",
    "\n",
    "#### Reference:\n",
    "\n",
    "https://sbu-python-class.github.io/python-science/01-python/w4-python-classes.html\n"
   ]
  },
  {
   "cell_type": "markdown",
   "id": "31ac0db4",
   "metadata": {},
   "source": [
    "### Example 1: Python classes\n",
    "\n",
    "Here's a class that holds some student information:"
   ]
  },
  {
   "cell_type": "code",
   "execution_count": 71,
   "id": "5dc86e5b",
   "metadata": {},
   "outputs": [],
   "source": [
    "class Student:\n",
    "    \n",
    "    # Init function\n",
    "    # Here we can add default values\n",
    "    \n",
    "    def __init__(self, name=None, grade=None): \n",
    "        self.name = name\n",
    "        self.grade = grade"
   ]
  },
  {
   "cell_type": "code",
   "execution_count": 72,
   "id": "b3f86080",
   "metadata": {},
   "outputs": [
    {
     "name": "stdout",
     "output_type": "stream",
     "text": [
      "None None\n"
     ]
    }
   ],
   "source": [
    "# Call class \n",
    "\n",
    "obj1 = Student()\n",
    "\n",
    "print(obj1.name, obj1.grade)"
   ]
  },
  {
   "cell_type": "code",
   "execution_count": 73,
   "id": "f74d951a",
   "metadata": {},
   "outputs": [
    {
     "name": "stdout",
     "output_type": "stream",
     "text": [
      "Mike 9.2\n"
     ]
    }
   ],
   "source": [
    "obj2 = Student(\"Mike\", 9.2)\n",
    "\n",
    "#print(obj2)\n",
    "\n",
    "print(obj2.name, obj2.grade)"
   ]
  },
  {
   "cell_type": "markdown",
   "id": "386e9e00",
   "metadata": {},
   "source": [
    "### Set of students:\n",
    "\n",
    "Let's create a bunch of them, stored in a list:"
   ]
  },
  {
   "cell_type": "code",
   "execution_count": 74,
   "id": "2830d3bd",
   "metadata": {},
   "outputs": [],
   "source": [
    "# Create empty list\n",
    "students = []\n",
    "\n",
    "# Append names and grades\n",
    "students.append(Student(\"fry\", \"F-\"))\n",
    "students.append(Student(\"leela\", \"A\"))\n",
    "students.append(Student(\"zoidberg\", \"F\"))\n",
    "students.append(Student(\"hubert\", \"C+\"))\n",
    "students.append(Student(\"bender\", \"B\"))\n",
    "students.append(Student(\"calculon\", \"C\"))\n",
    "students.append(Student(\"amy\", \"A\"))\n",
    "students.append(Student(\"hermes\", \"A\"))\n",
    "students.append(Student(\"scruffy\", \"D\"))\n",
    "students.append(Student(\"flexo\", \"F\"))\n",
    "students.append(Student(\"hypnotoad\", \"A+\"))\n",
    "students.append(Student(\"zapp\", \"Q\"))"
   ]
  },
  {
   "cell_type": "code",
   "execution_count": 75,
   "id": "6a308a40",
   "metadata": {},
   "outputs": [
    {
     "name": "stdout",
     "output_type": "stream",
     "text": [
      "[<__main__.Student object at 0x7fe7fcf9a0d0>, <__main__.Student object at 0x7fe7fcf9a090>, <__main__.Student object at 0x7fe7fcf9a110>, <__main__.Student object at 0x7fe7fcf9a210>, <__main__.Student object at 0x7fe7fcf9a150>, <__main__.Student object at 0x7fe7fcf9a2d0>, <__main__.Student object at 0x7fe7fcf9a190>, <__main__.Student object at 0x7fe7fcf9a390>, <__main__.Student object at 0x7fe7fcf9a410>, <__main__.Student object at 0x7fe7fcf9a250>, <__main__.Student object at 0x7fe7fcf9a350>, <__main__.Student object at 0x7fe7fcf9a290>]\n"
     ]
    }
   ],
   "source": [
    "print(students)"
   ]
  },
  {
   "cell_type": "markdown",
   "id": "a9031ebc",
   "metadata": {},
   "source": [
    "### Exercise:\n",
    "\n",
    "Loop over the students in the `students` list and print out the name and grade of each student, one per line."
   ]
  },
  {
   "cell_type": "code",
   "execution_count": 5,
   "id": "96544291",
   "metadata": {},
   "outputs": [
    {
     "name": "stdout",
     "output_type": "stream",
     "text": [
      "<class '__main__.Student'>\n"
     ]
    }
   ],
   "source": [
    "# Class\n",
    "print(Student)"
   ]
  },
  {
   "cell_type": "code",
   "execution_count": 6,
   "id": "9ff07e67",
   "metadata": {},
   "outputs": [
    {
     "name": "stdout",
     "output_type": "stream",
     "text": [
      "[<__main__.Student object at 0x7fe7fcf9a090>, <__main__.Student object at 0x7fe7fcf9a0d0>, <__main__.Student object at 0x7fe7fcf9a110>, <__main__.Student object at 0x7fe7fcf9a190>, <__main__.Student object at 0x7fe7fcf9a210>, <__main__.Student object at 0x7fe7fcf9a250>, <__main__.Student object at 0x7fe7fcf9a150>, <__main__.Student object at 0x7fe7fcf9a2d0>, <__main__.Student object at 0x7fe7fcf9a350>, <__main__.Student object at 0x7fe7fcf9a390>, <__main__.Student object at 0x7fe7fcf9a290>, <__main__.Student object at 0x7fe7fcf9a410>]\n"
     ]
    }
   ],
   "source": [
    "# List\n",
    "print(students)"
   ]
  },
  {
   "cell_type": "code",
   "execution_count": 7,
   "id": "9bcf95d4",
   "metadata": {},
   "outputs": [
    {
     "name": "stdout",
     "output_type": "stream",
     "text": [
      "12\n"
     ]
    }
   ],
   "source": [
    "# Length of the list\n",
    "print(len(students))"
   ]
  },
  {
   "cell_type": "code",
   "execution_count": 8,
   "id": "43e14654",
   "metadata": {},
   "outputs": [
    {
     "name": "stdout",
     "output_type": "stream",
     "text": [
      "fry F-\n"
     ]
    }
   ],
   "source": [
    "# Access and print one value\n",
    "print(students[0].name, students[0].grade)"
   ]
  },
  {
   "cell_type": "code",
   "execution_count": 76,
   "id": "7354748e",
   "metadata": {},
   "outputs": [
    {
     "name": "stdout",
     "output_type": "stream",
     "text": [
      "zapp Q\n"
     ]
    }
   ],
   "source": [
    "# Access and print one value\n",
    "print(students[-1].name, students[-1].grade)"
   ]
  },
  {
   "cell_type": "code",
   "execution_count": 77,
   "id": "117e11cd",
   "metadata": {},
   "outputs": [
    {
     "name": "stdout",
     "output_type": "stream",
     "text": [
      "fry F-\n",
      "leela A\n",
      "zoidberg F\n",
      "hubert C+\n",
      "bender B\n",
      "calculon C\n",
      "amy A\n",
      "hermes A\n",
      "scruffy D\n",
      "flexo F\n",
      "hypnotoad A+\n",
      "zapp Q\n"
     ]
    }
   ],
   "source": [
    "# Loop over all names\n",
    "\n",
    "for i in range(len(students)):\n",
    "    print(students[i].name, students[i].grade)"
   ]
  },
  {
   "cell_type": "markdown",
   "id": "950eeac0",
   "metadata": {},
   "source": [
    "We can use list comprehensions with our list of objects.  For example, let's find all the students who have A's"
   ]
  },
  {
   "cell_type": "code",
   "execution_count": 79,
   "id": "f4c50af0",
   "metadata": {},
   "outputs": [
    {
     "name": "stdout",
     "output_type": "stream",
     "text": [
      "True\n"
     ]
    }
   ],
   "source": [
    "# We can use startswith()\n",
    "# https://www.w3schools.com/python/ref_string_startswith.asp\n",
    "\n",
    "# Relevant example:\n",
    "txt = \"Hello, welcome to my world.\"\n",
    "\n",
    "#x = txt.startswith(\"wel\", 0, 6)\n",
    "x = txt.startswith(\"wel\", 7, 20)\n",
    "\n",
    "print(x)"
   ]
  },
  {
   "cell_type": "code",
   "execution_count": 80,
   "id": "16cefb8f",
   "metadata": {},
   "outputs": [
    {
     "name": "stdout",
     "output_type": "stream",
     "text": [
      "['leela', 'amy', 'hermes', 'hypnotoad']\n"
     ]
    }
   ],
   "source": [
    "# We create a conditional:\n",
    "\n",
    "obj3 = [var.name for var in students if var.grade.startswith(\"A\")]\n",
    "\n",
    "print(obj3)"
   ]
  },
  {
   "cell_type": "markdown",
   "id": "cc36981a",
   "metadata": {},
   "source": [
    "### Example 2: Playing Cards\n",
    "\n",
    "This is a complicated class that represents a playing card.\n",
    "\n",
    "Notice that we are using unicode to represent the suits.\n",
    "\n",
    "https://en.wikipedia.org/wiki/Playing_card_suit"
   ]
  },
  {
   "cell_type": "code",
   "execution_count": 87,
   "id": "315c5dae",
   "metadata": {},
   "outputs": [],
   "source": [
    "class Card:\n",
    "\n",
    "    # Init function\n",
    "    def __init__(self, suit=1, rank=2): # Default values\n",
    "        \n",
    "        # Safe Check\n",
    "        if suit < 1 or suit > 4:\n",
    "            print(\"invalid suit, setting to 1\")\n",
    "            suit = 1\n",
    "        if rank < 2 or rank > 14:\n",
    "            print(\"invalid rank, setting to 2\")\n",
    "            rank = 2\n",
    "            \n",
    "        # Assign them to objects\n",
    "        self.suit = suit\n",
    "        self.rank = rank\n",
    " \n",
    "    # Operations\n",
    "    def value(self):\n",
    "        \"\"\" we want things order primarily by rank then suit \"\"\"\n",
    "        return self.suit + (self.rank - 1)*14\n",
    "    \n",
    "    # we include this to allow for comparisons with < and > between cards \n",
    "    def __lt__(self, other):\n",
    "        return self.value() < other.value()\n",
    "\n",
    "    def __eq__(self, other):\n",
    "        return self.rank == other.rank and self.suit == other.suit\n",
    "    \n",
    "    def __repr__(self):\n",
    "        return self.__str__()\n",
    "\n",
    "    def __str__(self):\n",
    "        suits = [u\"\\u2660\",  # spade\n",
    "                 u\"\\u2665\",  # heart\n",
    "                 u\"\\u2666\",  # diamond\n",
    "                 u\"\\u2663\"]  # club\n",
    "        \n",
    "        r = str(self.rank)\n",
    "        if self.rank == 11:\n",
    "            r = \"J\"\n",
    "        elif self.rank == 12:\n",
    "            r = \"Q\"\n",
    "        elif self.rank == 13:\n",
    "            r = \"K\"\n",
    "        elif self.rank == 14:\n",
    "            r = \"A\"\n",
    "                \n",
    "        return r +' of '+suits[self.suit-1]"
   ]
  },
  {
   "cell_type": "code",
   "execution_count": 89,
   "id": "48562ad3",
   "metadata": {},
   "outputs": [
    {
     "name": "stdout",
     "output_type": "stream",
     "text": [
      "5 of ♦\n"
     ]
    }
   ],
   "source": [
    "c1 = Card(3, 5)\n",
    "\n",
    "print(c1)"
   ]
  },
  {
   "cell_type": "code",
   "execution_count": 90,
   "id": "11fa0fc6",
   "metadata": {},
   "outputs": [
    {
     "name": "stdout",
     "output_type": "stream",
     "text": [
      "Suit: 2\n",
      "Rank: 2\n",
      "Value of operation: 16\n"
     ]
    }
   ],
   "source": [
    "c2 = Card(2, 2)\n",
    "\n",
    "print(\"Suit:\", c2.suit)\n",
    "print(\"Rank:\", c2.rank)\n",
    "print(\"Value of operation:\", c2.value())"
   ]
  },
  {
   "cell_type": "markdown",
   "id": "51a801b0",
   "metadata": {},
   "source": [
    "We can create a card easily."
   ]
  },
  {
   "cell_type": "code",
   "execution_count": 91,
   "id": "7ef3f5d9",
   "metadata": {},
   "outputs": [
    {
     "name": "stdout",
     "output_type": "stream",
     "text": [
      "10 of ♣\n"
     ]
    }
   ],
   "source": [
    "c3 = Card(4, 10)\n",
    "\n",
    "print(c3)"
   ]
  },
  {
   "cell_type": "markdown",
   "id": "19087afa",
   "metadata": {},
   "source": [
    "We can pass arguments to `__init__` in when we setup the class:"
   ]
  },
  {
   "cell_type": "code",
   "execution_count": 94,
   "id": "3ad1b0a1",
   "metadata": {},
   "outputs": [
    {
     "name": "stdout",
     "output_type": "stream",
     "text": [
      "A of ♥\n"
     ]
    }
   ],
   "source": [
    "c4 = Card(suit=2, rank=14)\n",
    "\n",
    "print(c4)"
   ]
  },
  {
   "cell_type": "markdown",
   "id": "c46f88bb",
   "metadata": {},
   "source": [
    "Once we have our object, we can access any of the functions in the class using the `dot` operator"
   ]
  },
  {
   "cell_type": "code",
   "execution_count": 95,
   "id": "9a3c55ca",
   "metadata": {},
   "outputs": [
    {
     "name": "stdout",
     "output_type": "stream",
     "text": [
      "59\n",
      "16\n",
      "130\n",
      "184\n"
     ]
    }
   ],
   "source": [
    "print(c1.value())\n",
    "print(c2.value())\n",
    "print(c3.value())\n",
    "print(c4.value())"
   ]
  },
  {
   "cell_type": "code",
   "execution_count": 96,
   "id": "0c4b7192",
   "metadata": {},
   "outputs": [
    {
     "name": "stdout",
     "output_type": "stream",
     "text": [
      "invalid suit, setting to 1\n",
      "4 of ♠\n"
     ]
    }
   ],
   "source": [
    "c3 = Card(suit=0, rank=4)\n",
    "\n",
    "print(c3)"
   ]
  },
  {
   "cell_type": "markdown",
   "id": "e848fbde",
   "metadata": {},
   "source": [
    "The `__str__` method converts the object into a string that can be printed."
   ]
  },
  {
   "cell_type": "code",
   "execution_count": 97,
   "id": "10943cd7",
   "metadata": {},
   "outputs": [
    {
     "name": "stdout",
     "output_type": "stream",
     "text": [
      "5 of ♦\n",
      "2 of ♥\n",
      "4 of ♠\n",
      "A of ♥\n"
     ]
    }
   ],
   "source": [
    "print(c1)\n",
    "print(c2)\n",
    "print(c3)\n",
    "print(c4)"
   ]
  },
  {
   "cell_type": "markdown",
   "id": "a166bfac",
   "metadata": {},
   "source": [
    "The value method assigns a value to the object that can be used in comparisons, and the `__lt__` method is what does the actual comparing"
   ]
  },
  {
   "cell_type": "code",
   "execution_count": 98,
   "id": "919f07e0",
   "metadata": {},
   "outputs": [
    {
     "name": "stdout",
     "output_type": "stream",
     "text": [
      "True\n",
      "False\n"
     ]
    }
   ],
   "source": [
    "print(c1 > c2)\n",
    "print(c1 < c2)"
   ]
  },
  {
   "cell_type": "markdown",
   "id": "7bd3224e",
   "metadata": {},
   "source": [
    "Note that not every operator is defined for our class, so, for instance, we cannot add two cards together:"
   ]
  },
  {
   "cell_type": "code",
   "execution_count": 100,
   "id": "96048d1e",
   "metadata": {},
   "outputs": [],
   "source": [
    "#c1 + c2"
   ]
  },
  {
   "cell_type": "markdown",
   "id": "3c2a163e",
   "metadata": {},
   "source": [
    "### Exercise:\n",
    "\n",
    "- Create a \"hand\" corresponding to a straight (5 cards of any suite, but in sequence of rank)."
   ]
  },
  {
   "cell_type": "code",
   "execution_count": 105,
   "id": "154ca784",
   "metadata": {},
   "outputs": [
    {
     "name": "stdout",
     "output_type": "stream",
     "text": [
      "4\n"
     ]
    }
   ],
   "source": [
    "# Importing random module\n",
    "\n",
    "import random\n",
    "\n",
    "print(random.randint(2, 10))"
   ]
  },
  {
   "cell_type": "code",
   "execution_count": 106,
   "id": "d643de79",
   "metadata": {},
   "outputs": [],
   "source": [
    "# Empty list\n",
    "hand = []\n",
    "\n",
    "# Random value for the max\n",
    "rank_value = random.randint(6, 10)\n",
    "\n",
    "# Loop\n",
    "for i in range(rank_value - 4, rank_value + 1):\n",
    "    # Call class and append values\n",
    "    hand.append(Card(suit = random.randint(1, 4), rank = i))\n"
   ]
  },
  {
   "cell_type": "code",
   "execution_count": 107,
   "id": "5384c6c0",
   "metadata": {},
   "outputs": [
    {
     "name": "stdout",
     "output_type": "stream",
     "text": [
      "6 of ♥\n",
      "7 of ♠\n",
      "8 of ♠\n",
      "9 of ♣\n",
      "10 of ♠\n"
     ]
    }
   ],
   "source": [
    "# Print cards:\n",
    "\n",
    "for i in range(len(hand)):\n",
    "    print(hand[i])"
   ]
  },
  {
   "cell_type": "markdown",
   "id": "befd5192",
   "metadata": {},
   "source": [
    "### Exercise:\n",
    "\n",
    "- Create another hand corresponding to a flush (5 cards all of the same suit, of any rank).\n",
    "\n",
    "\n",
    " \n",
    "- Finally create a hand with one of the cards duplicated&mdash;this should not be allowed in a standard deck of cards.  How would you check for this?\n",
    " "
   ]
  },
  {
   "cell_type": "code",
   "execution_count": 108,
   "id": "29a00f27",
   "metadata": {},
   "outputs": [
    {
     "name": "stdout",
     "output_type": "stream",
     "text": [
      "[2, 6, 5, 3, 10]\n"
     ]
    }
   ],
   "source": [
    "# Unique list\n",
    "uniqueList = [2, 3, 4, 5, 6, 7, 8, 9, 10]\n",
    "\n",
    "# Select subsample of 5 numbers from list\n",
    "# https://www.geeksforgeeks.org/python-random-sample-function/\n",
    "randomList = random.sample(uniqueList, 5)\n",
    "\n",
    "print(randomList)"
   ]
  },
  {
   "cell_type": "code",
   "execution_count": 109,
   "id": "3ea582d6",
   "metadata": {},
   "outputs": [],
   "source": [
    "# Create an empty list\n",
    "flush = []\n",
    "\n",
    "for i in range(len(randomList)):\n",
    "    flush.append(Card(suit = 1, rank=randomList[i]))"
   ]
  },
  {
   "cell_type": "code",
   "execution_count": 110,
   "id": "a5c67daf",
   "metadata": {},
   "outputs": [
    {
     "name": "stdout",
     "output_type": "stream",
     "text": [
      "2 of ♠\n",
      "6 of ♠\n",
      "5 of ♠\n",
      "3 of ♠\n",
      "10 of ♠\n"
     ]
    }
   ],
   "source": [
    "# Print result\n",
    "\n",
    "for i in range(len(flush)):\n",
    "    print(flush[i])\n"
   ]
  },
  {
   "cell_type": "markdown",
   "id": "91e815c5",
   "metadata": {},
   "source": [
    "### Example 3: Deck of Cards\n",
    "\n",
    "Classes can use other classes as data objects: here's a deck of cards.  "
   ]
  },
  {
   "cell_type": "code",
   "execution_count": 111,
   "id": "173ed424",
   "metadata": {},
   "outputs": [],
   "source": [
    "class Deck:\n",
    "    \"\"\" the deck is a collection of cards \"\"\"\n",
    "\n",
    "    def __init__(self):\n",
    "\n",
    "        self.nsuits = 4\n",
    "        self.nranks = 13\n",
    "        self.minrank = 2\n",
    "        self.maxrank = self.minrank + self.nranks - 1\n",
    "\n",
    "        self.cards = []\n",
    "\n",
    "        for rank in range(self.minrank,self.maxrank+1):\n",
    "            for suit in range(1, self.nsuits+1):\n",
    "                self.cards.append(Card(rank=rank, suit=suit))\n",
    "\n",
    "    def shuffle(self):\n",
    "        random.shuffle(self.cards)\n",
    "\n",
    "    def get_cards(self, num=1):\n",
    "        hand = []\n",
    "        for n in range(num):\n",
    "            hand.append(self.cards.pop())\n",
    "\n",
    "        return hand\n",
    "    \n",
    "    def __str__(self):\n",
    "        string = \"\"\n",
    "        for c in self.cards:\n",
    "            string += str(c) + \"\\n\"\n",
    "        return string"
   ]
  },
  {
   "cell_type": "markdown",
   "id": "3d7e0396",
   "metadata": {},
   "source": [
    "Let's create a deck, shuffle, and deal a hand (for a poker game):"
   ]
  },
  {
   "cell_type": "code",
   "execution_count": 115,
   "id": "90f5e6fd",
   "metadata": {},
   "outputs": [
    {
     "name": "stdout",
     "output_type": "stream",
     "text": [
      "2 of ♠\n",
      "2 of ♥\n",
      "2 of ♦\n",
      "2 of ♣\n",
      "3 of ♠\n",
      "3 of ♥\n",
      "3 of ♦\n",
      "3 of ♣\n",
      "4 of ♠\n",
      "4 of ♥\n",
      "4 of ♦\n",
      "4 of ♣\n",
      "5 of ♠\n",
      "5 of ♥\n",
      "5 of ♦\n",
      "5 of ♣\n",
      "6 of ♠\n",
      "6 of ♥\n",
      "6 of ♦\n",
      "6 of ♣\n",
      "7 of ♠\n",
      "7 of ♥\n",
      "7 of ♦\n",
      "7 of ♣\n",
      "8 of ♠\n",
      "8 of ♥\n",
      "8 of ♦\n",
      "8 of ♣\n",
      "9 of ♠\n",
      "9 of ♥\n",
      "9 of ♦\n",
      "9 of ♣\n",
      "10 of ♠\n",
      "10 of ♥\n",
      "10 of ♦\n",
      "10 of ♣\n",
      "J of ♠\n",
      "J of ♥\n",
      "J of ♦\n",
      "J of ♣\n",
      "Q of ♠\n",
      "Q of ♥\n",
      "Q of ♦\n",
      "Q of ♣\n",
      "K of ♠\n",
      "K of ♥\n",
      "K of ♦\n",
      "K of ♣\n",
      "A of ♠\n",
      "A of ♥\n",
      "A of ♦\n",
      "A of ♣\n",
      "\n",
      "52\n"
     ]
    }
   ],
   "source": [
    "mydeck = Deck()\n",
    "print(mydeck)\n",
    "print(len(mydeck.cards))"
   ]
  },
  {
   "cell_type": "markdown",
   "id": "2361b856",
   "metadata": {},
   "source": [
    "Notice that there is no error handling in this class.\n",
    "\n",
    "The **get_cards()** will deal cards from the deck, removing them in the process.  Eventually we'll run out of cards."
   ]
  },
  {
   "cell_type": "code",
   "execution_count": 121,
   "id": "f378029e",
   "metadata": {},
   "outputs": [
    {
     "name": "stdout",
     "output_type": "stream",
     "text": [
      "3 of ♣\n",
      "5 of ♣\n",
      "6 of ♦\n",
      "8 of ♠\n",
      "Q of ♣\n"
     ]
    }
   ],
   "source": [
    "mydeck.shuffle()\n",
    "\n",
    "hand = mydeck.get_cards(5)\n",
    "for c in sorted(hand): print(c)"
   ]
  },
  {
   "cell_type": "markdown",
   "id": "da57798b",
   "metadata": {},
   "source": [
    "### Example 3: Operators\n",
    "\n",
    "We can define operations like `+` and `-` that work on our objects.\n",
    "\n",
    "Here's a simple example of currency, we keep track of the country and the amount."
   ]
  },
  {
   "cell_type": "code",
   "execution_count": 122,
   "id": "ee5d2531",
   "metadata": {},
   "outputs": [],
   "source": [
    "class Currency:\n",
    "    \"\"\" a simple class to hold foreign currency \"\"\"\n",
    "    \n",
    "    def __init__(self, amount, country=\"US\"):\n",
    "        self.amount = amount\n",
    "        self.country = country\n",
    "        \n",
    "    def __add__(self, other):\n",
    "        if self.country != other.country:\n",
    "            print(\"Enter the same countries!\")\n",
    "            return None\n",
    "        else:\n",
    "            return Currency(self.amount + other.amount, country=self.country)\n",
    "\n",
    "    def __sub__(self, other):\n",
    "        if self.country != other.country:\n",
    "            print(\"Enter the same countries!\")\n",
    "            return None\n",
    "        else:\n",
    "            return Currency(self.amount - other.amount, country=self.country)\n",
    "\n",
    "    def __str__(self):\n",
    "        return f\"{self.amount} {self.country}\""
   ]
  },
  {
   "cell_type": "markdown",
   "id": "4fe1780d",
   "metadata": {},
   "source": [
    "We can now create some monetary amounts for different countries"
   ]
  },
  {
   "cell_type": "code",
   "execution_count": 123,
   "id": "c679beb9",
   "metadata": {},
   "outputs": [
    {
     "name": "stdout",
     "output_type": "stream",
     "text": [
      "10 US\n"
     ]
    }
   ],
   "source": [
    "d1 = Currency(10, \"US\")\n",
    "\n",
    "print(d1)"
   ]
  },
  {
   "cell_type": "markdown",
   "id": "ee108656",
   "metadata": {},
   "source": [
    "### Exercise:\n",
    "\n",
    "As written, our Currency class has a bug: it does not check whether the amounts are in the same country before adding.\n",
    "\n",
    "Modify the methods to first check if the countries are the same.  If they are, return the new `Currency` object with the sum, otherwise, return `None`."
   ]
  },
  {
   "cell_type": "code",
   "execution_count": 124,
   "id": "5ea43c46",
   "metadata": {},
   "outputs": [
    {
     "name": "stdout",
     "output_type": "stream",
     "text": [
      "15 Colombia\n"
     ]
    }
   ],
   "source": [
    "d2 = Currency(15, \"Colombia\")\n",
    "print(d2)\n",
    "\n",
    "d3 = Currency(40, \"Colombia\")"
   ]
  },
  {
   "cell_type": "code",
   "execution_count": 125,
   "id": "55558f09",
   "metadata": {},
   "outputs": [
    {
     "name": "stdout",
     "output_type": "stream",
     "text": [
      "Enter the same countries!\n",
      "None\n",
      "Enter the same countries!\n",
      "None\n",
      "55 Colombia\n",
      "25 Colombia\n"
     ]
    }
   ],
   "source": [
    "print(d2 + d1)\n",
    "\n",
    "print(d2 - d1)\n",
    "\n",
    "print(d3 + d2)\n",
    "\n",
    "print(d3 - d2 )"
   ]
  },
  {
   "cell_type": "markdown",
   "id": "0c457d07",
   "metadata": {},
   "source": [
    "### Example 4: Vectors Example\n",
    "\n",
    "Here we write a class to represent 2D vectors.  Vectors have a direction and a magnitude.  We can represent them as a pair of numbers, representing the x and y lengths.  We'll use a tuple internally for this.\n",
    "\n",
    "We want our class to do all the basic operations we do with vectors:\n",
    "\n",
    "- add them\n",
    "\n",
    "\n",
    "- multiply by a scalar\n",
    "\n",
    "\n",
    "- cross product\n",
    "\n",
    "\n",
    "- dot product\n",
    "\n",
    "\n",
    "- return the magnitude, etc.\n",
    "\n",
    "We'll use the math module to provide some basic functions we might need (like sqrt)\n",
    "\n",
    "This example will show us how to overload the standard operations in python.  Here's a list of the builtin methods:\n",
    "\n",
    "https://docs.python.org/3/reference/datamodel.html\n"
   ]
  },
  {
   "cell_type": "code",
   "execution_count": 158,
   "id": "176418e8",
   "metadata": {},
   "outputs": [
    {
     "name": "stdout",
     "output_type": "stream",
     "text": [
      "False\n"
     ]
    }
   ],
   "source": [
    "# Parenthesis:\n",
    "\n",
    "\n",
    "x = isinstance(5., int)\n",
    "\n",
    "\n",
    "print(x)"
   ]
  },
  {
   "cell_type": "code",
   "execution_count": 126,
   "id": "dcaabd3d",
   "metadata": {},
   "outputs": [],
   "source": [
    "import math"
   ]
  },
  {
   "cell_type": "code",
   "execution_count": 140,
   "id": "93c9d45e",
   "metadata": {},
   "outputs": [],
   "source": [
    "class Vector:\n",
    "    \"\"\" a general two-dimensional vector \"\"\"\n",
    "    \n",
    "    def __init__(self, x, y):\n",
    "        print(\"in __init__\")\n",
    "        self.x = x\n",
    "        self.y = y\n",
    "        \n",
    "    def __str__(self):\n",
    "        print(\"in __str__\")        \n",
    "        return f\"({self.x} î + {self.y} ĵ)\"\n",
    "    \n",
    "    def __repr__(self):\n",
    "        print(\"in __repr__\")        \n",
    "        return f\"Vector({self.x}, {self.y})\"\n",
    "\n",
    "    def __add__(self, other):\n",
    "        print(\"in __add__\")        \n",
    "        if isinstance(other, Vector):\n",
    "            return Vector(self.x + other.x, self.y + other.y)\n",
    "        else:\n",
    "            # it doesn't make sense to add anything but two vectors\n",
    "            print(f\"we don't know how to add a {type(other)} to a Vector\")\n",
    "            raise NotImplementedError\n",
    "\n",
    "    def __sub__(self, other):\n",
    "        print(\"in __sub__\")        \n",
    "        if isinstance(other, Vector):\n",
    "            return Vector(self.x - other.x, self.y - other.y)\n",
    "        else:\n",
    "            # it doesn't make sense to add anything but two vectors\n",
    "            print(f\"we don't know how to add a {type(other)} to a Vector\")\n",
    "            raise NotImplementedError\n",
    "\n",
    "    def __mul__(self, other):\n",
    "        print(\"in __mul__\")        \n",
    "        if isinstance(other, int) or isinstance(other, float):\n",
    "            # scalar multiplication changes the magnitude\n",
    "            return Vector(other*self.x, other*self.y)\n",
    "        else:\n",
    "            print(\"we don't know how to multiply two Vectors\")\n",
    "            raise NotImplementedError\n",
    "\n",
    "    def __matmul__(self, other):\n",
    "        print(\"in __matmul__\")\n",
    "        # a dot product\n",
    "        if isinstance(other, Vector):\n",
    "            return self.x*other.x + self.y*other.y\n",
    "        else:\n",
    "            print(\"matrix multiplication not defined\")\n",
    "            raise NotImplementedError\n",
    "\n",
    "    def __rmul__(self, other):\n",
    "        print(\"in __rmul__\")        \n",
    "        return self.__mul__(other)\n",
    "\n",
    "    def __truediv__(self, other):\n",
    "        print(\"in __truediv__\")        \n",
    "        # we only know how to multiply by a scalar\n",
    "        if isinstance(other, int) or isinstance(other, float):\n",
    "            return Vector(self.x/other, self.y/other)\n",
    "\n",
    "    def __abs__(self):\n",
    "        print(\"in __abs__\")        \n",
    "        return math.sqrt(self.x**2 + self.y**2)\n",
    "\n",
    "    def __neg__(self):\n",
    "        print(\"in __neg__\")        \n",
    "        return Vector(-self.x, -self.y)\n",
    "\n",
    "    def cross(self, other):\n",
    "        # a vector cross product -- we return the magnitude, since it will\n",
    "        # be in the z-direction, but we are only 2-d \n",
    "        return abs(self.x*other.y - self.y*other.x)"
   ]
  },
  {
   "cell_type": "markdown",
   "id": "9347f501",
   "metadata": {},
   "source": [
    "This is a basic class that provides two methods `__str__` and `__repr__` to show a representation of it.  These two functions provide a readable version of our object.\n",
    "\n",
    "The convention is that `__str__` is human readable while `__repr__` should be a form that can be used to recreate the object (e.g., via `eval()`).  See:\n",
    "\n",
    "http://stackoverflow.com/questions/1436703/difference-between-str-and-repr-in-python"
   ]
  },
  {
   "cell_type": "code",
   "execution_count": 141,
   "id": "10bda0f6",
   "metadata": {
    "scrolled": true
   },
   "outputs": [
    {
     "name": "stdout",
     "output_type": "stream",
     "text": [
      "in __init__\n"
     ]
    }
   ],
   "source": [
    "# Call the Vector class\n",
    "v = Vector(1,2)"
   ]
  },
  {
   "cell_type": "code",
   "execution_count": 142,
   "id": "d685e8d1",
   "metadata": {},
   "outputs": [
    {
     "name": "stdout",
     "output_type": "stream",
     "text": [
      "in __repr__\n"
     ]
    },
    {
     "data": {
      "text/plain": [
       "Vector(1, 2)"
      ]
     },
     "execution_count": 142,
     "metadata": {},
     "output_type": "execute_result"
    }
   ],
   "source": [
    "v"
   ]
  },
  {
   "cell_type": "code",
   "execution_count": 143,
   "id": "dbf97acb",
   "metadata": {},
   "outputs": [
    {
     "name": "stdout",
     "output_type": "stream",
     "text": [
      "in __str__\n",
      "(1 î + 2 ĵ)\n"
     ]
    }
   ],
   "source": [
    "print(v)"
   ]
  },
  {
   "cell_type": "markdown",
   "id": "c486e5ef",
   "metadata": {},
   "source": [
    "Vectors have a length, and we'll use the `abs()` builtin to provide the magnitude.  For a vector:\n",
    "\n",
    "$$\\vec{v} = \\alpha \\hat{i} + \\beta \\hat{j}$$\n",
    "\n",
    "we have\n",
    "\n",
    "$$|\\vec{v}| = \\sqrt{\\alpha^2 + \\beta^2}$$"
   ]
  },
  {
   "cell_type": "code",
   "execution_count": 144,
   "id": "20d18aae",
   "metadata": {},
   "outputs": [
    {
     "name": "stdout",
     "output_type": "stream",
     "text": [
      "in __abs__\n"
     ]
    },
    {
     "data": {
      "text/plain": [
       "2.23606797749979"
      ]
     },
     "execution_count": 144,
     "metadata": {},
     "output_type": "execute_result"
    }
   ],
   "source": [
    "abs(v)"
   ]
  },
  {
   "cell_type": "code",
   "execution_count": 145,
   "id": "dccd6e58",
   "metadata": {},
   "outputs": [
    {
     "name": "stdout",
     "output_type": "stream",
     "text": [
      "in __abs__\n",
      "2.23606797749979\n"
     ]
    }
   ],
   "source": [
    "print(abs(v))"
   ]
  },
  {
   "cell_type": "markdown",
   "id": "47a2c963",
   "metadata": {},
   "source": [
    "Let's look at mathematical operations on vectors now.  We want to be able to add and subtract two vectors as well as multiply and divide by a scalar."
   ]
  },
  {
   "cell_type": "code",
   "execution_count": 146,
   "id": "b5d4ab98",
   "metadata": {},
   "outputs": [
    {
     "name": "stdout",
     "output_type": "stream",
     "text": [
      "in __init__\n"
     ]
    }
   ],
   "source": [
    "u = Vector(3,-5)"
   ]
  },
  {
   "cell_type": "code",
   "execution_count": 147,
   "id": "9a3e3ef1",
   "metadata": {},
   "outputs": [
    {
     "name": "stdout",
     "output_type": "stream",
     "text": [
      "in __add__\n",
      "in __init__\n",
      "in __str__\n",
      "(4 î + -3 ĵ)\n"
     ]
    }
   ],
   "source": [
    "w = u + v\n",
    "print(w)"
   ]
  },
  {
   "cell_type": "code",
   "execution_count": 148,
   "id": "67f2d582",
   "metadata": {},
   "outputs": [
    {
     "name": "stdout",
     "output_type": "stream",
     "text": [
      "in __sub__\n",
      "in __init__\n",
      "in __str__\n",
      "(2 î + -7 ĵ)\n"
     ]
    }
   ],
   "source": [
    "print(u - v)"
   ]
  },
  {
   "cell_type": "markdown",
   "id": "321a5b94",
   "metadata": {},
   "source": [
    "It doesn't make sense to add a scalar to a vector, so we didn't implement this -- what happens?"
   ]
  },
  {
   "cell_type": "code",
   "execution_count": 149,
   "id": "367d84bb",
   "metadata": {},
   "outputs": [
    {
     "name": "stdout",
     "output_type": "stream",
     "text": [
      "in __add__\n",
      "we don't know how to add a <class 'float'> to a Vector\n"
     ]
    },
    {
     "ename": "NotImplementedError",
     "evalue": "",
     "output_type": "error",
     "traceback": [
      "\u001b[0;31m---------------------------------------------------------------------------\u001b[0m",
      "\u001b[0;31mNotImplementedError\u001b[0m                       Traceback (most recent call last)",
      "\u001b[0;32m/var/folders/sw/g1jmwgb9161cw02pzv6xtvjw0000gn/T/ipykernel_779/1948923743.py\u001b[0m in \u001b[0;36m<module>\u001b[0;34m\u001b[0m\n\u001b[0;32m----> 1\u001b[0;31m \u001b[0mu\u001b[0m \u001b[0;34m+\u001b[0m \u001b[0;36m2.0\u001b[0m\u001b[0;34m\u001b[0m\u001b[0;34m\u001b[0m\u001b[0m\n\u001b[0m",
      "\u001b[0;32m/var/folders/sw/g1jmwgb9161cw02pzv6xtvjw0000gn/T/ipykernel_779/652738689.py\u001b[0m in \u001b[0;36m__add__\u001b[0;34m(self, other)\u001b[0m\n\u001b[1;32m     22\u001b[0m             \u001b[0;31m# it doesn't make sense to add anything but two vectors\u001b[0m\u001b[0;34m\u001b[0m\u001b[0;34m\u001b[0m\u001b[0;34m\u001b[0m\u001b[0m\n\u001b[1;32m     23\u001b[0m             \u001b[0mprint\u001b[0m\u001b[0;34m(\u001b[0m\u001b[0;34mf\"we don't know how to add a {type(other)} to a Vector\"\u001b[0m\u001b[0;34m)\u001b[0m\u001b[0;34m\u001b[0m\u001b[0;34m\u001b[0m\u001b[0m\n\u001b[0;32m---> 24\u001b[0;31m             \u001b[0;32mraise\u001b[0m \u001b[0mNotImplementedError\u001b[0m\u001b[0;34m\u001b[0m\u001b[0;34m\u001b[0m\u001b[0m\n\u001b[0m\u001b[1;32m     25\u001b[0m \u001b[0;34m\u001b[0m\u001b[0m\n\u001b[1;32m     26\u001b[0m     \u001b[0;32mdef\u001b[0m \u001b[0m__sub__\u001b[0m\u001b[0;34m(\u001b[0m\u001b[0mself\u001b[0m\u001b[0;34m,\u001b[0m \u001b[0mother\u001b[0m\u001b[0;34m)\u001b[0m\u001b[0;34m:\u001b[0m\u001b[0;34m\u001b[0m\u001b[0;34m\u001b[0m\u001b[0m\n",
      "\u001b[0;31mNotImplementedError\u001b[0m: "
     ]
    }
   ],
   "source": [
    "u + 2.0"
   ]
  },
  {
   "cell_type": "markdown",
   "id": "259b4e52",
   "metadata": {},
   "source": [
    "Now multiplication.  It makes sense to multiply by a scalar, but there are multiple ways to define multiplication of two vectors.  \n",
    "\n",
    "Note that python provides both a `__mul__` and a `__rmul__` function to define what happens when we multiply a vector by a quantity and what happens when we multiply something else by a vector."
   ]
  },
  {
   "cell_type": "code",
   "execution_count": 150,
   "id": "08b47c72",
   "metadata": {},
   "outputs": [
    {
     "name": "stdout",
     "output_type": "stream",
     "text": [
      "in __mul__\n",
      "in __init__\n",
      "in __repr__\n"
     ]
    },
    {
     "data": {
      "text/plain": [
       "Vector(6.0, -10.0)"
      ]
     },
     "execution_count": 150,
     "metadata": {},
     "output_type": "execute_result"
    }
   ],
   "source": [
    "u*2.0"
   ]
  },
  {
   "cell_type": "code",
   "execution_count": 151,
   "id": "4a5dd994",
   "metadata": {},
   "outputs": [
    {
     "name": "stdout",
     "output_type": "stream",
     "text": [
      "in __rmul__\n",
      "in __mul__\n",
      "in __init__\n",
      "in __repr__\n"
     ]
    },
    {
     "data": {
      "text/plain": [
       "Vector(6.0, -10.0)"
      ]
     },
     "execution_count": 151,
     "metadata": {},
     "output_type": "execute_result"
    }
   ],
   "source": [
    "2.0*u"
   ]
  },
  {
   "cell_type": "markdown",
   "id": "ffba416e",
   "metadata": {},
   "source": [
    "and division: `__truediv__` is the python 3 way of division `/`, while `__floordiv__` is the old python 2 way, also enabled via `//`.\n",
    "\n",
    "Dividing a scalar by a vector doesn't make sense:"
   ]
  },
  {
   "cell_type": "code",
   "execution_count": 152,
   "id": "7fce9efd",
   "metadata": {},
   "outputs": [
    {
     "name": "stdout",
     "output_type": "stream",
     "text": [
      "in __truediv__\n",
      "in __init__\n",
      "in __repr__\n"
     ]
    },
    {
     "data": {
      "text/plain": [
       "Vector(0.6, -1.0)"
      ]
     },
     "execution_count": 152,
     "metadata": {},
     "output_type": "execute_result"
    }
   ],
   "source": [
    "u/5.0"
   ]
  },
  {
   "cell_type": "code",
   "execution_count": 153,
   "id": "2ed7c0ed",
   "metadata": {},
   "outputs": [
    {
     "ename": "TypeError",
     "evalue": "unsupported operand type(s) for /: 'float' and 'Vector'",
     "output_type": "error",
     "traceback": [
      "\u001b[0;31m---------------------------------------------------------------------------\u001b[0m",
      "\u001b[0;31mTypeError\u001b[0m                                 Traceback (most recent call last)",
      "\u001b[0;32m/var/folders/sw/g1jmwgb9161cw02pzv6xtvjw0000gn/T/ipykernel_779/2816074354.py\u001b[0m in \u001b[0;36m<module>\u001b[0;34m\u001b[0m\n\u001b[0;32m----> 1\u001b[0;31m \u001b[0;36m5.0\u001b[0m\u001b[0;34m/\u001b[0m\u001b[0mu\u001b[0m\u001b[0;34m\u001b[0m\u001b[0;34m\u001b[0m\u001b[0m\n\u001b[0m",
      "\u001b[0;31mTypeError\u001b[0m: unsupported operand type(s) for /: 'float' and 'Vector'"
     ]
    }
   ],
   "source": [
    "5.0/u"
   ]
  },
  {
   "cell_type": "markdown",
   "id": "53d6f893",
   "metadata": {},
   "source": [
    "The matrix multiplication operator, `@`, can be used to implement a dot product between two vectors:"
   ]
  },
  {
   "cell_type": "code",
   "execution_count": 154,
   "id": "6cef6b7b",
   "metadata": {},
   "outputs": [
    {
     "name": "stdout",
     "output_type": "stream",
     "text": [
      "in __matmul__\n"
     ]
    },
    {
     "data": {
      "text/plain": [
       "-7"
      ]
     },
     "execution_count": 154,
     "metadata": {},
     "output_type": "execute_result"
    }
   ],
   "source": [
    "u @ v"
   ]
  },
  {
   "cell_type": "markdown",
   "id": "892c017a",
   "metadata": {},
   "source": [
    "For a cross product, we don't have an obvious operator, so we'll use a function. \n",
    "\n",
    "For 2D vectors, this will result in a scalar:"
   ]
  },
  {
   "cell_type": "code",
   "execution_count": 155,
   "id": "22758659",
   "metadata": {},
   "outputs": [
    {
     "data": {
      "text/plain": [
       "11"
      ]
     },
     "execution_count": 155,
     "metadata": {},
     "output_type": "execute_result"
    }
   ],
   "source": [
    "u.cross(v)"
   ]
  },
  {
   "cell_type": "markdown",
   "id": "2fa420c9",
   "metadata": {},
   "source": [
    "Finally, negation is a separate operation:"
   ]
  },
  {
   "cell_type": "code",
   "execution_count": 157,
   "id": "65050dea",
   "metadata": {},
   "outputs": [
    {
     "name": "stdout",
     "output_type": "stream",
     "text": [
      "in __neg__\n",
      "in __init__\n",
      "in __str__\n",
      "(-3 î + 5 ĵ)\n"
     ]
    }
   ],
   "source": [
    "print(-u)"
   ]
  },
  {
   "cell_type": "code",
   "execution_count": null,
   "id": "4ced00ca",
   "metadata": {},
   "outputs": [],
   "source": []
  }
 ],
 "metadata": {
  "kernelspec": {
   "display_name": "Python 3 (ipykernel)",
   "language": "python",
   "name": "python3"
  },
  "language_info": {
   "codemirror_mode": {
    "name": "ipython",
    "version": 3
   },
   "file_extension": ".py",
   "mimetype": "text/x-python",
   "name": "python",
   "nbconvert_exporter": "python",
   "pygments_lexer": "ipython3",
   "version": "3.7.16"
  }
 },
 "nbformat": 4,
 "nbformat_minor": 5
}

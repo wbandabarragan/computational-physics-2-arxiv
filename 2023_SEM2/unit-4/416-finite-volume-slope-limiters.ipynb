{
 "cells": [
  {
   "cell_type": "markdown",
   "id": "e5b26571",
   "metadata": {},
   "source": [
    "# Slope Limiters\n",
    "\n",
    "## Top-hat function advection"
   ]
  },
  {
   "cell_type": "code",
   "execution_count": 1,
   "id": "1ff841b5",
   "metadata": {},
   "outputs": [],
   "source": [
    "import matplotlib.pyplot as plt\n",
    "import numpy as np"
   ]
  },
  {
   "cell_type": "markdown",
   "id": "0c819bee",
   "metadata": {},
   "source": [
    "### 1. Define our domain (spatial discretisation):"
   ]
  },
  {
   "cell_type": "code",
   "execution_count": 2,
   "id": "404b9692",
   "metadata": {},
   "outputs": [
    {
     "name": "stdout",
     "output_type": "stream",
     "text": [
      "[-0.00585938 -0.00195312  0.00195312  0.00585938  0.00976562  0.01367188\n",
      "  0.01757812  0.02148438  0.02539062  0.02929688  0.03320312  0.03710938\n",
      "  0.04101562  0.04492188  0.04882812  0.05273438  0.05664062  0.06054688\n",
      "  0.06445312  0.06835938  0.07226562  0.07617188  0.08007812  0.08398438\n",
      "  0.08789062  0.09179688  0.09570312  0.09960938  0.10351562  0.10742188\n",
      "  0.11132812  0.11523438  0.11914062  0.12304688  0.12695312  0.13085938\n",
      "  0.13476562  0.13867188  0.14257812  0.14648438  0.15039062  0.15429688\n",
      "  0.15820312  0.16210938  0.16601562  0.16992188  0.17382812  0.17773438\n",
      "  0.18164062  0.18554688  0.18945312  0.19335938  0.19726562  0.20117188\n",
      "  0.20507812  0.20898438  0.21289062  0.21679688  0.22070312  0.22460938\n",
      "  0.22851562  0.23242188  0.23632812  0.24023438  0.24414062  0.24804688\n",
      "  0.25195312  0.25585938  0.25976562  0.26367188  0.26757812  0.27148438\n",
      "  0.27539062  0.27929688  0.28320312  0.28710938  0.29101562  0.29492188\n",
      "  0.29882812  0.30273438  0.30664062  0.31054688  0.31445312  0.31835938\n",
      "  0.32226562  0.32617188  0.33007812  0.33398438  0.33789062  0.34179688\n",
      "  0.34570312  0.34960938  0.35351562  0.35742188  0.36132812  0.36523438\n",
      "  0.36914062  0.37304688  0.37695312  0.38085938  0.38476562  0.38867188\n",
      "  0.39257812  0.39648438  0.40039062  0.40429688  0.40820312  0.41210938\n",
      "  0.41601562  0.41992188  0.42382812  0.42773438  0.43164062  0.43554688\n",
      "  0.43945312  0.44335938  0.44726562  0.45117188  0.45507812  0.45898438\n",
      "  0.46289062  0.46679688  0.47070312  0.47460938  0.47851562  0.48242188\n",
      "  0.48632812  0.49023438  0.49414062  0.49804688  0.50195312  0.50585938\n",
      "  0.50976562  0.51367188  0.51757812  0.52148438  0.52539062  0.52929688\n",
      "  0.53320312  0.53710938  0.54101562  0.54492188  0.54882812  0.55273438\n",
      "  0.55664062  0.56054688  0.56445312  0.56835938  0.57226562  0.57617188\n",
      "  0.58007812  0.58398438  0.58789062  0.59179688  0.59570312  0.59960938\n",
      "  0.60351562  0.60742188  0.61132812  0.61523438  0.61914062  0.62304688\n",
      "  0.62695312  0.63085938  0.63476562  0.63867188  0.64257812  0.64648438\n",
      "  0.65039062  0.65429688  0.65820312  0.66210938  0.66601562  0.66992188\n",
      "  0.67382812  0.67773438  0.68164062  0.68554688  0.68945312  0.69335938\n",
      "  0.69726562  0.70117188  0.70507812  0.70898438  0.71289062  0.71679688\n",
      "  0.72070312  0.72460938  0.72851562  0.73242188  0.73632812  0.74023438\n",
      "  0.74414062  0.74804688  0.75195312  0.75585938  0.75976562  0.76367188\n",
      "  0.76757812  0.77148438  0.77539062  0.77929688  0.78320312  0.78710938\n",
      "  0.79101562  0.79492188  0.79882812  0.80273438  0.80664062  0.81054688\n",
      "  0.81445312  0.81835938  0.82226562  0.82617188  0.83007812  0.83398438\n",
      "  0.83789062  0.84179688  0.84570312  0.84960938  0.85351562  0.85742188\n",
      "  0.86132812  0.86523438  0.86914062  0.87304688  0.87695312  0.88085938\n",
      "  0.88476562  0.88867188  0.89257812  0.89648438  0.90039062  0.90429688\n",
      "  0.90820312  0.91210938  0.91601562  0.91992188  0.92382812  0.92773438\n",
      "  0.93164062  0.93554688  0.93945312  0.94335938  0.94726562  0.95117188\n",
      "  0.95507812  0.95898438  0.96289062  0.96679688  0.97070312  0.97460938\n",
      "  0.97851562  0.98242188  0.98632812  0.99023438  0.99414062  0.99804688\n",
      "  1.00195312  1.00585938]\n"
     ]
    }
   ],
   "source": [
    "# limits:\n",
    "xmin = 0.\n",
    "xmax = 1.\n",
    "\n",
    "# Number of cells\n",
    "nx = 256\n",
    "\n",
    "# Number of ghost cells on each side\n",
    "ng = 2\n",
    "\n",
    "# Lowest and highest indices\n",
    "ilo = ng\n",
    "ihi = ng + nx - 1\n",
    "\n",
    "# Step size\n",
    "dx = (xmax - xmin)/(nx)\n",
    "\n",
    "# X axis vector -> we need the cell centres:\n",
    "x = xmin + (np.arange(nx + 2*ng) - ng + 0.5)*dx\n",
    "\n",
    "print(x)\n"
   ]
  },
  {
   "cell_type": "markdown",
   "id": "6022c5b7",
   "metadata": {},
   "source": [
    "### 2. Create vector to store solution array:\n",
    "\n",
    "#### Include initial conditions: top-hat function in the middle"
   ]
  },
  {
   "cell_type": "code",
   "execution_count": 3,
   "id": "8b36b33c",
   "metadata": {},
   "outputs": [],
   "source": [
    "# Empty vector for the solution in double precision:\n",
    "a = np.zeros((nx + 2*ng), dtype = np.float64)\n",
    "\n",
    "# Add initial conditions;\n",
    "a[:] = 0.\n",
    "a[np.logical_and(x >= 1./3., x <= 2./3.)] = 1.\n",
    "\n",
    "# Arrays to store different solutions\n",
    "a1 = a.copy()\n",
    "a2 = a.copy()\n",
    "a3 = a.copy()\n",
    "a4 = a.copy()\n",
    "\n",
    "# Make a copy of the initial condition:\n",
    "a0 = a.copy()"
   ]
  },
  {
   "cell_type": "code",
   "execution_count": 4,
   "id": "8965b7d8",
   "metadata": {},
   "outputs": [
    {
     "data": {
      "image/png": "[encoded data removed]",
      "text/plain": [
       "<Figure size 500x400 with 1 Axes>"
      ]
     },
     "metadata": {},
     "output_type": "display_data"
    }
   ],
   "source": [
    "# Plotting the initial condition\n",
    "\n",
    "plt.figure(figsize=(5,4))\n",
    "plt.plot(x, a1, label = r\"$t=0$\")\n",
    "plt.legend()\n",
    "plt.show()"
   ]
  },
  {
   "cell_type": "markdown",
   "id": "d8a18a2c",
   "metadata": {},
   "source": [
    "### 3. Time discretisation:"
   ]
  },
  {
   "cell_type": "code",
   "execution_count": 5,
   "id": "ec02d560",
   "metadata": {},
   "outputs": [],
   "source": [
    "# Define perturbation velocity\n",
    "u = 1.\n",
    "\n",
    "# Define Courant number\n",
    "cfl = 0.8\n",
    "\n",
    "# Define number of periods\n",
    "num_periods = 5.\n",
    "\n",
    "# Calculate period \n",
    "period = (xmax - xmin)/u\n",
    "\n",
    "# Maximmum simulation time\n",
    "tmax = num_periods*period"
   ]
  },
  {
   "cell_type": "markdown",
   "id": "8e535de1",
   "metadata": {},
   "source": [
    "### IMPORTANT: Slope limiter MINMOD"
   ]
  },
  {
   "cell_type": "code",
   "execution_count": 6,
   "id": "7ea4e7ef",
   "metadata": {},
   "outputs": [],
   "source": [
    "# Functions for FLux limiters\n",
    "\n",
    "# MinMod Function\n",
    "\n",
    "def minmod(a, b):\n",
    "    \n",
    "    if abs(a) <= abs(b) and a*b > 0.0:\n",
    "        return a\n",
    "    \n",
    "    if abs(b) <= abs(a) and a*b > 0.0:\n",
    "        return b\n",
    "    \n",
    "    else:\n",
    "        return 0.0"
   ]
  },
  {
   "cell_type": "markdown",
   "id": "b0e7db48",
   "metadata": {},
   "source": [
    "### 4. Evolution Loop\n",
    "\n"
   ]
  },
  {
   "cell_type": "code",
   "execution_count": 8,
   "id": "aa51e947",
   "metadata": {},
   "outputs": [],
   "source": [
    "# Functions that will be called by the while statement\n",
    "\n",
    "def fill_bcs(a):\n",
    "    # Fill up the boundary conditions BCs\n",
    "    for n in range(ng):\n",
    "        # The left BC is\n",
    "        a[ilo - 1 - n] = a[ihi - n]\n",
    "        # The right BC is\n",
    "        a[ihi + 1 + n] = a[ilo + n]\n",
    "    return a\n",
    "\n",
    "def states(a, dx, dt, method):\n",
    "    \n",
    "    # Empty vector for the slope\n",
    "    slope = np.zeros((nx + 2*ng), dtype = np.float64)\n",
    "    \n",
    "    # This could be into a function\n",
    "    \n",
    "    if method == \"godunov\":\n",
    "        # 1st approach: Godunov approach\n",
    "        slope[:] = 0. \n",
    "    elif method == \"unlimited\":\n",
    "        # 2nd approach: Centred difference method\n",
    "        for i in range(ilo - 1, ihi + 2):\n",
    "            slope[i] = 0.5*(a[i + 1] - a[i-1])/dx\n",
    "    elif method == \"minmod\":  \n",
    "        # 3rd approach: minmod limiter\n",
    "        for i in range(ilo - 1, ihi + 2):\n",
    "            slope[i] = minmod((a[i] - a[i-1])/dx, (a[i+1] - a[i])/dx) \n",
    "    elif method == \"mc\":\n",
    "        # 4th approach: MC limiter\n",
    "        for i in range(ilo - 1, ihi + 2):\n",
    "            slope[i] = minmod(minmod(2*(a[i] - a[i-1])/dx, 2*(a[i+1]\\\n",
    "                       - a[i])/dx), 0.5*(a[i+1] - a[i-1])/dx) \n",
    "    \n",
    "    # Empty vector dor the L and R states\n",
    "    al = np.zeros((nx + 2*ng), dtype = np.float64)\n",
    "    ar = np.zeros((nx + 2*ng), dtype = np.float64)\n",
    "    \n",
    "    # Add derivative calculation\n",
    "    for i in range(ilo, ihi + 2):\n",
    "        \n",
    "        # Compute L state\n",
    "        al[i] = a[i - 1] + 0.5*dx*(1. - u*dt/dx)*slope[i-1]\n",
    "        \n",
    "        # Compute R state\n",
    "        ar[i] = a[i] - 0.5*dx*(1. + u*dt/dx)*slope[i]\n",
    "        \n",
    "    return al, ar\n",
    "  \n",
    "def riemann(al, ar):\n",
    "    # Computing the flux\n",
    "    if u > 0.:\n",
    "        return u*al\n",
    "    else: \n",
    "        return u*ar\n",
    "    \n",
    "def conservative_update(a, dt, flux):\n",
    "    \n",
    "    # Empty vector for updated solution\n",
    "    anew = np.zeros((nx + 2*ng), dtype = np.float64)\n",
    "    \n",
    "    # Update\n",
    "    anew[ilo:ihi+1] = a[ilo:ihi+1] -\\\n",
    "    dt/dx*(flux[ilo+1:ihi+2] - flux[ilo:ihi+1])\n",
    "    \n",
    "    # Return\n",
    "    return anew"
   ]
  },
  {
   "cell_type": "code",
   "execution_count": 9,
   "id": "fa6315d9",
   "metadata": {},
   "outputs": [],
   "source": [
    "# While statement\n",
    "# Initialise\n",
    "t = 0.\n",
    "\n",
    "# We start while:\n",
    "while t < tmax:\n",
    "    \n",
    "    a1 = fill_bcs(a1)\n",
    "    a2 = fill_bcs(a2)\n",
    "    a3 = fill_bcs(a3)\n",
    "    a4 = fill_bcs(a4)\n",
    "    \n",
    "    # Get time step\n",
    "    dt = cfl*dx/u\n",
    "    \n",
    "    if t + dt > tmax:\n",
    "        dt = tmax - t\n",
    "    \n",
    "    # Get interface states\n",
    "    al1, ar1 = states(a1, dx, dt, \"godunov\")\n",
    "    al2, ar2 = states(a2, dx, dt, \"unlimited\")\n",
    "    al3, ar3 = states(a3, dx, dt, \"minmod\")\n",
    "    al4, ar4 = states(a4, dx, dt, \"mc\")\n",
    "    \n",
    "    # Solve Riemann problem\n",
    "    flux1 = riemann(al1, ar1)\n",
    "    flux2 = riemann(al2, ar2)\n",
    "    flux3 = riemann(al3, ar3)\n",
    "    flux4 = riemann(al4, ar4)\n",
    "    \n",
    "    # Do the conservative update\n",
    "    anew1 = conservative_update(a1, dt, flux1)\n",
    "    anew2 = conservative_update(a2, dt, flux2)\n",
    "    anew3 = conservative_update(a3, dt, flux3)\n",
    "    anew4 = conservative_update(a4, dt, flux4)\n",
    "    \n",
    "    # Retrieve solution\n",
    "    a1[:] = anew1[:]\n",
    "    a2[:] = anew2[:]\n",
    "    a3[:] = anew3[:]\n",
    "    a4[:] = anew4[:]\n",
    "    \n",
    "    # Advance in time\n",
    "    t += dt"
   ]
  },
  {
   "cell_type": "markdown",
   "id": "b2cf9231",
   "metadata": {},
   "source": [
    "### 5. Inspect solution:"
   ]
  },
  {
   "cell_type": "code",
   "execution_count": 13,
   "id": "4881e1c6",
   "metadata": {},
   "outputs": [
    {
     "data": {
      "image/png": "[encoded data removed]",
      "text/plain": [
       "<Figure size 700x600 with 1 Axes>"
      ]
     },
     "metadata": {},
     "output_type": "display_data"
    }
   ],
   "source": [
    "# Plotting the initial condition\n",
    "\n",
    "plt.figure(figsize=(7,6))\n",
    "\n",
    "plt.plot(x[ilo:ihi+1], a0[ilo:ihi+1], color = \"magenta\", linestyle = (0, (3, 1, 1, 1)), label = r\"${\\rm exact}: t=0$\")\n",
    "#plt.plot(x[ilo:ihi+1], a1[ilo:ihi+1], color = \"black\", linestyle = \":\", label = r\"${\\rm godunov}: t=5 T$\")\n",
    "#plt.plot(x[ilo:ihi+1], a2[ilo:ihi+1], color = \"green\", linestyle = \"--\", label = r\"${\\rm unlimited}: t=5 T$\")\n",
    "plt.plot(x[ilo:ihi+1], a3[ilo:ihi+1], color = \"red\", linestyle = \"-.\", label = r\"${\\rm minmod}: t=5 T$\")\n",
    "plt.plot(x[ilo:ihi+1], a4[ilo:ihi+1], color = \"blue\", linestyle = \"-\", label = r\"${\\rm mc}: t=5 T$\")\n",
    "\n",
    "plt.legend()\n",
    "plt.show()"
   ]
  },
  {
   "cell_type": "markdown",
   "id": "0ffd9fa5",
   "metadata": {},
   "source": [
    "### Other flux limiters:\n",
    "\n",
    "https://en.wikipedia.org/wiki/Flux_limiter"
   ]
  }
 ],
 "metadata": {
  "kernelspec": {
   "display_name": "Python 3 (ipykernel)",
   "language": "python",
   "name": "python3"
  },
  "language_info": {
   "codemirror_mode": {
    "name": "ipython",
    "version": 3
   },
   "file_extension": ".py",
   "mimetype": "text/x-python",
   "name": "python",
   "nbconvert_exporter": "python",
   "pygments_lexer": "ipython3",
   "version": "3.7.16"
  }
 },
 "nbformat": 4,
 "nbformat_minor": 5
}

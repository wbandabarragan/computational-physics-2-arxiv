{
 "cells": [
  {
   "cell_type": "markdown",
   "id": "c8436599",
   "metadata": {},
   "source": [
    "# Sources of Error\n"
   ]
  },
  {
   "cell_type": "markdown",
   "id": "4bcaff41",
   "metadata": {},
   "source": [
    "## Truncation and round-off errors\n",
    "\n",
    "When we are doing numerical analysis, there are usually two sources of error:\n",
    "\n",
    "\n",
    "- The **truncation errors** are due to the approximate nature of the method used. They are usually from using an approximation in place of an exact mathematical procedure, such as that we use the Taylor series to approximate a function.\n",
    "\n",
    "\n",
    "- The **round-off errors** are due to the inexactness in the representation of real numbers on a computer and the arithmetic operations done with them."
   ]
  },
  {
   "cell_type": "markdown",
   "id": "387e563a",
   "metadata": {},
   "source": [
    "### Truncation errors in Taylor series:\n",
    "\n",
    "We can use Taylor series to approximate the function $e^x$:\n",
    "\n",
    "$$e^x = \\sum_{n=0}^{\\infty}\\frac{x^n}{n!}$$\n",
    "\n",
    "$$e^x = 1+x+\\frac{x^2}{2!} + \\frac{x^3}{3!} + \\frac{x^4}{4!} + \\dots$$\n",
    "\n",
    "Since it takes the infinite sequence to approximate the function, if we only take a few items, we will have a truncation error. For example, if we only use the first 4 items to approximate $e^2$, which will be:\n",
    "\n",
    "$$e^2 \\approx 1+2+\\frac{2^2}{2!} + \\frac{2^3}{3!} = 6.3333$$\n",
    "\n",
    "We see there is an error associated with it, since we truncate the rest of the terms in the Taylor series. Therefore the function $f(x)$ can be written as the Taylor series approximation plus a truncation error term:\n",
    "\n",
    "$$f(x) = f_n(x) + E(n)$$\n",
    "\n",
    "with more terms we use, the approximation will be more close to the exact value. Let's use Python to see the above example. "
   ]
  },
  {
   "cell_type": "markdown",
   "id": "0831a6dc",
   "metadata": {},
   "source": [
    "### Example:\n",
    "\n",
    "Approximate $e^2$ using different order Taylor series. \n",
    "\n",
    "Print out the results and the errors.\n",
    "\n",
    "Make a plot of the errors versus order of the Taylor series."
   ]
  },
  {
   "cell_type": "code",
   "execution_count": 1,
   "id": "7db68e74",
   "metadata": {},
   "outputs": [],
   "source": [
    "# Import libraries\n",
    "import numpy as np\n",
    "import matplotlib.pyplot as plt"
   ]
  },
  {
   "cell_type": "code",
   "execution_count": 2,
   "id": "c1357e09",
   "metadata": {},
   "outputs": [
    {
     "name": "stdout",
     "output_type": "stream",
     "text": [
      "The actual of e^2 is: 7.38905609893065\n"
     ]
    }
   ],
   "source": [
    "# Actual value:\n",
    "\n",
    "actual_exp = np.exp(2)\n",
    "\n",
    "print(\"The actual of e^2 is:\", actual_exp)"
   ]
  },
  {
   "cell_type": "markdown",
   "id": "13972352",
   "metadata": {},
   "source": [
    "$$e^x = \\sum_{n=0}^{\\infty}\\frac{x^n}{n!}$$"
   ]
  },
  {
   "cell_type": "code",
   "execution_count": 3,
   "id": "7543c1ec",
   "metadata": {},
   "outputs": [],
   "source": [
    "# Taylor series approximation:\n",
    "\n",
    "# Initiate the series\n",
    "start_value = 0\n",
    "\n",
    "# Empty lists\n",
    "orde = [] # this is a list that will store the order of the T.S.\n",
    "texp = [] # This is the approximate value for a specific order\n",
    "errt = [] # This is the error array\n",
    "\n",
    "# Define order\n",
    "n = 50\n",
    "\n",
    "# Define x\n",
    "x = 2\n",
    "\n",
    "# Loop to calculate the Taylor series:\n",
    "\n",
    "for i in range(n):\n",
    "    #print(i)\n",
    "    \n",
    "    # Append solution to list\n",
    "    texp.append(start_value + x**i/np.math.factorial(i))\n",
    "    \n",
    "    # Change starting point\n",
    "    start_value = texp[i]\n",
    "    \n",
    "    # Append errors to list\n",
    "    errt.append(np.abs(texp[i] - actual_exp))\n",
    "    \n",
    "    # Append order of T.S.\n",
    "    orde.append(i)\n"
   ]
  },
  {
   "cell_type": "code",
   "execution_count": 4,
   "id": "f192448c",
   "metadata": {},
   "outputs": [
    {
     "name": "stdout",
     "output_type": "stream",
     "text": [
      "Numerical solutions for e^2 using a T.S.\n",
      " [1.0, 3.0, 5.0, 6.333333333333333, 7.0, 7.266666666666667, 7.355555555555555, 7.3809523809523805, 7.387301587301587, 7.3887125220458545, 7.388994708994708, 7.389046015712681, 7.3890545668323435, 7.389055882389215, 7.3890560703259105, 7.389056095384136, 7.389056098516415, 7.389056098884918, 7.389056098925863, 7.3890560989301735, 7.389056098930604, 7.389056098930645, 7.389056098930649, 7.389056098930649, 7.389056098930649, 7.389056098930649, 7.389056098930649, 7.389056098930649, 7.389056098930649, 7.389056098930649, 7.389056098930649, 7.389056098930649, 7.389056098930649, 7.389056098930649, 7.389056098930649, 7.389056098930649, 7.389056098930649, 7.389056098930649, 7.389056098930649, 7.389056098930649, 7.389056098930649, 7.389056098930649, 7.389056098930649, 7.389056098930649, 7.389056098930649, 7.389056098930649, 7.389056098930649, 7.389056098930649, 7.389056098930649, 7.389056098930649]\n"
     ]
    }
   ],
   "source": [
    "print(\"Numerical solutions for e^2 using a T.S.\\n\", texp)"
   ]
  },
  {
   "cell_type": "code",
   "execution_count": 5,
   "id": "a99914df",
   "metadata": {},
   "outputs": [
    {
     "name": "stdout",
     "output_type": "stream",
     "text": [
      "The order of the T.S. is \n",
      " [0, 1, 2, 3, 4, 5, 6, 7, 8, 9, 10, 11, 12, 13, 14, 15, 16, 17, 18, 19, 20, 21, 22, 23, 24, 25, 26, 27, 28, 29, 30, 31, 32, 33, 34, 35, 36, 37, 38, 39, 40, 41, 42, 43, 44, 45, 46, 47, 48, 49]\n"
     ]
    }
   ],
   "source": [
    "print(\"The order of the T.S. is \\n\", orde)"
   ]
  },
  {
   "cell_type": "code",
   "execution_count": 6,
   "id": "002a950d",
   "metadata": {},
   "outputs": [
    {
     "name": "stdout",
     "output_type": "stream",
     "text": [
      "The errors are:\n",
      " [6.38905609893065, 4.38905609893065, 2.3890560989306504, 1.0557227655973174, 0.3890560989306504, 0.1223894322639838, 0.033500543375095226, 0.00810371797826992, 0.0017545116290635931, 0.0003435768847959153, 6.138993594273501e-05, 1.0083217969025782e-05, 1.5320983068889404e-06, 2.1654143544935778e-07, 2.860473991006529e-08, 3.546514193430994e-09, 4.14235756807102e-10, 4.573230683035945e-11, 4.787281682183675e-12, 4.769518113789672e-13, 4.618527782440651e-14, 5.329070518200751e-15, 1.7763568394002505e-15, 1.7763568394002505e-15, 1.7763568394002505e-15, 1.7763568394002505e-15, 1.7763568394002505e-15, 1.7763568394002505e-15, 1.7763568394002505e-15, 1.7763568394002505e-15, 1.7763568394002505e-15, 1.7763568394002505e-15, 1.7763568394002505e-15, 1.7763568394002505e-15, 1.7763568394002505e-15, 1.7763568394002505e-15, 1.7763568394002505e-15, 1.7763568394002505e-15, 1.7763568394002505e-15, 1.7763568394002505e-15, 1.7763568394002505e-15, 1.7763568394002505e-15, 1.7763568394002505e-15, 1.7763568394002505e-15, 1.7763568394002505e-15, 1.7763568394002505e-15, 1.7763568394002505e-15, 1.7763568394002505e-15, 1.7763568394002505e-15, 1.7763568394002505e-15]\n"
     ]
    }
   ],
   "source": [
    "print(\"The errors are:\\n\", errt)"
   ]
  },
  {
   "cell_type": "code",
   "execution_count": 7,
   "id": "184bb42f",
   "metadata": {},
   "outputs": [
    {
     "data": {
      "image/png": "[encoded data removed]",
      "text/plain": [
       "<Figure size 500x400 with 1 Axes>"
      ]
     },
     "metadata": {},
     "output_type": "display_data"
    }
   ],
   "source": [
    "# Plotting\n",
    "\n",
    "plt.figure(figsize=(5,4))\n",
    "\n",
    "plt.plot(0., actual_exp, marker = \"d\")\n",
    "\n",
    "plt.plot(orde, texp, label = \"approx. vs. order of T.S.\")\n",
    "\n",
    "plt.show()"
   ]
  },
  {
   "cell_type": "code",
   "execution_count": 8,
   "id": "fa186023",
   "metadata": {},
   "outputs": [
    {
     "data": {
      "image/png": "[encoded data removed]",
      "text/plain": [
       "<Figure size 400x300 with 1 Axes>"
      ]
     },
     "metadata": {},
     "output_type": "display_data"
    }
   ],
   "source": [
    "# Plotting\n",
    "\n",
    "plt.figure(figsize=(4,3))\n",
    "\n",
    "plt.plot(orde, np.log10(errt), label = \"errors vs. order of T.S.\")\n",
    "\n",
    "plt.show()"
   ]
  },
  {
   "cell_type": "markdown",
   "id": "d54c8d2b",
   "metadata": {},
   "source": [
    "### Estimate truncation errors\n",
    "\n",
    "We can see the higher order we use to approximate the function at the value, the closer we are to the true value. For each order we choose, there is an error associated with it, and the approximation is only useful if we have an idea of how accurate the approximation is. This is the motivation that we need to understand more about the errors. \n",
    "\n",
    "From the Taylor series, if we use only the first $n$ terms, we can see:\n",
    "\n",
    "$$ f(x) = f_n(x) + E_n(x) = \\sum_{k = 0}^{n} \\frac{f^{(k)}(a)(x-a)^k}{k!} + E_n(x)\n",
    "$$\n",
    "\n",
    "The $E_n(x)$ is the remainder of the Taylor series, or the truncation error that measures how far off the approximation $f_n(x)$ is from $f(x)$. We can estimate the error using the **Taylor Remainder Estimation Theorem**, which states:\n",
    "\n",
    "If the function $f(x)$ has $n+1$ derivatives for all $x$ in an interval $I$ containing $a$, then, for each x in $I$, there exists $z$ between $x$ and $a$ such that \n",
    "\n",
    "$$ E_n(x) = \\frac{f^{(n+1)}(z)(x-a)^{(n+1)}}{(n+1)!}\n",
    "$$\n",
    "\n",
    "In many times, if we know $M$ is the maximum value of $|f^{(n+1)}|$ in the interval, we will have:\n",
    "\n",
    "$$ |E_n(x)| \\le \\frac{M|x-a|^{(n+1)}}{(n+1)!}\n",
    "$$\n",
    "\n",
    "Therefore, we can get a bound for the truncation error using this theorem."
   ]
  },
  {
   "cell_type": "markdown",
   "id": "7690c23c",
   "metadata": {},
   "source": [
    "### Exercise:\n",
    "\n",
    "Estimate the remainder bound for the approximation using Taylor series for $e^2$ using $n = 9$. \n",
    "\n",
    "Let's  work on the error when we use $n = 9$. We know that $(e^x)' = e^x$, and, $a = 0$. Therefore, the error related to x = 2 is:\n",
    "\n",
    "$$ E_n(x) = \\frac{f^{(9+1)}(z)(x)^{(9+1)}}{(9+1)!} = \\frac{e^{z}2^{10}}{10!}\n",
    "$$\n",
    "\n",
    "Recall that $ 0 \\le z \\le 2$, and $e < 3$, we will have\n",
    "\n",
    "$$ |E_n(x)| \\le \\frac{3^{2}2^{10}}{10!} = 0.00254\n",
    "$$\n",
    "\n",
    "Therefore, if we use Taylor series with n = 9 to approximate $e^2$, our absolute error should be less than  0.00254. Let's also verifty it below. "
   ]
  },
  {
   "cell_type": "code",
   "execution_count": 9,
   "id": "32723770",
   "metadata": {},
   "outputs": [
    {
     "name": "stdout",
     "output_type": "stream",
     "text": [
      "7.3887125220458545\n"
     ]
    }
   ],
   "source": [
    "print(texp[9])"
   ]
  },
  {
   "cell_type": "code",
   "execution_count": 10,
   "id": "4026bd1d",
   "metadata": {},
   "outputs": [
    {
     "name": "stdout",
     "output_type": "stream",
     "text": [
      "0.0003435768847959153\n"
     ]
    }
   ],
   "source": [
    "print(np.abs(texp[9] - actual_exp))"
   ]
  },
  {
   "cell_type": "markdown",
   "id": "4a8b8cbb",
   "metadata": {},
   "source": [
    "### Round-off errors for Taylor series\n",
    "\n",
    "Numerically, to add many terms in a sum, we should be mindful of numerical accumulation of errors that is due to floating point round-off errors. Let us see the following example. "
   ]
  },
  {
   "cell_type": "markdown",
   "id": "d737bcd8",
   "metadata": {},
   "source": [
    "### Exercise:\n",
    "\n",
    "Approximate $e^{-3}$ using different order of Taylor series, and print out the results. "
   ]
  },
  {
   "cell_type": "code",
   "execution_count": 11,
   "id": "743b6aa6",
   "metadata": {},
   "outputs": [
    {
     "name": "stdout",
     "output_type": "stream",
     "text": [
      "The actual of e^-3 is: 0.049787068367863944\n"
     ]
    }
   ],
   "source": [
    "actual_exp3 = np.exp(-3)\n",
    "\n",
    "print(\"The actual of e^-3 is:\", actual_exp3)"
   ]
  },
  {
   "cell_type": "code",
   "execution_count": 12,
   "id": "38defe40",
   "metadata": {},
   "outputs": [],
   "source": [
    "# Taylor series approximation:\n",
    "\n",
    "# Initiate the series\n",
    "start_value = 0\n",
    "\n",
    "# Empty lists\n",
    "orde = [] # this is a list that will store the order of the T.S.\n",
    "texp = [] # This is the approximate value for a specific order\n",
    "errt = [] # This is the error array\n",
    "\n",
    "# Define order\n",
    "n = 200\n",
    "\n",
    "# Define x\n",
    "x = -3\n",
    "\n",
    "# Loop to calculate the Taylor series:\n",
    "\n",
    "for i in range(n):\n",
    "    #print(i)\n",
    "    \n",
    "    # Append solution to list\n",
    "    texp.append(start_value + x**i/np.math.factorial(i))\n",
    "    \n",
    "    # Change starting point\n",
    "    start_value = texp[i]\n",
    "    \n",
    "    # Append errors to list\n",
    "    errt.append(np.abs(texp[i] - actual_exp3))\n",
    "    \n",
    "    # Append order of T.S.\n",
    "    orde.append(i)\n"
   ]
  },
  {
   "cell_type": "code",
   "execution_count": 13,
   "id": "c317e04b",
   "metadata": {},
   "outputs": [
    {
     "data": {
      "image/png": "[encoded data removed]",
      "text/plain": [
       "<Figure size 800x600 with 1 Axes>"
      ]
     },
     "metadata": {},
     "output_type": "display_data"
    }
   ],
   "source": [
    "# Plotting\n",
    "\n",
    "plt.figure(figsize=(8,6))\n",
    "\n",
    "plt.plot(orde, np.log10(errt), label = \"errors vs. order of T.S.\")\n",
    "\n",
    "plt.show()"
   ]
  },
  {
   "cell_type": "markdown",
   "id": "7ed53d2a",
   "metadata": {},
   "source": [
    "From the above example, it is clear that our estimation using Taylor series are not close to the true value anymore, no matter how many terms you include into the calculation.\n",
    "\n",
    "This is due to the round-off errors we discussed before. When using negative large arguments, in order to get a small result, the Taylor series need alternating large numbers to cancel to achieve that.\n",
    "\n",
    "We need many digits of precision in the series to capture both the large and the small numbers with enough remaining digits to get the result in the desired output precision. Thus we have this error in the above example. "
   ]
  },
  {
   "cell_type": "markdown",
   "id": "10541300",
   "metadata": {},
   "source": [
    "### Exercise (floating-point numbers):\n",
    "\n",
    "- Create a floating point variable and initialize it to 0.1.\n",
    "\n",
    "- Now, print it out in full precision.\n",
    "\n",
    "You should see that it is not exactly 0.1 to the computer. This is the floating point error.\n",
    "\n",
    "The number 0.1 is not exactly representable in the binary format used for floating point."
   ]
  },
  {
   "cell_type": "code",
   "execution_count": 30,
   "id": "a075e277",
   "metadata": {},
   "outputs": [
    {
     "name": "stdout",
     "output_type": "stream",
     "text": [
      "0.1\n"
     ]
    }
   ],
   "source": [
    "# Fix a as 0.1\n",
    "a = 0.1\n",
    "\n",
    "print(a)"
   ]
  },
  {
   "cell_type": "code",
   "execution_count": 31,
   "id": "f8f43533",
   "metadata": {},
   "outputs": [],
   "source": [
    "# Single precision -> 32 bits = 4 bytes\n",
    "\n",
    "a32 = np.float32(0.1)\n",
    "\n",
    "# Double precision -> 64 bits = 8 bytes\n",
    "\n",
    "a64 = np.float64(0.1)\n"
   ]
  },
  {
   "cell_type": "code",
   "execution_count": 32,
   "id": "f22a2c47",
   "metadata": {},
   "outputs": [
    {
     "name": "stdout",
     "output_type": "stream",
     "text": [
      "0.1 0.1\n"
     ]
    }
   ],
   "source": [
    "print(a32, a64)"
   ]
  },
  {
   "cell_type": "code",
   "execution_count": 33,
   "id": "e9a28f23",
   "metadata": {},
   "outputs": [
    {
     "name": "stdout",
     "output_type": "stream",
     "text": [
      "0.10000000149011611938 0.10000000000000000555\n"
     ]
    }
   ],
   "source": [
    "print(format(a32, '.20g'), format(a64, '.20g'))"
   ]
  },
  {
   "cell_type": "markdown",
   "id": "a06d15d1",
   "metadata": {},
   "source": [
    "### Exercise (round-off error and machine epsilon):\n",
    "\n",
    "Write a program to find the value of ε for which $1 + \\epsilon = 1$.\n",
    "\n",
    "Start with $\\epsilon = 1$ and iterate, halving $\\epsilon$ each iteration until $1+\\epsilon = 1$.\n",
    "\n",
    "This last value of $\\epsilon$ for which this was not true is the machine epsilon.\n",
    "\n",
    "You will get a different value for single- vs. double- precision floating point arithmetic.\n",
    "\n",
    "#### Reference:\n",
    "\n",
    "https://en.wikipedia.org/wiki/Machine_epsilon"
   ]
  },
  {
   "cell_type": "markdown",
   "id": "84cb31bc",
   "metadata": {},
   "source": [
    "$1 + \\epsilon = 1$"
   ]
  },
  {
   "cell_type": "code",
   "execution_count": 34,
   "id": "e4385a3c",
   "metadata": {},
   "outputs": [],
   "source": [
    "# For 32 bit precision\n",
    "\n",
    "def machine_epsilon_32(eps):\n",
    "    \n",
    "    lhs = np.float32(1 + eps)\n",
    "    rhs = np.float32(1)\n",
    "    \n",
    "    return (lhs == rhs)"
   ]
  },
  {
   "cell_type": "code",
   "execution_count": 35,
   "id": "cd37c50e",
   "metadata": {},
   "outputs": [],
   "source": [
    "# For 64 bit precision\n",
    "\n",
    "def machine_epsilon_64(eps):\n",
    "    \n",
    "    lhs = np.float64(1 + eps)\n",
    "    rhs = np.float64(1)\n",
    "    \n",
    "    return (lhs == rhs)"
   ]
  },
  {
   "cell_type": "code",
   "execution_count": 37,
   "id": "8a96aabd",
   "metadata": {},
   "outputs": [
    {
     "name": "stdout",
     "output_type": "stream",
     "text": [
      "1 False\n",
      "0.5 False\n",
      "0.25 False\n",
      "0.125 False\n",
      "0.0625 False\n",
      "0.03125 False\n",
      "0.015625 False\n",
      "0.0078125 False\n",
      "0.00390625 False\n",
      "0.001953125 False\n",
      "0.0009765625 False\n",
      "0.00048828125 False\n",
      "0.000244140625 False\n",
      "0.0001220703125 False\n",
      "6.103515625e-05 False\n",
      "3.0517578125e-05 False\n",
      "1.52587890625e-05 False\n",
      "7.62939453125e-06 False\n",
      "3.814697265625e-06 False\n",
      "1.9073486328125e-06 False\n",
      "9.5367431640625e-07 False\n",
      "4.76837158203125e-07 False\n",
      "2.384185791015625e-07 False\n",
      "1.1920928955078125e-07 False\n",
      "5.960464477539063e-08 True\n",
      "2.9802322387695312e-08 True\n",
      "1.4901161193847656e-08 True\n",
      "7.450580596923828e-09 True\n",
      "3.725290298461914e-09 True\n",
      "1.862645149230957e-09 True\n"
     ]
    }
   ],
   "source": [
    "# Fix the # of iterations\n",
    "n = 30\n",
    "\n",
    "# Starting value for epsilon\n",
    "eps = 1\n",
    "\n",
    "for i in range(n):\n",
    "    result = machine_epsilon_32(eps)\n",
    "    \n",
    "    print(eps, result)\n",
    "    eps = eps/2\n"
   ]
  },
  {
   "cell_type": "code",
   "execution_count": 38,
   "id": "75166981",
   "metadata": {},
   "outputs": [
    {
     "name": "stdout",
     "output_type": "stream",
     "text": [
      "1 False\n",
      "0.5 False\n",
      "0.25 False\n",
      "0.125 False\n",
      "0.0625 False\n",
      "0.03125 False\n",
      "0.015625 False\n",
      "0.0078125 False\n",
      "0.00390625 False\n",
      "0.001953125 False\n",
      "0.0009765625 False\n",
      "0.00048828125 False\n",
      "0.000244140625 False\n",
      "0.0001220703125 False\n",
      "6.103515625e-05 False\n",
      "3.0517578125e-05 False\n",
      "1.52587890625e-05 False\n",
      "7.62939453125e-06 False\n",
      "3.814697265625e-06 False\n",
      "1.9073486328125e-06 False\n",
      "9.5367431640625e-07 False\n",
      "4.76837158203125e-07 False\n",
      "2.384185791015625e-07 False\n",
      "1.1920928955078125e-07 False\n",
      "5.960464477539063e-08 False\n",
      "2.9802322387695312e-08 False\n",
      "1.4901161193847656e-08 False\n",
      "7.450580596923828e-09 False\n",
      "3.725290298461914e-09 False\n",
      "1.862645149230957e-09 False\n",
      "9.313225746154785e-10 False\n",
      "4.656612873077393e-10 False\n",
      "2.3283064365386963e-10 False\n",
      "1.1641532182693481e-10 False\n",
      "5.820766091346741e-11 False\n",
      "2.9103830456733704e-11 False\n",
      "1.4551915228366852e-11 False\n",
      "7.275957614183426e-12 False\n",
      "3.637978807091713e-12 False\n",
      "1.8189894035458565e-12 False\n",
      "9.094947017729282e-13 False\n",
      "4.547473508864641e-13 False\n",
      "2.2737367544323206e-13 False\n",
      "1.1368683772161603e-13 False\n",
      "5.684341886080802e-14 False\n",
      "2.842170943040401e-14 False\n",
      "1.4210854715202004e-14 False\n",
      "7.105427357601002e-15 False\n",
      "3.552713678800501e-15 False\n",
      "1.7763568394002505e-15 False\n",
      "8.881784197001252e-16 False\n",
      "4.440892098500626e-16 False\n",
      "2.220446049250313e-16 False\n",
      "1.1102230246251565e-16 True\n",
      "5.551115123125783e-17 True\n",
      "2.7755575615628914e-17 True\n",
      "1.3877787807814457e-17 True\n",
      "6.938893903907228e-18 True\n",
      "3.469446951953614e-18 True\n",
      "1.734723475976807e-18 True\n"
     ]
    }
   ],
   "source": [
    "n   = 60\n",
    "eps = 1\n",
    "\n",
    "for i in range(n):\n",
    "    result = machine_epsilon_64(eps)\n",
    "    print(eps, result)\n",
    "    eps = eps/2"
   ]
  },
  {
   "cell_type": "markdown",
   "id": "d7e007dd",
   "metadata": {},
   "source": [
    "### Exercise (order-of-accuracy):\n",
    "\n",
    "A good way to test whether our method is behaving properly is to perform a convergence test.\n",
    "\n",
    "Consider a 5th-order accurate approximation to $sin(x)$ above.\n",
    "\n",
    "Pick a range of x’s ($<1$), and compute the error in our approximation as\n",
    "\n",
    "$\\epsilon = \\sin(x) - \\left(x -\\frac{x^3}{6}\\right)$\n",
    "\n",
    "and show that as you cut $x$ in half, $|\\epsilon|$ reduces by $2^5$, demonstrating 5th-order accuracy."
   ]
  },
  {
   "cell_type": "code",
   "execution_count": 41,
   "id": "8c35b297",
   "metadata": {},
   "outputs": [],
   "source": [
    "# Generate an x_axis\n",
    "n = 10 # number of elements for x\n",
    "a = 0  # left border\n",
    "b = 1  # right border\n",
    "\n",
    "# Define step size\n",
    "h = (b - a)/n\n",
    "\n",
    "# X axis\n",
    "x_axis = np.arange(a, b, h)\n",
    "\n",
    "#print(x_axis.shape)\n",
    "#print(x_axis)"
   ]
  },
  {
   "cell_type": "code",
   "execution_count": 42,
   "id": "bc96cfc3",
   "metadata": {},
   "outputs": [],
   "source": [
    "# Evaluate the analytical function\n",
    "func_1 = np.sin(x_axis)\n",
    "\n",
    "# Evaluate its Taylor series -> approximate solution\n",
    "func_2 = x_axis - x_axis**3/6"
   ]
  },
  {
   "cell_type": "code",
   "execution_count": 43,
   "id": "0d413706",
   "metadata": {},
   "outputs": [
    {
     "data": {
      "image/png": "[encoded data removed]",
      "text/plain": [
       "<Figure size 400x300 with 1 Axes>"
      ]
     },
     "metadata": {},
     "output_type": "display_data"
    }
   ],
   "source": [
    "plt.figure(figsize = (4, 3))\n",
    "\n",
    "plt.plot(x_axis, func_1, label = r\"$\\sin(x)$\")\n",
    "plt.plot(x_axis, func_2, label = r\"$x-\\frac{x^3}{6}$\")\n",
    "\n",
    "plt.xlabel(\"x\")\n",
    "plt.xlabel(\"sin(x)\")\n",
    "\n",
    "plt.legend()\n",
    "plt.show()"
   ]
  },
  {
   "cell_type": "markdown",
   "id": "7bc25ccd",
   "metadata": {},
   "source": [
    "### Error:"
   ]
  },
  {
   "cell_type": "code",
   "execution_count": 50,
   "id": "f0ea26fd",
   "metadata": {},
   "outputs": [],
   "source": [
    "# Error funtion\n",
    "def func_eps(x_value):\n",
    "    \n",
    "    # We expect 5th order -> error should go down by 2^5\n",
    "    eps_5 = np.abs(np.sin(x_value) - (x_value - x_value**3/6))\n",
    "\n",
    "    # We expect 7th order -> error should go down by 2^7\n",
    "    eps_7 = np.abs(np.sin(x_value) - (x_value - x_value**3/6 + x_value**5/120) )\n",
    "    \n",
    "    return eps_5, eps_7"
   ]
  },
  {
   "cell_type": "code",
   "execution_count": 51,
   "id": "34d10153",
   "metadata": {},
   "outputs": [
    {
     "name": "stdout",
     "output_type": "stream",
     "text": [
      "7.37257477290143e-18 0.0 0.0009765625\n"
     ]
    }
   ],
   "source": [
    "# Call our error function\n",
    "error1_5, error1_7 = func_eps(b)\n",
    "\n",
    "print(error1_5, error1_7, b)"
   ]
  },
  {
   "cell_type": "code",
   "execution_count": 55,
   "id": "3b7c7197",
   "metadata": {},
   "outputs": [
    {
     "name": "stdout",
     "output_type": "stream",
     "text": [
      "1 0.008137651474563135 0.0001956818587701692\n",
      "0.5 0.0002588719375363202 1.5447291303316568e-06\n",
      "0.25 8.125921189594543e-06 1.2099643731389165e-08\n",
      "0.125 2.542185610215908e-07 9.459001637512898e-11\n",
      "0.0625 7.946546864978643e-09 7.391032230685823e-13\n",
      "0.03125 2.483469124792137e-10 5.773159728050814e-15\n",
      "0.015625 7.760975889725685e-12 4.5102810375396984e-17\n",
      "0.0078125 2.425316891763174e-13 0.0\n",
      "0.00390625 7.57900686654267e-15 0.0\n",
      "0.001953125 2.3678975447083417e-16 0.0\n"
     ]
    }
   ],
   "source": [
    "b = 1\n",
    "# loop\n",
    "\n",
    "for i in range(n):\n",
    "    \n",
    "    error_5, error_7 = func_eps(b)\n",
    "    \n",
    "    print(b, error_5, error_7)\n",
    "    \n",
    "    b = b/2"
   ]
  },
  {
   "cell_type": "code",
   "execution_count": 49,
   "id": "b78f733b",
   "metadata": {},
   "outputs": [
    {
     "name": "stdout",
     "output_type": "stream",
     "text": [
      "31.435046811211073\n",
      "31.964311169649047\n"
     ]
    }
   ],
   "source": [
    "print(0.008137651474563135/0.0002588719375363202)\n",
    "print(8.125921189594543e-06/2.542185610215908e-07)"
   ]
  },
  {
   "cell_type": "code",
   "execution_count": 58,
   "id": "d253a11b",
   "metadata": {},
   "outputs": [
    {
     "name": "stdout",
     "output_type": "stream",
     "text": [
      "126.67713382744058\n",
      "127.66732348691278\n"
     ]
    }
   ],
   "source": [
    "print(0.0001956818587701692/1.5447291303316568e-06)\n",
    "print(1.5447291303316568e-06/1.2099643731389165e-08)"
   ]
  },
  {
   "cell_type": "code",
   "execution_count": null,
   "id": "c04de475",
   "metadata": {},
   "outputs": [],
   "source": []
  }
 ],
 "metadata": {
  "kernelspec": {
   "display_name": "Python 3 (ipykernel)",
   "language": "python",
   "name": "python3"
  },
  "language_info": {
   "codemirror_mode": {
    "name": "ipython",
    "version": 3
   },
   "file_extension": ".py",
   "mimetype": "text/x-python",
   "name": "python",
   "nbconvert_exporter": "python",
   "pygments_lexer": "ipython3",
   "version": "3.7.16"
  }
 },
 "nbformat": 4,
 "nbformat_minor": 5
}
